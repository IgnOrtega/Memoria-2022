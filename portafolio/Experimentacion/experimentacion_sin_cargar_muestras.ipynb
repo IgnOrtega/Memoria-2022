{
 "cells": [
  {
   "cell_type": "code",
   "execution_count": 1,
   "id": "34b119aa",
   "metadata": {
    "scrolled": true
   },
   "outputs": [
    {
     "name": "stdout",
     "output_type": "stream",
     "text": [
      "C:\\Users\\56961\n"
     ]
    }
   ],
   "source": [
    "cd"
   ]
  },
  {
   "cell_type": "code",
   "execution_count": 2,
   "id": "53fab797",
   "metadata": {
    "scrolled": true
   },
   "outputs": [
    {
     "name": "stdout",
     "output_type": "stream",
     "text": [
      "C:\\Users\\56961\\Desktop\\portafolio\n"
     ]
    }
   ],
   "source": [
    "cd Desktop\\portafolio"
   ]
  },
  {
   "cell_type": "code",
   "execution_count": 3,
   "id": "94c56abb",
   "metadata": {},
   "outputs": [
    {
     "name": "stderr",
     "output_type": "stream",
     "text": [
      "C:\\Users\\56961\\AppData\\Local\\Temp\\ipykernel_13184\\3674724974.py:1: DeprecationWarning: `magic(...)` is deprecated since IPython 0.13 (warning added in 8.1), use run_line_magic(magic_name, parameter_s).\n",
      "  get_ipython().magic('reset -sf')\n"
     ]
    }
   ],
   "source": [
    "get_ipython().magic('reset -sf')"
   ]
  },
  {
   "cell_type": "code",
   "execution_count": 4,
   "id": "1a9b5837",
   "metadata": {},
   "outputs": [
    {
     "name": "stderr",
     "output_type": "stream",
     "text": [
      "C:\\Users\\56961\\AppData\\Local\\Temp\\ipykernel_13184\\103248778.py:30: UserWarning: DelftStack\n",
      "  warnings.warn('DelftStack')\n"
     ]
    }
   ],
   "source": [
    "\n",
    "# cargar librerias\n",
    "\n",
    "# definir librerias\n",
    "import random\n",
    "import numpy as np\n",
    "import pandas as pd\n",
    "\n",
    "import numpy as np\n",
    "import seaborn as sns\n",
    "import matplotlib.pyplot as plt\n",
    "import sys\n",
    "import networkx as nx\n",
    "import pickle \n",
    "from collections import Counter\n",
    "import csv\n",
    "\n",
    "import networkx.algorithms.isomorphism as iso\n",
    "\n",
    "import scipy.io as sio\n",
    "import numpy as np\n",
    "from datetime import datetime\n",
    "\n",
    "import seaborn as sns\n",
    "import pandas as pd\n",
    "import numpy as np\n",
    "import io\n",
    "import requests\n",
    "import warnings\n",
    "warnings.filterwarnings('ignore', '.*do not.*', )\n",
    "warnings.warn('DelftStack')\n",
    "warnings.warn('Do not show this message')\n",
    "import warnings\n",
    "warnings.filterwarnings('ignore')\n",
    "\n",
    "# cd :  usar cd para fijar y ver la direccion en la que se esta.\n",
    "\n",
    "#from librerias  import algoritmos_sample as alg_sample\n",
    "#from librerias  import algoritmos_generales as alg_gral\n",
    "#from librerias  import algoritmos_freq as alg_freq\n",
    "#from librerias  import alg_fabrica_grafo as alg_grafo\n",
    "#from IPython import get_ipython"
   ]
  },
  {
   "cell_type": "code",
   "execution_count": 5,
   "id": "d9607f70",
   "metadata": {},
   "outputs": [],
   "source": [
    "from librerias import algoritmos_infectar as alg_infec\n",
    "from librerias  import alg_sample_v2 as alg_sample\n",
    "from librerias  import algoritmos_frecuentista as alg_freq"
   ]
  },
  {
   "cell_type": "code",
   "execution_count": null,
   "id": "1fcba3ce",
   "metadata": {},
   "outputs": [],
   "source": []
  },
  {
   "cell_type": "code",
   "execution_count": 26,
   "id": "fc99524d",
   "metadata": {},
   "outputs": [],
   "source": [
    "# funcion definitiva}\n",
    "def funcion_experimentacion(G,name_df,num_graph,tipo_graph, L_metodo_infec, L_porc_nodos_infec, L_tipo_sample_p_gral, L_porc_nodos_muestra, L_n_metodo_est):\n",
    "    \n",
    "    \n",
    "    set_nodos=set(G.nodes())\n",
    "    t=len(set_nodos)\n",
    "    cant_nodos=t\n",
    "    dict_nei_G={x_i:set(G.neighbors(x_i))  for x_i in list(G.nodes())}    \n",
    "    dic_grados_G=dict(G.degree( list(G.nodes()) ))\n",
    "    \n",
    "    list_nei_G=[]\n",
    "    for x_i in list(G.nodes()):\n",
    "        list_nei_G.append(set(G.neighbors(x_i)))\n",
    "    prob_acept,cant_acept=0.5, 50\n",
    "    prob_acept_p_inf,cant_acept_p_inf=0.5, 50\n",
    "    \n",
    "    col_num_graph=[]\n",
    "    col_tipo_graph=[]\n",
    "    col_metodo_infec=[]\n",
    "    col_porc_nodos_infec=[]\n",
    "    col_tipo_sample_p_gral=[]\n",
    "    col_porc_nodos_muestra=[]\n",
    "    col_tipo_sample_p_infec=[]\n",
    "    col_porc_nodos_muestra_inf=[]\n",
    "    col_n_metodo_est=[]\n",
    "\n",
    "    col_Valor_Estimado=[]\n",
    "    col_valor_error=[]\n",
    "    col_valor_error_rel=[]    \n",
    "    col_Tiempo_ejecucion=[]\n",
    "    \n",
    "    lista_infec_y_samplekey=[]\n",
    "    lista_infec_y_sample=[]\n",
    "    # Opciones variables\n",
    "    #Inicio  for \n",
    "    iter=0\n",
    "    for metodo_infec in L_metodo_infec:\n",
    "        for porc_nodos_infec in L_porc_nodos_infec:\n",
    "            # Opciones Fijas\n",
    "            ## Infectar nodos:\n",
    "            input_mpi=[0]*7\n",
    "            input_mpi[0]=G\n",
    "            input_mpi[1]=metodo_infec\n",
    "            input_mpi[2]=porc_nodos_infec\n",
    "            input_mpi[3]=list_nei_G\n",
    "            input_mpi[4]=dic_grados_G\n",
    "            input_mpi[5]=prob_acept_p_inf\n",
    "            input_mpi[6]=cant_acept_p_inf\n",
    "            lista_infectados=alg_infec.manager_proceso_infec(input_mpi)\n",
    "            set_infectados=set(lista_infectados)\n",
    "            set_noinfectados=set(G.nodes())- set_infectados\n",
    "            \n",
    "            for tipo_muestreo in L_tipo_sample_p_gral:\n",
    "                for porc_nodos in L_porc_nodos_muestra:\n",
    "                    \n",
    "                    date_1 = datetime.now()\n",
    "\n",
    "                    # Muestreo de poblacion general\n",
    "                    input_sm=[0]*7\n",
    "                    input_sm[0]=G\n",
    "                    input_sm[1]=tipo_muestreo\n",
    "                    input_sm[2]=porc_nodos\n",
    "                    input_sm[3]=list_nei_G\n",
    "                    input_sm[4]=dic_grados_G\n",
    "                    input_sm[5]=prob_acept\n",
    "                    input_sm[6]=cant_acept\n",
    "                    output_sample_manager =alg_sample.sample_manager(input_sm)\n",
    "                    if tipo_muestreo == \"2\" or tipo_muestreo == \"6\":\n",
    "                        print(\"tipo_muestreo\",tipo_muestreo)\n",
    "                        Muestra_general, est_2E,cant_aprox_hop_need = output_sample_manager[0],output_sample_manager[1],output_sample_manager[2]\n",
    "                    else:\n",
    "                        Muestra_general=output_sample_manager\n",
    "                    \n",
    "                    input_base_2=[t,set_nodos,dict_nei_G,dic_grados_G,porc_nodos_infec,set_infectados]\n",
    "                    input_base=alg_freq.calculos_basicos(tipo_muestreo,Muestra_general,input_base_2) \n",
    "                    \n",
    "                    input_base_2=[dict_nei_G,dic_grados_G,set_infectados]\n",
    "                    \n",
    "                    for n_metodo_est in L_n_metodo_est:  \n",
    "                                iter=iter+1\n",
    "                                print(iter,metodo_infec,porc_nodos_infec,tipo_muestreo, porc_nodos, n_metodo_est)                        \n",
    "\n",
    "                                if n_metodo_est>=3:\n",
    "                                    if tipo_muestreo==\"1\" or tipo_muestreo==\"2\" or tipo_muestreo==\"3\" or tipo_muestreo==\"4\":\n",
    "                                        continue\n",
    "                                \n",
    "                                if n_metodo_est>=10 and tipo_muestreo==\"5\":\n",
    "                                    continue\n",
    "                                if n_metodo_est>=3 and (metodo_infec==\"5\" or metodo_infec==\"6\"):\n",
    "                                    continue                                    \n",
    "                                        \n",
    "                                Estimacion_alg,metodo_est=alg_freq.alg_estimador_manager_zip(n_metodo_est,input_base,input_base_2,Muestra_general)\n",
    "                                #Estimacion_alg=1\n",
    "                                date_2 = datetime.now()\n",
    "\n",
    "                                #Estimacion_alg\n",
    "                                error=len(lista_infectados) - Estimacion_alg\n",
    "                                Tiempo_ejecucion=date_2 - date_1\n",
    "\n",
    "                                # guardar informacion de la iteracion en listas correspondientes\n",
    "                                col_num_graph.append(num_graph)\n",
    "                                col_tipo_graph.append(tipo_graph)\n",
    "                                \n",
    "                                col_metodo_infec.append(metodo_infec)\n",
    "                                col_porc_nodos_infec.append(porc_nodos_infec)\n",
    "                                \n",
    "                                tipo_sample_p_gral,porc_nodos_muestra=tipo_muestreo,porc_nodos\n",
    "                                col_tipo_sample_p_gral.append(tipo_sample_p_gral)\n",
    "                                col_porc_nodos_muestra.append(porc_nodos_muestra)\n",
    "                                \n",
    "                                col_n_metodo_est.append(metodo_est)\n",
    "\n",
    "                                col_Valor_Estimado.append(Estimacion_alg)\n",
    "                                col_valor_error.append(error)\n",
    "                                col_valor_error_rel.append( error/ len(lista_infectados))\n",
    "                                col_Tiempo_ejecucion.append(Tiempo_ejecucion)\n",
    "                                \n",
    "    # Termino for \n",
    "\n",
    "    # Generar DF\n",
    "    n_col1=\"Id_grafo\"\n",
    "    n_col2=\"Tipo_grafo\"\n",
    "    n_col3=\"Metodo_infeccion\"\n",
    "    n_col4=\"Porc_infectados\"\n",
    "    n_col5=\"Tipo_sample_p_gral\"\n",
    "    n_col6=\"Porc_nodos_muestra\"\n",
    "    \n",
    "    \n",
    "    n_col9=\"Num_metodo_est\"  \n",
    "\n",
    "    n_col10=\"Valor_Estimado\"\n",
    "    n_col11=\"Valor_error(Exac - Est)\"\n",
    "    n_col12=\"Valor_error_rel(Exac - Est)\"\n",
    "    n_col13=\"Tiempo_ejecucion\"    \n",
    "\n",
    "\n",
    "    col1=col_num_graph\n",
    "    col2=col_tipo_graph\n",
    "    col3=col_metodo_infec\n",
    "    col4=col_porc_nodos_infec\n",
    "\n",
    "    col5=col_tipo_sample_p_gral\n",
    "    col6=col_porc_nodos_muestra\n",
    "    \n",
    "    \n",
    "    col9=col_n_metodo_est\n",
    "\n",
    "    col10=col_Valor_Estimado\n",
    "    col11=col_valor_error\n",
    "    col12=col_valor_error_rel\n",
    "    col13=col_Tiempo_ejecucion    \n",
    "\n",
    "    dic_df={n_col1:col1 ,n_col2:col2 ,n_col3:col3 ,n_col4:col4 ,n_col5:col5 ,n_col6:col6,n_col9:col9,n_col10:col10,n_col11:col11,n_col12:col12,n_col13:col13}            \n",
    "    Df_est_m1=pd.DataFrame(dic_df)\n",
    "\n",
    "    # Guardar DF con nombre adecuado\n",
    "    name_save=name_df\n",
    "\n",
    "    var_save= Df_est_m1 # variable a guardar\n",
    "    # creamos fichero binario \n",
    "    fichero_bin= open( name_save, \"wb\")\n",
    "    # metemos la var_wsave en el fichero binario\n",
    "    pickle.dump(var_save, fichero_bin)\n",
    "    fichero_bin.close()\n",
    "    \n",
    "\n",
    "    \n",
    "    return Df_est_m1"
   ]
  },
  {
   "cell_type": "markdown",
   "id": "2e2af7c3",
   "metadata": {},
   "source": [
    "# Todas las configuraciones:"
   ]
  },
  {
   "cell_type": "code",
   "execution_count": 27,
   "id": "7529fe3a",
   "metadata": {},
   "outputs": [],
   "source": [
    "# input comple\n",
    "L_metodo_infec=[\"1\",\"2\",\"3\"]\n",
    "L_porc_nodos_infec=[0.01,0.1,0.5, 0.9]\n",
    "\n",
    "L_tipo_sample_p_gral=[\"1\",\"2\",\"3\"]\n",
    "L_porc_nodos_muestra=[0.1,0.5,0.9]\n",
    "\n",
    "L_n_metodo_est=[0,1,2]"
   ]
  },
  {
   "cell_type": "markdown",
   "id": "d9797661",
   "metadata": {},
   "source": [
    "# Confiración en especifico"
   ]
  },
  {
   "cell_type": "code",
   "execution_count": 28,
   "id": "a2e3bd6e",
   "metadata": {},
   "outputs": [],
   "source": [
    "# input comple\n",
    "L_metodo_infec=[\"5\"]\n",
    "L_porc_nodos_infec=[0.1]\n",
    "\n",
    "L_tipo_sample_p_gral=[\"5\"]\n",
    "L_porc_nodos_muestra=[0.1]\n",
    "L_n_metodo_est=[1]"
   ]
  },
  {
   "cell_type": "code",
   "execution_count": null,
   "id": "7c47af4e",
   "metadata": {},
   "outputs": [],
   "source": []
  },
  {
   "cell_type": "markdown",
   "id": "78ce7d83",
   "metadata": {},
   "source": [
    "Caso: Escala libre"
   ]
  },
  {
   "cell_type": "code",
   "execution_count": 29,
   "id": "55d660e8",
   "metadata": {},
   "outputs": [
    {
     "name": "stdout",
     "output_type": "stream",
     "text": [
      "1 5 0.1 5 0.1 1\n",
      "0:00:36.542818\n"
     ]
    },
    {
     "data": {
      "text/html": [
       "<div>\n",
       "<style scoped>\n",
       "    .dataframe tbody tr th:only-of-type {\n",
       "        vertical-align: middle;\n",
       "    }\n",
       "\n",
       "    .dataframe tbody tr th {\n",
       "        vertical-align: top;\n",
       "    }\n",
       "\n",
       "    .dataframe thead th {\n",
       "        text-align: right;\n",
       "    }\n",
       "</style>\n",
       "<table border=\"1\" class=\"dataframe\">\n",
       "  <thead>\n",
       "    <tr style=\"text-align: right;\">\n",
       "      <th></th>\n",
       "      <th>Id_grafo</th>\n",
       "      <th>Tipo_grafo</th>\n",
       "      <th>Metodo_infeccion</th>\n",
       "      <th>Porc_infectados</th>\n",
       "      <th>Tipo_sample_p_gral</th>\n",
       "      <th>Porc_nodos_muestra</th>\n",
       "      <th>Num_metodo_est</th>\n",
       "      <th>Valor_Estimado</th>\n",
       "      <th>Valor_error(Exac - Est)</th>\n",
       "      <th>Valor_error_rel(Exac - Est)</th>\n",
       "      <th>Tiempo_ejecucion</th>\n",
       "    </tr>\n",
       "  </thead>\n",
       "  <tbody>\n",
       "    <tr>\n",
       "      <th>0</th>\n",
       "      <td>0</td>\n",
       "      <td>Escala</td>\n",
       "      <td>5</td>\n",
       "      <td>0.1</td>\n",
       "      <td>5</td>\n",
       "      <td>0.1</td>\n",
       "      <td>PIMPLE</td>\n",
       "      <td>713.316062</td>\n",
       "      <td>-113.316062</td>\n",
       "      <td>-0.18886</td>\n",
       "      <td>0 days 00:00:00.048022</td>\n",
       "    </tr>\n",
       "  </tbody>\n",
       "</table>\n",
       "</div>"
      ],
      "text/plain": [
       "   Id_grafo Tipo_grafo Metodo_infeccion  Porc_infectados Tipo_sample_p_gral  \\\n",
       "0         0     Escala                5              0.1                  5   \n",
       "\n",
       "   Porc_nodos_muestra Num_metodo_est  Valor_Estimado  Valor_error(Exac - Est)  \\\n",
       "0                 0.1         PIMPLE      713.316062              -113.316062   \n",
       "\n",
       "   Valor_error_rel(Exac - Est)       Tiempo_ejecucion  \n",
       "0                     -0.18886 0 days 00:00:00.048022  "
      ]
     },
     "execution_count": 29,
     "metadata": {},
     "output_type": "execute_result"
    }
   ],
   "source": [
    "n=6000\n",
    "#lista_valor_m=[int(n/2) , int(n/8)]\n",
    "lista_valor_m=[int(n/8)]\n",
    "tipo_graph=\"Escala\"\n",
    "\n",
    "#for num_graph in range(1,25):\n",
    "for num_graph in range(1):    \n",
    "    for m in lista_valor_m:\n",
    "        date_1=datetime.now()\n",
    "        \n",
    "        name_est_last= \"Datos_grafos/grafos_v2/\"+\"graph_escala\"+\"n\"+str(6000)+\"m\"+str(m)+\"n°\"+str(num_graph)\n",
    "        name_df= \"Experimentacion/database_exp/\"+\"graph_escala\"+\"n\"+str(6000)+\"m\"+str(m)+\"n°\"+str(num_graph)\n",
    "\n",
    "        file = open(name_est_last, 'rb')\n",
    "        # dump information to that filea\n",
    "        G= pickle.load(file)\n",
    "        #close the file\n",
    "        file.close()\n",
    "\n",
    "        Df_est_m1=funcion_experimentacion(G,name_df,num_graph,tipo_graph, L_metodo_infec, L_porc_nodos_infec, L_tipo_sample_p_gral, L_porc_nodos_muestra, L_n_metodo_est)\n",
    "        #print(Df_est_m1.head(3))\n",
    "        date_2=datetime.now()    \n",
    "        print(date_2-date_1)\n",
    "Df_est_m1.head(2)"
   ]
  },
  {
   "cell_type": "code",
   "execution_count": null,
   "id": "bbbcc03c",
   "metadata": {},
   "outputs": [],
   "source": []
  },
  {
   "cell_type": "markdown",
   "id": "00eda59a",
   "metadata": {},
   "source": [
    "Caso: Grafo aleatorio"
   ]
  },
  {
   "cell_type": "code",
   "execution_count": 31,
   "id": "0eee8564",
   "metadata": {},
   "outputs": [
    {
     "name": "stdout",
     "output_type": "stream",
     "text": [
      "1 5 0.1 5 0.1 1\n",
      "0:00:04.663743\n"
     ]
    },
    {
     "data": {
      "text/html": [
       "<div>\n",
       "<style scoped>\n",
       "    .dataframe tbody tr th:only-of-type {\n",
       "        vertical-align: middle;\n",
       "    }\n",
       "\n",
       "    .dataframe tbody tr th {\n",
       "        vertical-align: top;\n",
       "    }\n",
       "\n",
       "    .dataframe thead th {\n",
       "        text-align: right;\n",
       "    }\n",
       "</style>\n",
       "<table border=\"1\" class=\"dataframe\">\n",
       "  <thead>\n",
       "    <tr style=\"text-align: right;\">\n",
       "      <th></th>\n",
       "      <th>Id_grafo</th>\n",
       "      <th>Tipo_grafo</th>\n",
       "      <th>Metodo_infeccion</th>\n",
       "      <th>Porc_infectados</th>\n",
       "      <th>Tipo_sample_p_gral</th>\n",
       "      <th>Porc_nodos_muestra</th>\n",
       "      <th>Num_metodo_est</th>\n",
       "      <th>Valor_Estimado</th>\n",
       "      <th>Valor_error(Exac - Est)</th>\n",
       "      <th>Valor_error_rel(Exac - Est)</th>\n",
       "      <th>Tiempo_ejecucion</th>\n",
       "    </tr>\n",
       "  </thead>\n",
       "  <tbody>\n",
       "    <tr>\n",
       "      <th>0</th>\n",
       "      <td>0</td>\n",
       "      <td>Aleatorio</td>\n",
       "      <td>5</td>\n",
       "      <td>0.1</td>\n",
       "      <td>5</td>\n",
       "      <td>0.1</td>\n",
       "      <td>PIMPLE</td>\n",
       "      <td>600.156097</td>\n",
       "      <td>-0.156097</td>\n",
       "      <td>-0.00026</td>\n",
       "      <td>0 days 00:00:00.040007</td>\n",
       "    </tr>\n",
       "  </tbody>\n",
       "</table>\n",
       "</div>"
      ],
      "text/plain": [
       "   Id_grafo Tipo_grafo Metodo_infeccion  Porc_infectados Tipo_sample_p_gral  \\\n",
       "0         0  Aleatorio                5              0.1                  5   \n",
       "\n",
       "   Porc_nodos_muestra Num_metodo_est  Valor_Estimado  Valor_error(Exac - Est)  \\\n",
       "0                 0.1         PIMPLE      600.156097                -0.156097   \n",
       "\n",
       "   Valor_error_rel(Exac - Est)       Tiempo_ejecucion  \n",
       "0                     -0.00026 0 days 00:00:00.040007  "
      ]
     },
     "execution_count": 31,
     "metadata": {},
     "output_type": "execute_result"
    }
   ],
   "source": [
    "#lista_valor_p=[1,0.5 ,0.2]\n",
    "lista_valor_p=[0.2]\n",
    "tipo_graph=\"Aleatorio\"\n",
    "\n",
    "\n",
    "#for num_graph in range(79,100):    \n",
    "for num_graph in range(1):        \n",
    "    for p in lista_valor_p:\n",
    "        date_1=datetime.now()\n",
    "        \n",
    "        name_est_last= \"Datos_grafos/grafos_v2/\"+\"graph\"+\"n\"+str(6000)+\"p\"+str(1/p)+\"n°\"+str(num_graph)\n",
    "        name_df= \"Experimentacion/database_exp/\"+\"graph\"+\"n\"+str(6000)+\"p\"+str(1/p)+\"n°\"+str(num_graph)\n",
    "        if p == 0.5:\n",
    "            name_est_last= \"Datos_grafos/grafos_v2/\"+\"graph\"+\"n\"+str(6000)+\"prob\"+str(1/p)+\"n°\"+str(num_graph)\n",
    "            \n",
    "        file = open(name_est_last, 'rb')\n",
    "        # dump information to that filea\n",
    "        G= pickle.load(file)\n",
    "        #close the file\n",
    "        file.close()\n",
    "\n",
    "        Df_est_m1=funcion_experimentacion(G,name_df,num_graph,tipo_graph, L_metodo_infec, L_porc_nodos_infec, L_tipo_sample_p_gral, L_porc_nodos_muestra, L_n_metodo_est)\n",
    "        #print(Df_est_m1.head(3))\n",
    "        date_2=datetime.now()    \n",
    "        print(date_2-date_1)\n",
    "Df_est_m1"
   ]
  }
 ],
 "metadata": {
  "kernelspec": {
   "display_name": "Python 3 (ipykernel)",
   "language": "python",
   "name": "python3"
  },
  "language_info": {
   "codemirror_mode": {
    "name": "ipython",
    "version": 3
   },
   "file_extension": ".py",
   "mimetype": "text/x-python",
   "name": "python",
   "nbconvert_exporter": "python",
   "pygments_lexer": "ipython3",
   "version": "3.9.7"
  }
 },
 "nbformat": 4,
 "nbformat_minor": 5
}
