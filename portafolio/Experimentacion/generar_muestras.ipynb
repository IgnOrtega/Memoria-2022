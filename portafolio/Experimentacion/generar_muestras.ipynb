{
 "cells": [
  {
   "cell_type": "code",
   "execution_count": 1,
   "id": "34b119aa",
   "metadata": {
    "scrolled": true
   },
   "outputs": [
    {
     "name": "stdout",
     "output_type": "stream",
     "text": [
      "C:\\Users\\56961\n"
     ]
    }
   ],
   "source": [
    "cd"
   ]
  },
  {
   "cell_type": "code",
   "execution_count": 2,
   "id": "53fab797",
   "metadata": {
    "scrolled": true
   },
   "outputs": [
    {
     "name": "stdout",
     "output_type": "stream",
     "text": [
      "C:\\Users\\56961\\Desktop\\portafolio\n"
     ]
    }
   ],
   "source": [
    "cd Desktop\\portafolio"
   ]
  },
  {
   "cell_type": "code",
   "execution_count": 3,
   "id": "94c56abb",
   "metadata": {
    "scrolled": true
   },
   "outputs": [
    {
     "name": "stderr",
     "output_type": "stream",
     "text": [
      "C:\\Users\\56961\\AppData\\Local\\Temp\\ipykernel_16196\\3674724974.py:1: DeprecationWarning: `magic(...)` is deprecated since IPython 0.13 (warning added in 8.1), use run_line_magic(magic_name, parameter_s).\n",
      "  get_ipython().magic('reset -sf')\n"
     ]
    }
   ],
   "source": [
    "get_ipython().magic('reset -sf')"
   ]
  },
  {
   "cell_type": "code",
   "execution_count": 4,
   "id": "1a9b5837",
   "metadata": {
    "scrolled": true
   },
   "outputs": [
    {
     "name": "stderr",
     "output_type": "stream",
     "text": [
      "C:\\Users\\56961\\AppData\\Local\\Temp\\ipykernel_16196\\103248778.py:30: UserWarning: DelftStack\n",
      "  warnings.warn('DelftStack')\n"
     ]
    }
   ],
   "source": [
    "\n",
    "# cargar librerias\n",
    "\n",
    "# definir librerias\n",
    "import random\n",
    "import numpy as np\n",
    "import pandas as pd\n",
    "\n",
    "import numpy as np\n",
    "import seaborn as sns\n",
    "import matplotlib.pyplot as plt\n",
    "import sys\n",
    "import networkx as nx\n",
    "import pickle \n",
    "from collections import Counter\n",
    "import csv\n",
    "\n",
    "import networkx.algorithms.isomorphism as iso\n",
    "\n",
    "import scipy.io as sio\n",
    "import numpy as np\n",
    "from datetime import datetime\n",
    "\n",
    "import seaborn as sns\n",
    "import pandas as pd\n",
    "import numpy as np\n",
    "import io\n",
    "import requests\n",
    "import warnings\n",
    "warnings.filterwarnings('ignore', '.*do not.*', )\n",
    "warnings.warn('DelftStack')\n",
    "warnings.warn('Do not show this message')\n",
    "import warnings\n",
    "warnings.filterwarnings('ignore')\n",
    "\n",
    "# cd :  usar cd para fijar y ver la direccion en la que se esta.\n",
    "\n",
    "#from librerias  import algoritmos_sample as alg_sample\n",
    "#from librerias  import algoritmos_generales as alg_gral\n",
    "#from librerias  import algoritmos_freq as alg_freq\n",
    "#from librerias  import alg_fabrica_grafo as alg_grafo\n",
    "#from IPython import get_ipython"
   ]
  },
  {
   "cell_type": "code",
   "execution_count": 5,
   "id": "d9607f70",
   "metadata": {
    "scrolled": true
   },
   "outputs": [],
   "source": [
    "from librerias import algoritmos_infectar as alg_infec\n",
    "from librerias  import alg_sample_v2 as alg_sample\n",
    "from librerias  import algoritmos_frecuentista as alg_freq\n",
    "\n",
    "from librerias import algoritmos_infectar as alg_infec\n",
    "from librerias  import alg_sample_v2 as alg_sample\n",
    "from librerias  import algoritmos_frecuentista as alg_freq\n",
    "from librerias  import alg_fabrica_grafo as alg_grafo"
   ]
  },
  {
   "cell_type": "markdown",
   "id": "1449e39b",
   "metadata": {},
   "source": [
    "# Definir funcion para realizar las muestras y estimaciones:"
   ]
  },
  {
   "cell_type": "code",
   "execution_count": 10,
   "id": "d894d879",
   "metadata": {},
   "outputs": [],
   "source": [
    "# funcion definitiva}\n",
    "def funcion_experimentacion(G,name_df,num_graph,alfa,tipo_graph, L_metodo_infec, L_porc_nodos_infec, L_tipo_sample_p_gral, L_porc_nodos_muestra, L_n_metodo_est):\n",
    "    \n",
    "    dic_grados_G=dict(G.degree( list(G.nodes()) ))\n",
    "    list_nei_G=[]\n",
    "    for x_i in list(G.nodes()):\n",
    "        list_nei_G.append(set(G.neighbors(x_i)))\n",
    "\n",
    "    dict_nei_G={x_i:set(G.neighbors(x_i))  for x_i in list(G.nodes())}    \n",
    "    cant_nodos=len(list(G.nodes()))    \n",
    "    prob_acept_p_inf,cant_acept_p_inf=0.5, 50\n",
    "    \n",
    "    prob_acept,cant_acept=0.5, 50\n",
    "    est_2E, cant_aprox_hop_need =0,0\n",
    "    \n",
    "\n",
    "    \n",
    "    lista_infec_y_samplekey=[]\n",
    "    lista_infec_y_sample=[]\n",
    "    # Opciones variables\n",
    "    #Inicio  for \n",
    "    iter=0\n",
    "    for metodo_infec in L_metodo_infec:\n",
    "        for porc_nodos_infec in L_porc_nodos_infec:\n",
    "                        # Opciones Fijas\n",
    "            ## Infectar nodos:\n",
    "            input_mpi=[0]*7\n",
    "            input_mpi[0]=G   # listo\n",
    "            input_mpi[1]=metodo_infec  # listo\n",
    "            input_mpi[2]=porc_nodos_infec\n",
    "            input_mpi[3]=list_nei_G\n",
    "            input_mpi[4]=dic_grados_G\n",
    "            input_mpi[5]=prob_acept_p_inf\n",
    "            input_mpi[6]=cant_acept_p_inf\n",
    "            lista_infectados=alg_infec.manager_proceso_infec(input_mpi)\n",
    "            set_infectados=set(lista_infectados)\n",
    "            set_noinfectados=set(G.nodes())- set_infectados\n",
    "            \n",
    "            lista_infec_y_samplekey.append(\"metodo_infec\"+str(metodo_infec)+\"porc_nodos_infec\" + str(porc_nodos_infec))\n",
    "            lista_infec_y_sample.append(lista_infectados)\n",
    "            for tipo_muestreo in L_tipo_sample_p_gral:\n",
    "                for porc_nodos in L_porc_nodos_muestra:\n",
    "                    \n",
    "                    \n",
    "\n",
    "                    date_1 = datetime.now()\n",
    "                    # Muestreo de poblacion general\n",
    "                    input_sm=[0]*7\n",
    "                    input_sm[0]=G\n",
    "                    input_sm[1]=tipo_muestreo\n",
    "                    input_sm[2]=porc_nodos\n",
    "                    input_sm[3]=list_nei_G\n",
    "                    input_sm[4]=dic_grados_G\n",
    "                    input_sm[5]=prob_acept\n",
    "                    input_sm[6]=cant_acept\n",
    "                    output_sample_manager =alg_sample.sample_manager(input_sm)\n",
    "                    if tipo_muestreo == \"2\" or tipo_muestreo == \"6\":\n",
    "                        Muestra_general, est_2E,cant_aprox_hop_need = output_sample_manager[0],output_sample_manager[1],output_sample_manager[2]\n",
    "                    else:\n",
    "                        Muestra_general=output_sample_manager                    \n",
    "                    lista_infec_y_samplekey.append(\"metodo_infec\"+str(metodo_infec)+\"porc_nodos_infec\" + str(porc_nodos_infec)+\"tipo_muestreo\"+str(tipo_muestreo)+\"porc_nodos\" + str(porc_nodos))\n",
    "                    lista_infec_y_sample.append(Muestra_general)\n",
    "                        \n",
    "                    for n_metodo_est in L_n_metodo_est:  \n",
    "                                iter=iter+1\n",
    "                                print(iter,metodo_infec,porc_nodos_infec,tipo_muestreo, porc_nodos, n_metodo_est)                        \n",
    "\n",
    "                                if (n_metodo_est>=3 and n_metodo_est<=6) or (n_metodo_est>=9 and n_metodo_est<=12):\n",
    "                                    if tipo_muestreo==\"1\" or tipo_muestreo==\"2\" or tipo_muestreo==\"3\" or tipo_muestreo==\"4\":\n",
    "                                        continue\n",
    "                                        \n",
    "\n",
    "                                #Estimacion_alg=alg_freq.alg_estimador_manager(n_metodo_est,G,cant_nodos, dict_nei_G, list_nei_G, dic_grados_G, set_infectados,Muestra_general, tipo_muestreo,est_2E, cant_aprox_hop_need )                                    \n",
    "                                Estimacion_alg=1\n",
    "                                date_2 = datetime.now()\n",
    "\n",
    "                               \n",
    "   \n",
    "    \n",
    "    if False:\n",
    "        # Guardar DF con nombre adecuado\n",
    "        name_save=name_df\n",
    "\n",
    "        var_save= Df_est_m1 # variable a guardar\n",
    "        # creamos fichero binario \n",
    "        fichero_bin= open( name_save, \"wb\")\n",
    "        # metemos la var_wsave en el fichero binario\n",
    "        pickle.dump(var_save, fichero_bin)\n",
    "        fichero_bin.close()\n",
    "    \n",
    "    dic_lista_infec_y_sample={lista_infec_y_samplekey[i]:lista_infec_y_sample[i] for i in range(len(lista_infec_y_sample))}\n",
    "    # Guardar DF con nombre adecuado\n",
    "    name_save_1=\"datos_muestra/\"+\"datos_tipo_graph\"+str(tipo_graph)+\"num_graph\"+str(num_graph)+\"alfa\"+str(alfa)\n",
    "    var_save_1= dic_lista_infec_y_sample # variable a guardar\n",
    "    # creamos fichero binario \n",
    "    fichero_bin= open( name_save_1, \"wb\")\n",
    "    # metemos la var_wsave en el fichero binario\n",
    "    pickle.dump(var_save_1, fichero_bin)\n",
    "    fichero_bin.close()\n",
    "    \n",
    "    return 0"
   ]
  },
  {
   "cell_type": "code",
   "execution_count": null,
   "id": "8fa188af",
   "metadata": {},
   "outputs": [],
   "source": []
  },
  {
   "cell_type": "markdown",
   "id": "2e2af7c3",
   "metadata": {},
   "source": [
    "# Todas las configuraciones:"
   ]
  },
  {
   "cell_type": "code",
   "execution_count": 11,
   "id": "7529fe3a",
   "metadata": {
    "scrolled": true
   },
   "outputs": [],
   "source": [
    "# input comple\n",
    "L_metodo_infec=[\"1\",\"2\",\"3\",\"4\"]\n",
    "L_porc_nodos_infec=[0.01,0.1,0.5, 0.9]\n",
    "\n",
    "L_tipo_sample_p_gral=[\"1\",\"2\",\"3\",\"4\",\"5\",\"6\",\"7\",\"8\"]\n",
    "L_porc_nodos_muestra=[0.1,0.5,0.9]\n",
    "L_n_metodo_est=[1,2,3,4,5,6]"
   ]
  },
  {
   "cell_type": "markdown",
   "id": "41f7da62",
   "metadata": {},
   "source": [
    "# Confiración en especifico"
   ]
  },
  {
   "cell_type": "code",
   "execution_count": 22,
   "id": "a2e3bd6e",
   "metadata": {
    "scrolled": true
   },
   "outputs": [],
   "source": [
    "# input comple\n",
    "L_metodo_infec=[\"1\"]\n",
    "L_porc_nodos_infec=[0.1]\n",
    "\n",
    "L_tipo_sample_p_gral=[\"5\"]\n",
    "L_porc_nodos_muestra=[0.1]\n",
    "L_n_metodo_est=[1]"
   ]
  },
  {
   "cell_type": "markdown",
   "id": "78ce7d83",
   "metadata": {},
   "source": [
    "Caso: Escala libre"
   ]
  },
  {
   "cell_type": "code",
   "execution_count": 23,
   "id": "55d660e8",
   "metadata": {
    "scrolled": true
   },
   "outputs": [
    {
     "name": "stdout",
     "output_type": "stream",
     "text": [
      "1 1 0.1 5 0.1 1\n",
      "0 0:00:04.895033\n"
     ]
    }
   ],
   "source": [
    "n=6000\n",
    "#lista_valor_m=[int(n/2) , int(n/8)]\n",
    "#lista_valor_m=[ int(n/2)]\n",
    "lista_valor_m=[ int(n/8)]\n",
    "tipo_graph=\"Escala\"\n",
    "\n",
    "\n",
    "#for num_graph in range(71,100):   \n",
    "for num_graph in range(1):   \n",
    "    for m in lista_valor_m:\n",
    "        date_1=datetime.now()\n",
    "        \n",
    "        name_est_last= \"Datos_grafos/grafos_v2/\"+\"graph_escala\"+\"n\"+str(6000)+\"m\"+str(m)+\"n°\"+str(num_graph)\n",
    "        name_df= \"Experimentacion/database_exp/\"+\"graph_escala\"+\"n\"+str(6000)+\"m\"+str(m)+\"n°\"+str(num_graph)\n",
    "\n",
    "        file = open(name_est_last, 'rb')\n",
    "        # dump information to that filea\n",
    "        G= pickle.load(file)\n",
    "        #close the file\n",
    "        file.close()\n",
    "\n",
    "        Df_est_m1=funcion_experimentacion(G,name_df,num_graph,m,tipo_graph, L_metodo_infec, L_porc_nodos_infec, L_tipo_sample_p_gral, L_porc_nodos_muestra, L_n_metodo_est)\n",
    "        #print(Df_est_m1.head(3))\n",
    "        date_2=datetime.now()    \n",
    "        print(num_graph,date_2-date_1)\n",
    "\n",
    "\n",
    "\n",
    "\n",
    "# 3456 combinaciones\n",
    "# 47 min el grafo denso\n",
    "# 9 min 34 seg el grafo menos denso"
   ]
  },
  {
   "cell_type": "code",
   "execution_count": null,
   "id": "6183f304",
   "metadata": {},
   "outputs": [],
   "source": []
  },
  {
   "cell_type": "markdown",
   "id": "00eda59a",
   "metadata": {},
   "source": [
    "Caso: Grafo aleatorio"
   ]
  },
  {
   "cell_type": "code",
   "execution_count": 19,
   "id": "0eee8564",
   "metadata": {
    "scrolled": true
   },
   "outputs": [
    {
     "name": "stdout",
     "output_type": "stream",
     "text": [
      "1 1 0.1 5 0.1 1\n",
      "0 0:00:09.876111\n"
     ]
    }
   ],
   "source": [
    "#lista_valor_p=[0.5 ,0.2]\n",
    "lista_valor_p=[ 0.2]\n",
    "tipo_graph=\"Aleatorio\"\n",
    "\n",
    "\n",
    "#for num_graph in range(100):\n",
    "for num_graph in range(1):    \n",
    "    for p in lista_valor_p:\n",
    "        date_1=datetime.now()\n",
    "        \n",
    "        name_est_last= \"Datos_grafos/grafos_v2/\"+\"graph\"+\"n\"+str(6000)+\"p\"+str(1/p)+\"n°\"+str(num_graph)\n",
    "        name_df= \"Experimentacion/database_exp/\"+\"graph\"+\"n\"+str(6000)+\"p\"+str(1/p)+\"n°\"+str(num_graph)\n",
    "        if p == 0.5:\n",
    "            name_est_last= \"Datos_grafos/grafos_v2/\"+\"graph\"+\"n\"+str(6000)+\"prob\"+str(1/p)+\"n°\"+str(num_graph)\n",
    "            \n",
    "        file = open(name_est_last, 'rb')\n",
    "        # dump information to that filea\n",
    "        G= pickle.load(file)\n",
    "        #close the file\n",
    "        file.close()\n",
    "\n",
    "        Df_est_m1=funcion_experimentacion(G,name_df,num_graph,p,tipo_graph, L_metodo_infec, L_porc_nodos_infec, L_tipo_sample_p_gral, L_porc_nodos_muestra, L_n_metodo_est)\n",
    "        #print(Df_est_m1.head(3))\n",
    "        date_2=datetime.now()    \n",
    "        print(num_graph,date_2-date_1)\n",
    "\n",
    "\n",
    "\n",
    "# 3456 combinaciones \n",
    "# 2:46:00.276182  min el grafo muy   denso\n",
    "# ? min el grafo medio denso\n",
    "# ? min el grafo menos denso"
   ]
  }
 ],
 "metadata": {
  "kernelspec": {
   "display_name": "Python 3 (ipykernel)",
   "language": "python",
   "name": "python3"
  },
  "language_info": {
   "codemirror_mode": {
    "name": "ipython",
    "version": 3
   },
   "file_extension": ".py",
   "mimetype": "text/x-python",
   "name": "python",
   "nbconvert_exporter": "python",
   "pygments_lexer": "ipython3",
   "version": "3.9.7"
  }
 },
 "nbformat": 4,
 "nbformat_minor": 5
}
