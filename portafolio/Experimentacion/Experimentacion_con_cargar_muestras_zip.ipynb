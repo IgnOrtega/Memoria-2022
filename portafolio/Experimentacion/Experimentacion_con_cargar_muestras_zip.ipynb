{
 "cells": [
  {
   "cell_type": "code",
   "execution_count": 1,
   "id": "34b119aa",
   "metadata": {
    "scrolled": true
   },
   "outputs": [
    {
     "name": "stdout",
     "output_type": "stream",
     "text": [
      "C:\\Users\\56961\n"
     ]
    }
   ],
   "source": [
    "cd"
   ]
  },
  {
   "cell_type": "code",
   "execution_count": 2,
   "id": "53fab797",
   "metadata": {
    "scrolled": true
   },
   "outputs": [
    {
     "name": "stdout",
     "output_type": "stream",
     "text": [
      "C:\\Users\\56961\\Desktop\\portafolio\n"
     ]
    }
   ],
   "source": [
    "cd Desktop\\portafolio"
   ]
  },
  {
   "cell_type": "code",
   "execution_count": 3,
   "id": "94c56abb",
   "metadata": {
    "scrolled": true
   },
   "outputs": [
    {
     "name": "stderr",
     "output_type": "stream",
     "text": [
      "C:\\Users\\56961\\AppData\\Local\\Temp\\ipykernel_13008\\3674724974.py:1: DeprecationWarning: `magic(...)` is deprecated since IPython 0.13 (warning added in 8.1), use run_line_magic(magic_name, parameter_s).\n",
      "  get_ipython().magic('reset -sf')\n"
     ]
    }
   ],
   "source": [
    "get_ipython().magic('reset -sf')"
   ]
  },
  {
   "cell_type": "code",
   "execution_count": 4,
   "id": "1a9b5837",
   "metadata": {
    "scrolled": true
   },
   "outputs": [
    {
     "name": "stderr",
     "output_type": "stream",
     "text": [
      "C:\\Users\\56961\\AppData\\Local\\Temp\\ipykernel_13008\\103248778.py:30: UserWarning: DelftStack\n",
      "  warnings.warn('DelftStack')\n"
     ]
    }
   ],
   "source": [
    "\n",
    "# cargar librerias\n",
    "\n",
    "# definir librerias\n",
    "import random\n",
    "import numpy as np\n",
    "import pandas as pd\n",
    "\n",
    "import numpy as np\n",
    "import seaborn as sns\n",
    "import matplotlib.pyplot as plt\n",
    "import sys\n",
    "import networkx as nx\n",
    "import pickle \n",
    "from collections import Counter\n",
    "import csv\n",
    "\n",
    "import networkx.algorithms.isomorphism as iso\n",
    "\n",
    "import scipy.io as sio\n",
    "import numpy as np\n",
    "from datetime import datetime\n",
    "\n",
    "import seaborn as sns\n",
    "import pandas as pd\n",
    "import numpy as np\n",
    "import io\n",
    "import requests\n",
    "import warnings\n",
    "warnings.filterwarnings('ignore', '.*do not.*', )\n",
    "warnings.warn('DelftStack')\n",
    "warnings.warn('Do not show this message')\n",
    "import warnings\n",
    "warnings.filterwarnings('ignore')\n",
    "\n",
    "# cd :  usar cd para fijar y ver la direccion en la que se esta.\n",
    "\n",
    "#from librerias  import algoritmos_sample as alg_sample\n",
    "#from librerias  import algoritmos_generales as alg_gral\n",
    "#from librerias  import algoritmos_freq as alg_freq\n",
    "#from librerias  import alg_fabrica_grafo as alg_grafo\n",
    "#from IPython import get_ipython"
   ]
  },
  {
   "cell_type": "code",
   "execution_count": 5,
   "id": "d9607f70",
   "metadata": {
    "scrolled": true
   },
   "outputs": [],
   "source": [
    "from librerias import algoritmos_infectar as alg_infec\n",
    "from librerias  import alg_sample_v2 as alg_sample\n",
    "from librerias  import algoritmos_frecuentista as alg_freq\n",
    "\n",
    "from librerias import algoritmos_infectar as alg_infec\n",
    "from librerias  import alg_sample_v2 as alg_sample\n",
    "from librerias  import algoritmos_frecuentista as alg_freq\n",
    "from librerias  import alg_fabrica_grafo as alg_grafo"
   ]
  },
  {
   "cell_type": "code",
   "execution_count": 20,
   "id": "862cdcb8",
   "metadata": {},
   "outputs": [],
   "source": [
    "# funcion definitiva}\n",
    "def funcion_experimentacion(G,dic_inf_y_muestreo,name_df,num_graph,alfa,tipo_graph, L_metodo_infec, L_porc_nodos_infec, L_tipo_sample_p_gral, L_porc_nodos_muestra, L_n_metodo_est):\n",
    "    \n",
    "    \n",
    "    set_nodos=set(G.nodes())\n",
    "    t=len(set_nodos)\n",
    "    cant_nodos=t\n",
    "    dict_nei_G={x_i:set(G.neighbors(x_i))  for x_i in list(G.nodes())}    \n",
    "    dic_grados_G=dict(G.degree( list(G.nodes()) ))\n",
    "    \n",
    "    list_nei_G=[]\n",
    "    for x_i in list(G.nodes()):\n",
    "        list_nei_G.append(set(G.neighbors(x_i)))\n",
    "    prob_acept,cant_acept=0.5, 50\n",
    "    prob_acept_p_inf,cant_acept_p_inf=0.5, 50\n",
    "    \n",
    "    col_num_graph=[]\n",
    "    col_tipo_graph=[]\n",
    "    col_metodo_infec=[]\n",
    "    col_porc_nodos_infec=[]\n",
    "    col_tipo_sample_p_gral=[]\n",
    "    col_porc_nodos_muestra=[]\n",
    "    col_tipo_sample_p_infec=[]\n",
    "    col_porc_nodos_muestra_inf=[]\n",
    "    col_n_metodo_est=[]\n",
    "\n",
    "    col_Valor_Estimado=[]\n",
    "    col_valor_error=[]\n",
    "    col_valor_error_rel=[]    \n",
    "    col_Tiempo_ejecucion=[]\n",
    "    \n",
    "    lista_infec_y_samplekey=[]\n",
    "    lista_infec_y_sample=[]\n",
    "    # Opciones variables\n",
    "    #Inicio  for \n",
    "    iter=0\n",
    "    for metodo_infec in L_metodo_infec:\n",
    "        for porc_nodos_infec in L_porc_nodos_infec:\n",
    "                        # Opciones Fijas\n",
    "            ## Infectar nodos:\n",
    "            input_mpi=[0]*7\n",
    "            input_mpi[0]=G   # listo\n",
    "            input_mpi[1]=metodo_infec  # listo\n",
    "            input_mpi[2]=porc_nodos_infec\n",
    "            input_mpi[3]=list_nei_G\n",
    "            input_mpi[4]=dic_grados_G\n",
    "            input_mpi[5]=prob_acept_p_inf\n",
    "            input_mpi[6]=cant_acept_p_inf\n",
    "            \n",
    "            #metodo_infec=\"1\"\n",
    "            #porc_nodos_infec=0.01\n",
    "            clave_inf=\"metodo_infec\"+str(metodo_infec)+\"porc_nodos_infec\" + str(porc_nodos_infec)\n",
    "            lista_infectados=dic_inf_y_muestreo[clave_inf]            \n",
    "            set_infectados=set(lista_infectados)\n",
    "            set_noinfectados=set(G.nodes())- set_infectados\n",
    "            \n",
    "   \n",
    "            \n",
    "            for tipo_muestreo in L_tipo_sample_p_gral:\n",
    "                for porc_nodos in L_porc_nodos_muestra:\n",
    "                    \n",
    "                    date_1 = datetime.now()\n",
    "                    # Muestreo de poblacion general\n",
    "                    input_sm=[0]*7\n",
    "                    input_sm[0]=G\n",
    "                    input_sm[1]=tipo_muestreo\n",
    "                    input_sm[2]=porc_nodos\n",
    "                    input_sm[3]=list_nei_G\n",
    "                    input_sm[4]=dic_grados_G\n",
    "                    input_sm[5]=prob_acept\n",
    "                    input_sm[6]=cant_acept\n",
    "                    \n",
    "                    #tipo_muestreo=\"2\"\n",
    "                    #porc_nodos=0.01\n",
    "                    clave_sample=\"metodo_infec\"+str(metodo_infec)+\"porc_nodos_infec\" + str(porc_nodos_infec)+\"tipo_muestreo\"+str(tipo_muestreo)+\"porc_nodos\" + str(porc_nodos)\n",
    "                    Muestra_general=dic_inf_y_muestreo[clave_sample]            \n",
    "                    \n",
    "                    input_base_2=[t,set_nodos,dict_nei_G,dic_grados_G,porc_nodos_infec,set_infectados]\n",
    "                    input_base=alg_freq.calculos_basicos(tipo_muestreo,Muestra_general,input_base_2) \n",
    "                    \n",
    "                    input_base_2=[dict_nei_G,dic_grados_G,set_infectados]\n",
    "                    \n",
    "                    for n_metodo_est in L_n_metodo_est:  \n",
    "                                iter=iter+1\n",
    "                                print(iter,metodo_infec,porc_nodos_infec,tipo_muestreo, porc_nodos, n_metodo_est)                        \n",
    "\n",
    "                                if n_metodo_est>=3:\n",
    "                                    if tipo_muestreo==\"1\" or tipo_muestreo==\"2\" or tipo_muestreo==\"3\" or tipo_muestreo==\"4\":\n",
    "                                        continue\n",
    "                                \n",
    "                                if n_metodo_est>=10 and tipo_muestreo==\"5\":\n",
    "                                    continue\n",
    "                                if n_metodo_est>=3 and (metodo_infec==\"5\" or metodo_infec==\"6\"):\n",
    "                                    continue                                    \n",
    "                                        \n",
    "                                Estimacion_alg,metodo_est=alg_freq.alg_estimador_manager_zip(n_metodo_est,input_base,input_base_2,Muestra_general)\n",
    "                                #Estimacion_alg=1\n",
    "                                date_2 = datetime.now()\n",
    "\n",
    "                                #Estimacion_alg\n",
    "                                error=len(lista_infectados) - Estimacion_alg\n",
    "                                Tiempo_ejecucion=date_2 - date_1\n",
    "\n",
    "                                # guardar informacion de la iteracion en listas correspondientes\n",
    "                                col_num_graph.append(num_graph)\n",
    "                                col_tipo_graph.append(tipo_graph)\n",
    "                                \n",
    "                                col_metodo_infec.append(metodo_infec)\n",
    "                                col_porc_nodos_infec.append(porc_nodos_infec)\n",
    "                                \n",
    "                                tipo_sample_p_gral,porc_nodos_muestra=tipo_muestreo,porc_nodos\n",
    "                                col_tipo_sample_p_gral.append(tipo_sample_p_gral)\n",
    "                                col_porc_nodos_muestra.append(porc_nodos_muestra)\n",
    "                                \n",
    "                                col_n_metodo_est.append(metodo_est)\n",
    "\n",
    "                                col_Valor_Estimado.append(Estimacion_alg)\n",
    "                                col_valor_error.append(error)\n",
    "                                col_valor_error_rel.append( error/ len(lista_infectados))\n",
    "                                col_Tiempo_ejecucion.append(Tiempo_ejecucion)\n",
    "                                \n",
    "    # Termino for \n",
    "\n",
    "    # Generar DF\n",
    "    n_col1=\"Id_grafo\"\n",
    "    n_col2=\"Tipo_grafo\"\n",
    "    n_col3=\"Metodo_infeccion\"\n",
    "    n_col4=\"Porc_infectados\"\n",
    "    n_col5=\"Tipo_sample_p_gral\"\n",
    "    n_col6=\"Porc_nodos_muestra\"\n",
    "    \n",
    "    \n",
    "    n_col9=\"Num_metodo_est\"  \n",
    "\n",
    "    n_col10=\"Valor_Estimado\"\n",
    "    n_col11=\"Valor_error(Exac - Est)\"\n",
    "    n_col12=\"Valor_error_rel(Exac - Est)\"\n",
    "    n_col13=\"Tiempo_ejecucion\"    \n",
    "\n",
    "\n",
    "    col1=col_num_graph\n",
    "    col2=col_tipo_graph\n",
    "    col3=col_metodo_infec\n",
    "    col4=col_porc_nodos_infec\n",
    "\n",
    "    col5=col_tipo_sample_p_gral\n",
    "    col6=col_porc_nodos_muestra\n",
    "    \n",
    "    \n",
    "    col9=col_n_metodo_est\n",
    "\n",
    "    col10=col_Valor_Estimado\n",
    "    col11=col_valor_error\n",
    "    col12=col_valor_error_rel\n",
    "    col13=col_Tiempo_ejecucion    \n",
    "\n",
    "    dic_df={n_col1:col1 ,n_col2:col2 ,n_col3:col3 ,n_col4:col4 ,n_col5:col5 ,n_col6:col6,n_col9:col9,n_col10:col10,n_col11:col11,n_col12:col12,n_col13:col13}            \n",
    "    Df_est_m1=pd.DataFrame(dic_df)\n",
    "\n",
    "    # Guardar DF con nombre adecuado\n",
    "    name_save=name_df\n",
    "\n",
    "    var_save= Df_est_m1 # variable a guardar\n",
    "    # creamos fichero binario \n",
    "    fichero_bin= open( name_save, \"wb\")\n",
    "    # metemos la var_wsave en el fichero binario\n",
    "    pickle.dump(var_save, fichero_bin)\n",
    "    fichero_bin.close()\n",
    "    \n",
    "\n",
    "    \n",
    "    return Df_est_m1"
   ]
  },
  {
   "cell_type": "markdown",
   "id": "2e2af7c3",
   "metadata": {},
   "source": [
    "[Modelo_Proceso.png](attachment:nuevo_modelo.png)"
   ]
  },
  {
   "cell_type": "code",
   "execution_count": null,
   "id": "7529fe3a",
   "metadata": {
    "scrolled": true
   },
   "outputs": [],
   "source": []
  },
  {
   "cell_type": "markdown",
   "id": "f5649fb4",
   "metadata": {
    "scrolled": true
   },
   "source": [
    "# Lista de estimadores"
   ]
  },
  {
   "cell_type": "code",
   "execution_count": 21,
   "id": "caf08d01",
   "metadata": {},
   "outputs": [
    {
     "data": {
      "text/plain": [
       "(16, 7)"
      ]
     },
     "execution_count": 21,
     "metadata": {},
     "output_type": "execute_result"
    }
   ],
   "source": [
    "L1=[\"GNSUM_WS\",\"GNSUM_ADAPT_WS\",\"RDS_I_v1_WS\",\"RDS_I_v2_WS\",\"RDS_I_v2_ADAPT_WS\",\"RDS_II_WS\",\"RDS_IIv2_ADAPT_WS\"]\n",
    "L_name_est=[\"PIMPLE\",\"EMV\",\"GNSUM\",\"GNSUM_ADAPT\",\"RDS_I_v1\",\"RDS_I_v2\",\"RDS_I_v2_ADAPT\",\"RDS_II\",\"RDS_II_ADAPT\"] +L1\n",
    "len(L_name_est),len(L1)"
   ]
  },
  {
   "cell_type": "markdown",
   "id": "f3863622",
   "metadata": {},
   "source": [
    "# Todas las configuraciones:"
   ]
  },
  {
   "cell_type": "code",
   "execution_count": 8,
   "id": "7c47af4e",
   "metadata": {
    "scrolled": true
   },
   "outputs": [],
   "source": [
    "# input comple\n",
    "L_metodo_infec=[\"1\",\"2\",\"3\",\"5\",\"6\"]\n",
    "L_porc_nodos_infec=[0.01,0.1,0.5, 0.9]\n",
    "\n",
    "L_tipo_sample_p_gral=[\"1\",\"2\",\"3\",\"4\",\"5\",\"6\",\"7\",\"8\"]\n",
    "L_porc_nodos_muestra=[0.1,0.5,0.9]\n",
    "L_n_metodo_est=[1,2,3,4,5,6,7,8,9,10,11,12,13,14,15,16]\n"
   ]
  },
  {
   "cell_type": "markdown",
   "id": "7a4cfcb7",
   "metadata": {},
   "source": [
    "# Confiración en especifico"
   ]
  },
  {
   "cell_type": "code",
   "execution_count": 23,
   "id": "6f12c9e3",
   "metadata": {},
   "outputs": [],
   "source": [
    "# input comple\n",
    "L_metodo_infec=[\"1\"]\n",
    "L_porc_nodos_infec=[0.1]\n",
    "\n",
    "L_tipo_sample_p_gral=[\"5\"]\n",
    "L_porc_nodos_muestra=[0.1]\n",
    "L_n_metodo_est=[1]"
   ]
  },
  {
   "cell_type": "markdown",
   "id": "78ce7d83",
   "metadata": {},
   "source": [
    "Caso: Escala libre"
   ]
  },
  {
   "cell_type": "code",
   "execution_count": 24,
   "id": "55d660e8",
   "metadata": {
    "scrolled": true
   },
   "outputs": [
    {
     "name": "stdout",
     "output_type": "stream",
     "text": [
      "1 1 0.1 5 0.1 1\n",
      "0 0:00:04.987341\n"
     ]
    },
    {
     "data": {
      "text/html": [
       "<div>\n",
       "<style scoped>\n",
       "    .dataframe tbody tr th:only-of-type {\n",
       "        vertical-align: middle;\n",
       "    }\n",
       "\n",
       "    .dataframe tbody tr th {\n",
       "        vertical-align: top;\n",
       "    }\n",
       "\n",
       "    .dataframe thead th {\n",
       "        text-align: right;\n",
       "    }\n",
       "</style>\n",
       "<table border=\"1\" class=\"dataframe\">\n",
       "  <thead>\n",
       "    <tr style=\"text-align: right;\">\n",
       "      <th></th>\n",
       "      <th>Id_grafo</th>\n",
       "      <th>Tipo_grafo</th>\n",
       "      <th>Metodo_infeccion</th>\n",
       "      <th>Porc_infectados</th>\n",
       "      <th>Tipo_sample_p_gral</th>\n",
       "      <th>Porc_nodos_muestra</th>\n",
       "      <th>Num_metodo_est</th>\n",
       "      <th>Valor_Estimado</th>\n",
       "      <th>Valor_error(Exac - Est)</th>\n",
       "      <th>Valor_error_rel(Exac - Est)</th>\n",
       "      <th>Tiempo_ejecucion</th>\n",
       "    </tr>\n",
       "  </thead>\n",
       "  <tbody>\n",
       "    <tr>\n",
       "      <th>0</th>\n",
       "      <td>0</td>\n",
       "      <td>Escala</td>\n",
       "      <td>1</td>\n",
       "      <td>0.1</td>\n",
       "      <td>5</td>\n",
       "      <td>0.1</td>\n",
       "      <td>PIMPLE</td>\n",
       "      <td>606.093459</td>\n",
       "      <td>-6.093459</td>\n",
       "      <td>-0.010156</td>\n",
       "      <td>0 days 00:00:00.023984</td>\n",
       "    </tr>\n",
       "  </tbody>\n",
       "</table>\n",
       "</div>"
      ],
      "text/plain": [
       "   Id_grafo Tipo_grafo Metodo_infeccion  Porc_infectados Tipo_sample_p_gral  \\\n",
       "0         0     Escala                1              0.1                  5   \n",
       "\n",
       "   Porc_nodos_muestra Num_metodo_est  Valor_Estimado  Valor_error(Exac - Est)  \\\n",
       "0                 0.1         PIMPLE      606.093459                -6.093459   \n",
       "\n",
       "   Valor_error_rel(Exac - Est)       Tiempo_ejecucion  \n",
       "0                    -0.010156 0 days 00:00:00.023984  "
      ]
     },
     "execution_count": 24,
     "metadata": {},
     "output_type": "execute_result"
    }
   ],
   "source": [
    "n=6000\n",
    "#lista_valor_m=[int(n/2) , int(n/8)]\n",
    "#lista_valor_m=[ int(n/2)]\n",
    "lista_valor_m=[ int(n/8)]\n",
    "tipo_graph=\"Escala\"\n",
    "\n",
    "\n",
    " \n",
    "#for num_graph in range(49,100):    \n",
    "for num_graph in range(1):    \n",
    "\n",
    "#for num_graph in [0,1,2,71]:\n",
    "    for m in lista_valor_m:\n",
    "        date_1=datetime.now()\n",
    "\n",
    "        name_est_last= \"Datos_grafos/grafos_v2/\"+\"graph_escala\"+\"n\"+str(6000)+\"m\"+str(m)+\"n°\"+str(num_graph)\n",
    "        name_df= \"Experimentacion/database_exp/\"+\"graph_escala\"+\"n\"+str(6000)+\"m\"+str(m)+\"n°\"+str(num_graph)\n",
    "\n",
    "        file = open(name_est_last, 'rb')\n",
    "        # dump information to that filea\n",
    "        G= pickle.load(file)\n",
    "        #close the file\n",
    "        file.close()\n",
    "\n",
    "        tipo_graph=\"Escala\"\n",
    "        # num_graph=num_graph\n",
    "        alfa=m\n",
    "\n",
    "        name_save_1=\"datos_muestra/\"+\"datos_tipo_graph\"+str(tipo_graph)+\"num_graph\"+str(num_graph)+\"alfa\"+str(alfa)\n",
    "        file = open(name_save_1, 'rb')\n",
    "        dic_inf_y_muestreo = pickle.load(file) #close the file\n",
    "        file.close()\n",
    "\n",
    "        Df_est_m1=funcion_experimentacion(G,dic_inf_y_muestreo,name_df,num_graph,m,tipo_graph, L_metodo_infec, L_porc_nodos_infec, L_tipo_sample_p_gral, L_porc_nodos_muestra, L_n_metodo_est)\n",
    "        #print(Df_est_m1.head(3))\n",
    "        date_2=datetime.now()    \n",
    "        print(num_graph,date_2-date_1)\n",
    "Df_est_m1\n",
    "\n",
    "\n",
    "\n",
    "# 3456 combinaciones\n",
    "# 47 min el grafo denso\n",
    "# 2 min seg el grafo menos denso"
   ]
  },
  {
   "cell_type": "code",
   "execution_count": null,
   "id": "6183f304",
   "metadata": {},
   "outputs": [],
   "source": [
    "\n"
   ]
  },
  {
   "cell_type": "markdown",
   "id": "00eda59a",
   "metadata": {},
   "source": [
    "Caso: Grafo aleatorio"
   ]
  },
  {
   "cell_type": "code",
   "execution_count": 26,
   "id": "0eee8564",
   "metadata": {
    "scrolled": true
   },
   "outputs": [
    {
     "name": "stdout",
     "output_type": "stream",
     "text": [
      "1 1 0.1 5 0.1 1\n",
      "0 0:00:06.525748\n"
     ]
    },
    {
     "data": {
      "text/html": [
       "<div>\n",
       "<style scoped>\n",
       "    .dataframe tbody tr th:only-of-type {\n",
       "        vertical-align: middle;\n",
       "    }\n",
       "\n",
       "    .dataframe tbody tr th {\n",
       "        vertical-align: top;\n",
       "    }\n",
       "\n",
       "    .dataframe thead th {\n",
       "        text-align: right;\n",
       "    }\n",
       "</style>\n",
       "<table border=\"1\" class=\"dataframe\">\n",
       "  <thead>\n",
       "    <tr style=\"text-align: right;\">\n",
       "      <th></th>\n",
       "      <th>Id_grafo</th>\n",
       "      <th>Tipo_grafo</th>\n",
       "      <th>Metodo_infeccion</th>\n",
       "      <th>Porc_infectados</th>\n",
       "      <th>Tipo_sample_p_gral</th>\n",
       "      <th>Porc_nodos_muestra</th>\n",
       "      <th>Num_metodo_est</th>\n",
       "      <th>Valor_Estimado</th>\n",
       "      <th>Valor_error(Exac - Est)</th>\n",
       "      <th>Valor_error_rel(Exac - Est)</th>\n",
       "      <th>Tiempo_ejecucion</th>\n",
       "    </tr>\n",
       "  </thead>\n",
       "  <tbody>\n",
       "    <tr>\n",
       "      <th>0</th>\n",
       "      <td>0</td>\n",
       "      <td>Aleatorio</td>\n",
       "      <td>1</td>\n",
       "      <td>0.1</td>\n",
       "      <td>5</td>\n",
       "      <td>0.1</td>\n",
       "      <td>PIMPLE</td>\n",
       "      <td>598.005109</td>\n",
       "      <td>1.994891</td>\n",
       "      <td>0.003325</td>\n",
       "      <td>0 days 00:00:00.032020</td>\n",
       "    </tr>\n",
       "  </tbody>\n",
       "</table>\n",
       "</div>"
      ],
      "text/plain": [
       "   Id_grafo Tipo_grafo Metodo_infeccion  Porc_infectados Tipo_sample_p_gral  \\\n",
       "0         0  Aleatorio                1              0.1                  5   \n",
       "\n",
       "   Porc_nodos_muestra Num_metodo_est  Valor_Estimado  Valor_error(Exac - Est)  \\\n",
       "0                 0.1         PIMPLE      598.005109                 1.994891   \n",
       "\n",
       "   Valor_error_rel(Exac - Est)       Tiempo_ejecucion  \n",
       "0                     0.003325 0 days 00:00:00.032020  "
      ]
     },
     "execution_count": 26,
     "metadata": {},
     "output_type": "execute_result"
    }
   ],
   "source": [
    "\n",
    "#lista_valor_p=[0.5 ,0.2]\n",
    "lista_valor_p=[0.2]\n",
    "#lista_valor_p=[0.5]\n",
    "tipo_graph=\"Aleatorio\"\n",
    "\n",
    "\n",
    "for num_graph in range(1):\n",
    "    for p in lista_valor_p:\n",
    "        date_1=datetime.now()\n",
    "        \n",
    "        name_est_last= \"Datos_grafos/grafos_v2/\"+\"graph\"+\"n\"+str(6000)+\"p\"+str(1/p)+\"n°\"+str(num_graph)\n",
    "        name_df= \"Experimentacion/database_exp/\"+\"graph\"+\"n\"+str(6000)+\"p\"+str(1/p)+\"n°\"+str(num_graph)\n",
    "        if p == 0.5:\n",
    "            name_est_last= \"Datos_grafos/grafos_v2/\"+\"graph\"+\"n\"+str(6000)+\"prob\"+str(1/p)+\"n°\"+str(num_graph)\n",
    "            \n",
    "        file = open(name_est_last, 'rb')\n",
    "        # dump information to that filea\n",
    "        G= pickle.load(file)\n",
    "        #close the file\n",
    "        file.close()\n",
    "        \n",
    "        tipo_graph=\"Aleatorio\"\n",
    "        # num_graph=num_graph\n",
    "        alfa=p\n",
    "        \n",
    "        name_save_1=\"datos_muestra/\"+\"datos_tipo_graph\"+str(tipo_graph)+\"num_graph\"+str(num_graph)+\"alfa\"+str(alfa)\n",
    "        file = open(name_save_1, 'rb')\n",
    "        dic_inf_y_muestreo = pickle.load(file) #close the file\n",
    "        file.close()        \n",
    "\n",
    "        Df_est_m1=funcion_experimentacion(G,dic_inf_y_muestreo,name_df,num_graph,p,tipo_graph, L_metodo_infec, L_porc_nodos_infec, L_tipo_sample_p_gral, L_porc_nodos_muestra, L_n_metodo_est)\n",
    "        #print(Df_est_m1.head(3))\n",
    "        date_2=datetime.now()    \n",
    "        print(num_graph,date_2-date_1)\n",
    "Df_est_m1\n",
    "\n",
    "\n",
    "\n",
    "\n",
    "\n",
    "\n",
    "# 3456 combinaciones \n",
    "# 2:46:00.276182  min el grafo muy   denso\n",
    "# ? min el grafo medio denso\n",
    "# ? min el grafo menos denso"
   ]
  },
  {
   "cell_type": "code",
   "execution_count": null,
   "id": "10a8ca13",
   "metadata": {
    "scrolled": true
   },
   "outputs": [],
   "source": []
  },
  {
   "cell_type": "code",
   "execution_count": null,
   "id": "476d9f85",
   "metadata": {
    "scrolled": true
   },
   "outputs": [],
   "source": []
  }
 ],
 "metadata": {
  "kernelspec": {
   "display_name": "Python 3 (ipykernel)",
   "language": "python",
   "name": "python3"
  },
  "language_info": {
   "codemirror_mode": {
    "name": "ipython",
    "version": 3
   },
   "file_extension": ".py",
   "mimetype": "text/x-python",
   "name": "python",
   "nbconvert_exporter": "python",
   "pygments_lexer": "ipython3",
   "version": "3.9.7"
  }
 },
 "nbformat": 4,
 "nbformat_minor": 5
}
