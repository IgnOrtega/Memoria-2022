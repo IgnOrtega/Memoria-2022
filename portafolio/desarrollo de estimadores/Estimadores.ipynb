{
 "cells": [
  {
   "cell_type": "code",
   "execution_count": 5,
   "id": "81738d9a",
   "metadata": {},
   "outputs": [],
   "source": [
    "# cargar librerias\n",
    "\n",
    "# definir librerias\n",
    "import random\n",
    "import numpy as np\n",
    "import pandas as pd\n",
    "\n",
    "import numpy as np\n",
    "import seaborn as sns\n",
    "import matplotlib.pyplot as plt\n",
    "import sys\n",
    "import networkx as nx\n",
    "import pickle \n",
    "from collections import Counter"
   ]
  },
  {
   "cell_type": "code",
   "execution_count": 21,
   "id": "5c2a6287",
   "metadata": {},
   "outputs": [],
   "source": [
    "import warnings\n",
    "warnings.filterwarnings('ignore')"
   ]
  },
  {
   "cell_type": "code",
   "execution_count": 22,
   "id": "47e798e9",
   "metadata": {},
   "outputs": [
    {
     "name": "stdout",
     "output_type": "stream",
     "text": [
      "C:\\Users\\56961\n"
     ]
    }
   ],
   "source": [
    "cd"
   ]
  },
  {
   "cell_type": "code",
   "execution_count": 23,
   "id": "26a51894",
   "metadata": {},
   "outputs": [
    {
     "name": "stdout",
     "output_type": "stream",
     "text": [
      "C:\\Users\\56961\\Desktop\\portafolio\n"
     ]
    }
   ],
   "source": [
    "cd Desktop\\portafolio"
   ]
  },
  {
   "cell_type": "code",
   "execution_count": 24,
   "id": "c015c637",
   "metadata": {},
   "outputs": [],
   "source": [
    "#cd Desktop/tesis/codigo_v2\n",
    "#cd ..\n",
    "#ls"
   ]
  },
  {
   "cell_type": "code",
   "execution_count": 25,
   "id": "39ee2486",
   "metadata": {},
   "outputs": [],
   "source": [
    "from librerias import algoritmos_infectar as alg_infec\n",
    "from librerias  import alg_sample_v2 as alg_sample\n",
    "from librerias  import alg_fabrica_grafo as alg_grafo\n",
    "from librerias  import algoritmos_frecuentista as alg_freq\n",
    "#from librerias.algoritmos_frecuentista  import *\n",
    "from librerias.alg_sample_v2  import *"
   ]
  },
  {
   "cell_type": "markdown",
   "id": "f355ddb6",
   "metadata": {},
   "source": [
    "### Observaciones:\n"
   ]
  },
  {
   "cell_type": "markdown",
   "id": "3143dd3f",
   "metadata": {},
   "source": []
  },
  {
   "cell_type": "markdown",
   "id": "62378c2a",
   "metadata": {},
   "source": [
    "## Cargar grafo."
   ]
  },
  {
   "cell_type": "markdown",
   "id": "88a5c128",
   "metadata": {},
   "source": [
    "a) Grafo 1:"
   ]
  },
  {
   "cell_type": "code",
   "execution_count": 31,
   "id": "cd9617db",
   "metadata": {},
   "outputs": [],
   "source": [
    "n=6000\n",
    "num_graph=0\n",
    "lista_valor_m=[int(n/2) , int(n/8)]\n",
    "m=lista_valor_m[0]\n",
    "tipo_graph=\"Escala\"\n",
    "\n",
    "name_est_last= \"Datos_grafos/grafos_v2/\"+\"graph_escala\"+\"n\"+str(6000)+\"m\"+str(m)+\"n°\"+str(num_graph)\n",
    "name_df= \"Experimentacion/database_exp/\"+\"graph_escala\"+\"n\"+str(6000)+\"m\"+str(m)+\"n°\"+str(num_graph)\n",
    "\n",
    "file = open(name_est_last, 'rb')\n",
    "# dump information to that filea\n",
    "G= pickle.load(file)\n",
    "#close the file\n",
    "file.close()"
   ]
  },
  {
   "cell_type": "code",
   "execution_count": null,
   "id": "b406ed59",
   "metadata": {},
   "outputs": [],
   "source": []
  },
  {
   "cell_type": "code",
   "execution_count": 34,
   "id": "76680e06",
   "metadata": {},
   "outputs": [],
   "source": [
    "cant_arista=len(list(G.edges()))\n",
    "cant_nodo=len(list(G.nodes()))"
   ]
  },
  {
   "cell_type": "code",
   "execution_count": null,
   "id": "31217232",
   "metadata": {},
   "outputs": [],
   "source": []
  },
  {
   "cell_type": "markdown",
   "id": "08ada45f",
   "metadata": {},
   "source": [
    "# Config de estatus sistema."
   ]
  },
  {
   "cell_type": "code",
   "execution_count": 35,
   "id": "d26a9810",
   "metadata": {},
   "outputs": [],
   "source": [
    "dic_grados_G=dict(G.degree( list(G.nodes()) ))\n",
    "list_nei_G=[]\n",
    "for x_i in list(G.nodes()):\n",
    "    list_nei_G.append(set(G.neighbors(x_i)))\n",
    "\n",
    "dict_nei_G={x_i:set(G.neighbors(x_i))  for x_i in list(G.nodes())}    \n",
    "cant_nodos=len(list(G.nodes()))    \n",
    "t=cant_nodos\n",
    "total_aristas=len(G.edges)\n",
    "#set_infectados\n",
    "#lista_infectados\n",
    "#Muestra_general,muestra_sr, est_2E, cant_aprox_hop_need"
   ]
  },
  {
   "cell_type": "markdown",
   "id": "aad9863d",
   "metadata": {},
   "source": [
    "# Configuracón para el  Conjunto $H$ a estimar y del muestreo:"
   ]
  },
  {
   "cell_type": "code",
   "execution_count": 36,
   "id": "1d340378",
   "metadata": {},
   "outputs": [],
   "source": [
    "#Input infec # config para el conjunto H\n",
    "metodo_infec=\"1\"   # 1- 4   # prob ; cant ; prob ; cant  / sin repeteicion / con repeticion\n",
    "porc_nodos_inf=0.3\n",
    "prob_acept_p_inf=1/100\n",
    "cant_acept_p_inf=10\n",
    "\n",
    "#Input muestreo poblacion general\n",
    "tipo_muestreo=\"7\"\n",
    "porc_nodos=0.20\n",
    "prob_acept=1/100\n",
    "cant_acept=10\n",
    "\n"
   ]
  },
  {
   "cell_type": "markdown",
   "id": "0a3ade85",
   "metadata": {},
   "source": [
    "# Definir el conjunto $H$ y Muestrear."
   ]
  },
  {
   "cell_type": "code",
   "execution_count": 37,
   "id": "fe419d37",
   "metadata": {},
   "outputs": [
    {
     "name": "stdout",
     "output_type": "stream",
     "text": [
      "Nodos_infec 1800 \n",
      "\n"
     ]
    }
   ],
   "source": [
    "## Infectar nodos:\n",
    "input_mpi=[0]*7\n",
    "input_mpi[0]=G\n",
    "input_mpi[1]=metodo_infec\n",
    "input_mpi[2]=porc_nodos_inf\n",
    "input_mpi[3]=list_nei_G\n",
    "input_mpi[4]=dic_grados_G\n",
    "input_mpi[5]=prob_acept_p_inf\n",
    "input_mpi[6]=cant_acept_p_inf\n",
    "lista_infectados=alg_infec.manager_proceso_infec(input_mpi)\n",
    "set_infectados=set(lista_infectados)\n",
    "print(\"Nodos_infec\",len(lista_infectados),\"\\n\")\n",
    "\n",
    "# Muestreo de poblacion general\n",
    "input_sm=[0]*7\n",
    "input_sm[0]=G\n",
    "input_sm[1]=tipo_muestreo\n",
    "input_sm[2]=porc_nodos\n",
    "input_sm[3]=list_nei_G\n",
    "input_sm[4]=dic_grados_G\n",
    "input_sm[5]=prob_acept\n",
    "input_sm[6]=cant_acept\n",
    "output_sample_manager =alg_sample.sample_manager(input_sm)\n",
    "if tipo_muestreo == \"2\" or tipo_muestreo == \"6\":\n",
    "    print(\"tipo_muestreo\",tipo_muestreo)\n",
    "    Muestra_general, est_2E,cant_aprox_hop_need = output_sample_manager[0],output_sample_manager[1],output_sample_manager[2]\n",
    "else:\n",
    "    Muestra_general=output_sample_manager"
   ]
  },
  {
   "cell_type": "markdown",
   "id": "c432fe45",
   "metadata": {},
   "source": [
    "## Ejecutar el algoritmo."
   ]
  },
  {
   "cell_type": "code",
   "execution_count": 38,
   "id": "150bce45",
   "metadata": {},
   "outputs": [],
   "source": [
    "dic_grados_G=dict(G.degree( list(G.nodes()) ))\n",
    "list_nei_G=[]\n",
    "for x_i in list(G.nodes()):\n",
    "    list_nei_G.append(set(G.neighbors(x_i)))\n",
    "\n",
    "dict_nei_G={x_i:set(G.neighbors(x_i))  for x_i in list(G.nodes())}    \n",
    "set_nodos=set(G.nodes())\n",
    "cant_nodos=len(list(G.nodes()))    \n",
    "prob_acept_p_inf,cant_acept_p_inf=0.5, 50\n",
    "t=cant_nodos\n",
    "prob_acept,cant_acept=0.5, 50\n",
    "est_2E, cant_aprox_hop_need =0,0"
   ]
  },
  {
   "cell_type": "markdown",
   "id": "a77c9f0f",
   "metadata": {},
   "source": [
    "# Todos los estimadores juntos:"
   ]
  },
  {
   "cell_type": "code",
   "execution_count": 39,
   "id": "af5cae2a",
   "metadata": {},
   "outputs": [
    {
     "name": "stdout",
     "output_type": "stream",
     "text": [
      "1200 0.2984737139626908\n"
     ]
    }
   ],
   "source": [
    "M=len(Muestra_general)\n",
    "#tipo_muestreo=\"1\"\n",
    "\n",
    "\n",
    "if tipo_muestreo == \"1\" or tipo_muestreo == \"2\" or tipo_muestreo == \"3\" or tipo_muestreo == \"4\" or tipo_muestreo == \"5\":\n",
    "    \n",
    "    set_noinfectados=set_nodos-set_infectados\n",
    "    suma_1,suma_2,suma_3,suma_4,suma_5,suma_6,suma_7,suma_8=[0]*8\n",
    "    for x_i in Muestra_general:\n",
    "        neig_i=list_nei_G[x_i]\n",
    "        yih= len(neig_i & set_infectados)  \n",
    "        yiJ= len(neig_i & set_noinfectados)  \n",
    "        d_i=dic_grados_G[x_i]\n",
    "        func_directriz=len({x_i} & set_infectados)\n",
    "        g_directriz=-func_directriz+1\n",
    "        \n",
    "        suma_1=suma_1+yih/d_i\n",
    "        suma_2=suma_2+yih\n",
    "        suma_3=suma_3+d_i\n",
    "        suma_4=suma_4+func_directriz\n",
    "        suma_5=suma_5+func_directriz*d_i\n",
    "        suma_6=suma_6+g_directriz\n",
    "        suma_7=suma_7+g_directriz*d_i\n",
    "        suma_8=suma_8+yiJ\n",
    "    input_base=[porc_nodos_inf,tipo_muestreo,t,M,suma_1,suma_2,suma_3,suma_4,suma_5,suma_6,suma_7,suma_8]\n",
    "\n",
    "#return suma_1,suma_2,suma_3,suma_4,suma_5,suma_6,suma_7,M\n",
    "\n",
    "else:\n",
    "    \n",
    "    set_noinfectados=set_nodos-set_infectados\n",
    "    suma_1,suma_2,suma_3,suma_4,suma_5,suma_6,suma_7,suma_8,suma_9,suma_10,suma_11,suma_12=[0]*12\n",
    "    for x_i in Muestra_general[1:]:\n",
    "        neig_i=list_nei_G[x_i]\n",
    "        yih= len(neig_i & set_infectados)  \n",
    "        yiJ= len(neig_i & set_noinfectados)  \n",
    "        d_i=dic_grados_G[x_i]\n",
    "        func_directriz=len({x_i} & set_infectados)\n",
    "        g_directriz=-func_directriz+1\n",
    "        \n",
    "        suma_1=suma_1+yih/d_i\n",
    "        suma_2=suma_2+yih\n",
    "        suma_3=suma_3+d_i\n",
    "        suma_4=suma_4+func_directriz\n",
    "        suma_5=suma_5+func_directriz*d_i\n",
    "        suma_6=suma_6+g_directriz\n",
    "        suma_7=suma_7+g_directriz*d_i\n",
    "        suma_8=suma_8+yiJ\n",
    "        suma_9=suma_9+1/d_i\n",
    "        suma_10=suma_10+func_directriz/d_i\n",
    "        suma_11=suma_11+yiJ/d_i        \n",
    "        suma_12=suma_12+g_directriz/d_i\n",
    "        \n",
    "    x_0=Muestra_general[0]\n",
    "    neig_0=list_nei_G[x_0]\n",
    "    yih= len(neig_0 & set_infectados)  \n",
    "    d_i=dic_grados_G[x_0]\n",
    "\n",
    "    # infectados\n",
    "    suma_01=yih/d_i\n",
    "    suma_02=yih\n",
    "    suma_03=d_i\n",
    "\n",
    "    func_directriz=len({x_0} & set_infectados)\n",
    "    suma_04=func_directriz\n",
    "    suma_05=func_directriz*d_i\n",
    "\n",
    "    # NO infectados\n",
    "    g_directriz=-func_directriz+1\n",
    "    suma_06=g_directriz\n",
    "    suma_07=g_directriz*d_i\n",
    "    yiJ= len(neig_0 & set_noinfectados)\n",
    "    suma_08=yiJ\n",
    "    \n",
    "    \n",
    "    input_base=[porc_nodos_inf,tipo_muestreo,t,M]+[suma_01,suma_1,suma_02,suma_2,suma_03,suma_3,suma_04,suma_4,suma_05,suma_5,suma_06,suma_6,suma_07,suma_7,suma_08,suma_8,suma_9,suma_10,suma_11,suma_12]\n",
    "    print(input_base[3],input_base[4])\n",
    "    \n",
    "input_base_2=[dict_nei_G,dic_grados_G,set_infectados]    "
   ]
  },
  {
   "cell_type": "code",
   "execution_count": 40,
   "id": "82bf5c81",
   "metadata": {},
   "outputs": [],
   "source": [
    "[porc_nodos_inf,tipo_muestreo,t,M]=input_base[0:4]\n",
    "[suma_01,suma_1,suma_02,suma_2,suma_03,suma_3,suma_04,suma_4,suma_05,suma_5]=input_base[4:14]\n",
    "[suma_06,suma_6,suma_07,suma_7,suma_08,suma_8,suma_9,suma_10,suma_11,suma_12]=input_base[14:24]\n",
    "\n",
    "L1=[porc_nodos_inf,tipo_muestreo,t,M]  \n",
    "L2=[suma_01,suma_1,suma_02,suma_2,suma_03,suma_3,suma_04,suma_4,suma_05,suma_5]\n",
    "L3=[suma_06,suma_6,suma_07,suma_7,suma_08,suma_8,suma_9,suma_10,suma_11,suma_12]"
   ]
  },
  {
   "cell_type": "code",
   "execution_count": null,
   "id": "d6e3524d",
   "metadata": {},
   "outputs": [],
   "source": []
  },
  {
   "cell_type": "code",
   "execution_count": 41,
   "id": "c5c9d774",
   "metadata": {},
   "outputs": [
    {
     "data": {
      "text/plain": [
       "(1798.03055601966,\n",
       " 1797.5812813298976,\n",
       " 1800.252434189371,\n",
       " 1800.0475976364096,\n",
       " 1799.7315998955114,\n",
       " 1802.3397204784226)"
      ]
     },
     "execution_count": 41,
     "metadata": {},
     "output_type": "execute_result"
    }
   ],
   "source": [
    "def N_u_PIMPLE(input_base):\n",
    "    tipo_muestreo=input_base[1]\n",
    "    if tipo_muestreo == \"1\" or tipo_muestreo == \"2\" or tipo_muestreo == \"3\" or tipo_muestreo == \"4\" or tipo_muestreo == \"5\":\n",
    "        [porc_nodos_inf,tipo_muestreo,t,M,suma_1,suma_2,suma_3,suma_4,suma_5,suma_6,suma_7,suma_8]=input_base\n",
    "        est_N_u_PIMPLE=t/M *suma_1\n",
    "    else:\n",
    "        [porc_nodos_inf,tipo_muestreo,t,M,suma_01,suma_1,suma_02,suma_2,suma_03,suma_3,suma_04,suma_4,suma_05,suma_5,suma_06,suma_6,suma_07,suma_7,suma_08,suma_8,suma_9,suma_10,suma_11,suma_12]=input_base\n",
    "        est_N_u_PIMPLE=t/M *(suma_01 +suma_1)\n",
    "    return est_N_u_PIMPLE\n",
    "\n",
    "#input_base=[porc_nodos_inf,tipo_muestreo,t,M,suma_1,suma_2,suma_3,suma_4,suma_5,suma_6,suma_7,suma_8]\n",
    "#input_base=[porc_nodos_inf,tipo_muestreo,t,M]+[suma_01,suma_1,suma_02,suma_2,suma_03,suma_3,suma_04,suma_4,suma_05,suma_5,suma_06,suma_6,suma_07,suma_7,suma_08,suma_8,suma_9,suma_10,suma_11,suma_12]\n",
    "est_1=N_u_PIMPLE(input_base)\n",
    "\n",
    "def N_u_EMV(input_base):\n",
    "    tipo_muestreo=input_base[1]\n",
    "    if tipo_muestreo == \"1\" or tipo_muestreo == \"2\" or tipo_muestreo == \"3\" or tipo_muestreo == \"4\" or tipo_muestreo == \"5\":\n",
    "        [porc_nodos_inf,tipo_muestreo,t,M,suma_1,suma_2,suma_3,suma_4,suma_5,suma_6,suma_7,suma_8]=input_base\n",
    "        est_2=t*suma_2/suma_3\n",
    "    else:\n",
    "        [porc_nodos_inf,tipo_muestreo,t,M,suma_01,suma_1,suma_02,suma_2,suma_03,suma_3,suma_04,suma_4,suma_05,suma_5,suma_06,suma_6,suma_07,suma_7,suma_08,suma_8,suma_9,suma_10,suma_11,suma_12]=input_base\n",
    "        est_2=t*(suma_02+suma_2)/(suma_03+suma_3)\n",
    "        \n",
    "    return est_2\n",
    "\n",
    "#input_base=[porc_nodos_inf,tipo_muestreo,t,M,suma_1,suma_2,suma_3,suma_4,suma_5,suma_6,suma_7,suma_8]\n",
    "#input_base=[porc_nodos_inf,tipo_muestreo,t,M]+[suma_01,suma_1,suma_02,suma_2,suma_03,suma_3,suma_04,suma_4,suma_05,suma_5,suma_06,suma_6,suma_07,suma_7,suma_08,suma_8,suma_9,suma_10,suma_11,suma_12]\n",
    "est_2=N_u_EMV(input_base)\n",
    "\n",
    "\n",
    "def gnsum(input_base):\n",
    "    tipo_muestreo=input_base[1]\n",
    "    \n",
    "    if tipo_muestreo==\"5\":\n",
    "        [porc_nodos_inf,tipo_muestreo,t,M,suma_1,suma_2,suma_3,suma_4,suma_5,suma_6,suma_7,suma_8]=input_base\n",
    "        est_3=t/M*suma_2/suma_5*suma_4\n",
    "    elif tipo_muestreo == \"6\" or tipo_muestreo == \"7\" or tipo_muestreo == \"8\":\n",
    "        [porc_nodos_inf,tipo_muestreo,t,M,suma_01,suma_1,suma_02,suma_2,suma_03,suma_3,suma_04,suma_4,suma_05,suma_5,suma_06,suma_6,suma_07,suma_7,suma_08,suma_8,suma_9,suma_10,suma_11,suma_12]=input_base\n",
    "        num=1/M*(t * suma_02 + (M-1) * t/(suma_9) *suma_1)\n",
    "        den=(suma_05*t + (M-1) * t/(suma_9) * suma_4 ) / (suma_04 * t +  (M-1) * t/suma_9 * suma_10)\n",
    "        est_3=num/den\n",
    "        \n",
    "    return est_3\n",
    "\n",
    "#input_base=[porc_nodos_inf,tipo_muestreo,t,M,suma_1,suma_2,suma_3,suma_4,suma_5,suma_6,suma_7,suma_8]\n",
    "#input_base=[porc_nodos_inf,tipo_muestreo,t,M]+[suma_01,suma_1,suma_02,suma_2,suma_03,suma_3,suma_04,suma_4,suma_05,suma_5,suma_06,suma_6,suma_07,suma_7,suma_08,suma_8,suma_9,suma_10,suma_11,suma_12]\n",
    "est_3=gnsum(input_base)\n",
    "\n",
    "\n",
    "\n",
    "\n",
    "def gnsum_adapt(input_base):\n",
    "    [porc_nodos_inf,tipo_muestreo]=input_base[:2]\n",
    "    \n",
    "    if tipo_muestreo==\"5\":\n",
    "        [porc_nodos_inf,tipo_muestreo,t,M,suma_1,suma_2,suma_3,suma_4,suma_5,suma_6,suma_7,suma_8]=input_base\n",
    "        if porc_nodos_inf >=0.5:\n",
    "            est_4=gnsum(input_base)\n",
    "        else:\n",
    "            est_B=t/M*suma_8/suma_7*suma_6\n",
    "            est_4=t-est_B\n",
    "    elif tipo_muestreo == \"6\" or tipo_muestreo == \"7\" or tipo_muestreo == \"8\":\n",
    "        [porc_nodos_inf,tipo_muestreo,t,M,suma_01,suma_1,suma_02,suma_2,suma_03,suma_3,suma_04,suma_4,suma_05,suma_5,suma_06,suma_6,suma_07,suma_7,suma_08,suma_8,suma_9,suma_10,suma_11,suma_12]=input_base\n",
    "        if porc_nodos_inf >=0.5:\n",
    "            est_4=gnsum(input_base)\n",
    "        else:\n",
    "            num=1/M*(suma_08*t  + (M-1) * t/(suma_9) * suma_11)\n",
    "            den=(suma_07*t + (M-1) * t/(suma_9) * suma_6 ) / (suma_06 * t +  (M-1) * t/suma_9 * suma_12)\n",
    "            est_B=num/den\n",
    "            est_4=t-est_B\n",
    "    return est_4\n",
    "\n",
    "            \n",
    "#input_base=[porc_nodos_inf,tipo_muestreo,t,M,suma_1,suma_2,suma_3,suma_4,suma_5,suma_6,suma_7,suma_8]\n",
    "#input_base=[porc_nodos_inf,tipo_muestreo,t,M]+[suma_01,suma_1,suma_02,suma_2,suma_03,suma_3,suma_04,suma_4,suma_05,suma_5,suma_06,suma_6,suma_07,suma_7,suma_08,suma_8,suma_9,suma_10,suma_11,suma_12]\n",
    "est_4=gnsum_adapt(input_base)        \n",
    "\n",
    "\n",
    "\n",
    "    #[porc_nodos_inf,tipo_muestreo,t,M,suma_1,suma_2,suma_3,suma_4,suma_5,suma_6,suma_7,suma_8]=input_base\n",
    "\n",
    "def estimator_RDS_I_V1(input_base,input_base_2,Muestra_general):\n",
    "    [tipo_muestreo]=input_base[1]\n",
    "    if tipo_muestreo==\"5\":\n",
    "        [porc_nodos_inf,tipo_muestreo,t,M,suma_1,suma_2,suma_3,suma_4,suma_5,suma_6,suma_7,suma_8]=input_base\n",
    "\n",
    "        est_C_ab,est_C_ba=alg_freq.estimacion_Cab(input_base_2,Muestra_general)\n",
    "        est_D_A=suma_5/suma_4\n",
    "        est_D_B=suma_7/suma_6\n",
    "\n",
    "        N_A=cant_nodos* (est_D_B*est_C_ba)/(est_D_A*est_C_ab + est_D_B*est_C_ba)\n",
    "    elif tipo_muestreo == \"6\" or tipo_muestreo == \"7\" or tipo_muestreo == \"8\":\n",
    "        [porc_nodos_inf,tipo_muestreo,t,M,suma_01,suma_1,suma_02,suma_2,suma_03,suma_3,suma_04,suma_4,suma_05,suma_5,suma_06,suma_6,suma_07,suma_7,suma_08,suma_8,suma_9,suma_10,suma_11,suma_12]=input_base\n",
    "        est_2aristas=(M-1) * t/(suma_9)\n",
    "        est_C_ab,est_C_ba=alg_freq.estimacion_Cab(input_base_2,Muestra_general)\n",
    "\n",
    "        est_D_A= (suma_05*t+ est_2aristas*suma_4)/(suma_04*t+ est_2aristas *suma_10 )\n",
    "        est_D_B= (suma_07*t+ est_2aristas*suma_6)/(suma_06*t+ est_2aristas *suma_12 )\n",
    "\n",
    "        N_A=cant_nodos* (est_D_B*est_C_ba)/(est_D_A*est_C_ab + est_D_B*est_C_ba)\n",
    "    return N_A\n",
    "\n",
    "\n",
    "\n",
    "#input_base=[porc_nodos_inf,tipo_muestreo,t,M,suma_1,suma_2,suma_3,suma_4,suma_5,suma_6,suma_7,suma_8]\n",
    "#input_base=[porc_nodos_inf,tipo_muestreo,t,M]+[suma_01,suma_1,suma_02,suma_2,suma_03,suma_3,suma_04,suma_4,suma_05,suma_5,suma_06,suma_6,suma_07,suma_7,suma_08,suma_8,suma_9,suma_10,suma_11,suma_12]\n",
    "#input_base_2=[dict_nei_G,dic_grados_G,set_infectados]\n",
    "N_A=estimator_RDS_I_V1(input_base,input_base_2,Muestra_general)\n",
    "\n",
    "              \n",
    "def estimador_rds1_v2(input_base,input_base_2,Muestra_general):  # estima D_B\n",
    "    [tipo_muestreo]=input_base[1]\n",
    "    if tipo_muestreo==\"5\":\n",
    "        [porc_nodos_inf,tipo_muestreo,t,M,suma_1,suma_2,suma_3,suma_4,suma_5,suma_6,suma_7,suma_8]=input_base\n",
    "\n",
    "        est_C_ab,est_C_ba=alg_freq.estimacion_Cab(input_base_2,Muestra_general)\n",
    "        est_D_B=suma_7/suma_6\n",
    "        est_2aristas=t*suma_3/M\n",
    "        \n",
    "        beta=est_C_ba*est_D_B\n",
    "        est_D_A= (est_2aristas * beta) /( t*(beta +est_D_B *est_C_ab )- est_2aristas*est_C_ab )    \n",
    "        est_rds_1v2=cant_nodos* (est_D_B*est_C_ba)/(est_D_A*est_C_ab + est_D_B*est_C_ba)\n",
    "    elif tipo_muestreo == \"6\" or tipo_muestreo == \"7\" or tipo_muestreo == \"8\":\n",
    "        \n",
    "        [porc_nodos_inf,tipo_muestreo,t,M,suma_01,suma_1,suma_02,suma_2,suma_03,suma_3,suma_04,suma_4,suma_05,suma_5,suma_06,suma_6,suma_07,suma_7,suma_08,suma_8,suma_9,suma_10,suma_11,suma_12]=input_base\n",
    "        est_2aristas=(M-1) * t/(suma_9)\n",
    "        est_C_ab,est_C_ba=alg_freq.estimacion_Cab(input_base_2,Muestra_general)\n",
    "        est_D_B= (suma_07*t+ est_2aristas*suma_6)/(suma_06*t+ est_2aristas *suma_12 )\n",
    "        \n",
    "        beta=est_C_ba*est_D_B\n",
    "        est_D_A= (est_2aristas * beta) /( t*(beta +est_D_B *est_C_ab )- est_2aristas*est_C_ab )    \n",
    "        est_rds_1v2=t* (est_D_B*est_C_ba)/(est_D_A*est_C_ab + est_D_B*est_C_ba)\n",
    "\n",
    "    return est_rds_1v2\n",
    "\n",
    "#input_base=[porc_nodos_inf,tipo_muestreo,t,M,suma_1,suma_2,suma_3,suma_4,suma_5,suma_6,suma_7,suma_8]\n",
    "#input_base=[porc_nodos_inf,tipo_muestreo,t,M]+[suma_01,suma_1,suma_02,suma_2,suma_03,suma_3,suma_04,suma_4,suma_05,suma_5,suma_06,suma_6,suma_07,suma_7,suma_08,suma_8,suma_9,suma_10,suma_11,suma_12]\n",
    "#input_base_2=[dict_nei_G,dic_grados_G,set_infectados]\n",
    "est_rds_1v2=estimador_rds1_v2(input_base,input_base_2,Muestra_general)\n",
    "\n",
    "\n",
    "\n",
    "est_1,est_2,est_3,est_4,N_A,est_rds_1v2\n",
    "#print(est_1,est_2,est_3,est_4,N_A,est_rds_1v2,est_rds_1v2_adapt)\n"
   ]
  },
  {
   "cell_type": "code",
   "execution_count": null,
   "id": "f024d348",
   "metadata": {},
   "outputs": [],
   "source": []
  },
  {
   "cell_type": "code",
   "execution_count": 42,
   "id": "edd17f21",
   "metadata": {},
   "outputs": [
    {
     "data": {
      "text/plain": [
       "(1802.3397204784226, 1680.9787887152554, 1680.9787887152534)"
      ]
     },
     "execution_count": 42,
     "metadata": {},
     "output_type": "execute_result"
    }
   ],
   "source": [
    "#input_base_2=[dict_nei_G,dic_grados_G,set_infectados]\n",
    "def estimador_rds1_v2_adapt(input_base,input_base_2,Muestra_general):\n",
    "    porc_nodos_inf,tipo_muestreo=input_base[:2]\n",
    "    \n",
    "    if tipo_muestreo==\"5\":\n",
    "        [porc_nodos_inf,tipo_muestreo,t,M,suma_1,suma_2,suma_3,suma_4,suma_5,suma_6,suma_7,suma_8]=input_base\n",
    "        if porc_nodos_inf <= 0.5:\n",
    "            # caso muestreo 5 y porc bajo infec\n",
    "            est_rds_1v2_adapt=estimador_rds1_v2(input_base,input_base_2,Muestra_general)\n",
    "\n",
    "        else:\n",
    "            # caso muestreo 5 y porc alto infec\n",
    "            est_C_ab,est_C_ba=alg_freq.estimacion_Cab(input_base_2,Muestra_general)\n",
    "            est_D_A=suma_5/suma_4\n",
    "            est_2aristas=t*suma_3/M\n",
    "\n",
    "            beta=est_C_ab*est_D_A\n",
    "            est_D_B= (est_2aristas * beta) /( t*(beta +est_D_A *est_C_ba )- est_2aristas*est_C_ba )\n",
    "            est_rds_1v2_adapt=cant_nodos* (est_D_B*est_C_ba)/(est_D_A*est_C_ab + est_D_B*est_C_ba)\n",
    "                \n",
    "    elif tipo_muestreo == \"6\" or tipo_muestreo == \"7\" or tipo_muestreo == \"8\": # caso muestreo 6,7,8\n",
    "        [porc_nodos_inf,tipo_muestreo,t,M,suma_01,suma_1,suma_02,suma_2,suma_03,suma_3,suma_04,suma_4,suma_05,suma_5,suma_06,suma_6,suma_07,suma_7,suma_08,suma_8,suma_9,suma_10,suma_11,suma_12]=input_base\n",
    "        \n",
    "        if porc_nodos_inf <= 0.5:\n",
    "            # caso muestreo 6,7,8 y porc bajo infec\n",
    "            est_rds_1v2_adapt=estimador_rds1_v2(input_base,input_base_2,Muestra_general)\n",
    "            \n",
    "        else:\n",
    "            # caso muestreo 6,7,8 y porc alto infec\n",
    "            est_C_ab,est_C_ba=alg_freq.estimacion_Cab(input_base_2,Muestra_general)\n",
    "            est_2aristas=(M-1) * t/(suma_9)\n",
    "            est_D_A= (suma_05*t+ est_2aristas*suma_4)/(suma_04*t+ est_2aristas *suma_10 )\n",
    "            \n",
    "            beta=est_C_ab*est_D_A\n",
    "            est_D_B= (est_2aristas * beta) /( t*(beta +est_D_A *est_C_ba )- est_2aristas*est_C_ba )\n",
    "            est_rds_1v2_adapt=cant_nodos* (est_D_B*est_C_ba)/(est_D_A*est_C_ab + est_D_B*est_C_ba)            \n",
    "            \n",
    "    return est_rds_1v2_adapt\n",
    "\n",
    "\n",
    "#input_base=[porc_nodos_inf,tipo_muestreo,t,M,suma_1,suma_2,suma_3,suma_4,suma_5,suma_6,suma_7,suma_8]\n",
    "#input_base=[porc_nodos_inf,tipo_muestreo,t,M]+[suma_01,suma_1,suma_02,suma_2,suma_03,suma_3,suma_04,suma_4,suma_05,suma_5,suma_06,suma_6,suma_07,suma_7,suma_08,suma_8,suma_9,suma_10,suma_11,suma_12]\n",
    "#input_base_2=[dict_nei_G,dic_grados_G,set_infectados]\n",
    "#Muestra_general\n",
    "est_rds_1v2_adapt=estimador_rds1_v2_adapt(input_base,input_base_2,Muestra_general)\n",
    "\n",
    "\n",
    "\n",
    "def estimador_rds2(input_base):\n",
    "    tipo_muestreo=input_base[1]\n",
    "    if tipo_muestreo==\"5\":\n",
    "        [porc_nodos_inf,tipo_muestreo,t,M,suma_1,suma_2,suma_3,suma_4,suma_5,suma_6,suma_7,suma_8]=input_base\n",
    "        RDS_2=t/M*suma_4\n",
    "    elif tipo_muestreo == \"6\" or tipo_muestreo == \"7\" or tipo_muestreo == \"8\":\n",
    "        [porc_nodos_inf,tipo_muestreo,t,M,suma_01,suma_1,suma_02,suma_2,suma_03,suma_3,suma_04,suma_4,suma_05,suma_5,suma_06,suma_6,suma_07,suma_7,suma_08,suma_8,suma_9,suma_10,suma_11,suma_12]=input_base\n",
    "        est_2aristas=(M-1) * t/(suma_9)\n",
    "        RDS_2=1/M*(suma_04*t +est_2aristas*suma_10)\n",
    "    return RDS_2\n",
    "\n",
    "#input_base=[porc_nodos_inf,tipo_muestreo,t,M,suma_1,suma_2,suma_3,suma_4,suma_5,suma_6,suma_7,suma_8]\n",
    "#input_base=[porc_nodos_inf,tipo_muestreo,t,M]+[suma_01,suma_1,suma_02,suma_2,suma_03,suma_3,suma_04,suma_4,suma_05,suma_5,suma_06,suma_6,suma_07,suma_7,suma_08,suma_8,suma_9,suma_10,suma_11,suma_12]\n",
    "RDS_2=estimador_rds2(input_base)\n",
    "\n",
    "\n",
    "def estimador_rds2_adapt(input_base):\n",
    "    porc_nodos_inf,tipo_muestreo=input_base[:2]\n",
    "    if tipo_muestreo==\"5\":\n",
    "        [porc_nodos_inf,tipo_muestreo,t,M,suma_1,suma_2,suma_3,suma_4,suma_5,suma_6,suma_7,suma_8]=input_base\n",
    "        if porc_nodos_inf >= 0.5: # caso muestreo 5 y porc alto infec\n",
    "            RDS_2_adapt=t/M*suma_4\n",
    "        else: # caso muestreo 5 y porc bajo infec\n",
    "            est_NJ=t/M*suma_6\n",
    "            RDS_2_adapt=t-est_NJ\n",
    "    elif tipo_muestreo == \"6\" or tipo_muestreo == \"7\" or tipo_muestreo == \"8\":\n",
    "        [porc_nodos_inf,tipo_muestreo,t,M,suma_01,suma_1,suma_02,suma_2,suma_03,suma_3,suma_04,suma_4,suma_05,suma_5,suma_06,suma_6,suma_07,suma_7,suma_08,suma_8,suma_9,suma_10,suma_11,suma_12]=input_base\n",
    "        if porc_nodos_inf >= 0.5: # caso muestreo 6,7,8 y porc alto infec\n",
    "            RDS_2_adapt=estimador_rds2(input_base)\n",
    "        else: # caso muestreo 6,7,8 y porc bajo infec\n",
    "            est_2aristas=(M-1) * t/(suma_9)\n",
    "            RDS_2_adapt=t- 1/M*(suma_06*t +est_2aristas*suma_12)\n",
    "    return RDS_2_adapt\n",
    "\n",
    "#input_base=[porc_nodos_inf,tipo_muestreo,t,M,suma_1,suma_2,suma_3,suma_4,suma_5,suma_6,suma_7,suma_8]\n",
    "#input_base=[porc_nodos_inf,tipo_muestreo,t,M]+[suma_01,suma_1,suma_02,suma_2,suma_03,suma_3,suma_04,suma_4,suma_05,suma_5,suma_06,suma_6,suma_07,suma_7,suma_08,suma_8,suma_9,suma_10,suma_11,suma_12]\n",
    "RDS_2_adapt=estimador_rds2_adapt(input_base)\n",
    "\n",
    "\n",
    "    # est_rds_1v2_adapt,RDS_2,RDS_2_adapt\n",
    "est_rds_1v2_adapt,RDS_2,RDS_2_adapt\n",
    "\n"
   ]
  },
  {
   "cell_type": "code",
   "execution_count": 43,
   "id": "dfdf7a6e",
   "metadata": {},
   "outputs": [],
   "source": [
    "def gnsum_seed_zip(input_base):\n",
    "    \n",
    "    tipo_muestreo=input_base[1]\n",
    "    [porc_nodos_inf,tipo_muestreo,t,M,suma_01,suma_1,suma_02,suma_2,suma_03,suma_3,suma_04,suma_4,suma_05,suma_5,suma_06,suma_6,suma_07,suma_7,suma_08,suma_8,suma_9,suma_10,suma_11,suma_12]=input_base\n",
    "    est_2aristas=(M-1) * t/suma_9\n",
    "    est_3=1/(M-1)*  est_2aristas*suma_1*suma_10/suma_4\n",
    "    \n",
    "    return est_3\n",
    "\n",
    "#input_base=[porc_nodos_inf,tipo_muestreo,t,M,suma_1,suma_2,suma_3,suma_4,suma_5,suma_6,suma_7,suma_8]\n",
    "#input_base=[porc_nodos_inf,tipo_muestreo,t,M]+[suma_01,suma_1,suma_02,suma_2,suma_03,suma_3,suma_04,suma_4,suma_05,suma_5,suma_06,suma_6,suma_07,suma_7,suma_08,suma_8,suma_9,suma_10,suma_11,suma_12]\n",
    "est_3_seed_zip=gnsum_seed_zip(input_base)\n",
    "\n",
    "\n",
    "\n",
    "\n",
    "def gnsum_adapt_seed_zip(input_base):\n",
    "    [porc_nodos_inf,tipo_muestreo]=input_base[:2]\n",
    "    \n",
    "    [porc_nodos_inf,tipo_muestreo,t,M,suma_01,suma_1,suma_02,suma_2,suma_03,suma_3,suma_04,suma_4,suma_05,suma_5,suma_06,suma_6,suma_07,suma_7,suma_08,suma_8,suma_9,suma_10,suma_11,suma_12]=input_base\n",
    "    if porc_nodos_inf >=0.5:\n",
    "        est_4=gnsum(input_base)\n",
    "    else:\n",
    "        est_2aristas=(M-1) * t/suma_9\n",
    "        est_4=t-1/(M-1)*  est_2aristas*suma_11*suma_12/suma_6\n",
    "    return est_4\n",
    "\n",
    "            \n",
    "#input_base=[porc_nodos_inf,tipo_muestreo,t,M,suma_1,suma_2,suma_3,suma_4,suma_5,suma_6,suma_7,suma_8]\n",
    "#input_base=[porc_nodos_inf,tipo_muestreo,t,M]+[suma_01,suma_1,suma_02,suma_2,suma_03,suma_3,suma_04,suma_4,suma_05,suma_5,suma_06,suma_6,suma_07,suma_7,suma_08,suma_8,suma_9,suma_10,suma_11,suma_12]\n",
    "est_4_seed_zip=gnsum_adapt_seed_zip(input_base)        \n",
    "\n",
    "\n",
    "def estimator_RDS_I_V1_seed_zip(input_base,input_base_2,Muestra_general):\n",
    "    [tipo_muestreo]=input_base[1]\n",
    "\n",
    "    [porc_nodos_inf,tipo_muestreo,t,M,suma_01,suma_1,suma_02,suma_2,suma_03,suma_3,suma_04,suma_4,suma_05,suma_5,suma_06,suma_6,suma_07,suma_7,suma_08,suma_8,suma_9,suma_10,suma_11,suma_12]=input_base\n",
    "    est_2aristas=(M-1) * t/(suma_9)\n",
    "    est_C_ab,est_C_ba=alg_freq.estimacion_Cab(input_base_2,Muestra_general)\n",
    "    est_D_A= suma_4 / suma_10\n",
    "    est_D_B= suma_6 / suma_12\n",
    "    \n",
    "    N_A=cant_nodos* (est_D_B*est_C_ba)/(est_D_A*est_C_ab + est_D_B*est_C_ba)\n",
    "    return N_A\n",
    "\n",
    "\n",
    "\n",
    "#input_base=[porc_nodos_inf,tipo_muestreo,t,M,suma_1,suma_2,suma_3,suma_4,suma_5,suma_6,suma_7,suma_8]\n",
    "#input_base=[porc_nodos_inf,tipo_muestreo,t,M]+[suma_01,suma_1,suma_02,suma_2,suma_03,suma_3,suma_04,suma_4,suma_05,suma_5,suma_06,suma_6,suma_07,suma_7,suma_08,suma_8,suma_9,suma_10,suma_11,suma_12]\n",
    "#input_base_2=[dict_nei_G,dic_grados_G,set_infectados]\n",
    "est_5_seed_zip=estimator_RDS_I_V1_seed_zip(input_base,input_base_2,Muestra_general)\n",
    "\n",
    "              \n",
    "def estimador_rds1_v2_seed_zip(input_base,input_base_2,Muestra_general):  # estima D_B\n",
    "    [tipo_muestreo]=input_base[1]\n",
    "    \n",
    "    [porc_nodos_inf,tipo_muestreo,t,M,suma_01,suma_1,suma_02,suma_2,suma_03,suma_3,suma_04,suma_4,suma_05,suma_5,suma_06,suma_6,suma_07,suma_7,suma_08,suma_8,suma_9,suma_10,suma_11,suma_12]=input_base\n",
    "    est_C_ab,est_C_ba=alg_freq.estimacion_Cab(input_base_2,Muestra_general)\n",
    "    est_2aristas=(M-1) * t/(suma_9)\n",
    "    est_D_B= suma_6 / suma_12\n",
    "\n",
    "    beta=est_C_ba*est_D_B\n",
    "    est_D_A= (est_2aristas * beta) /( t*(beta +est_D_B *est_C_ab )- est_2aristas*est_C_ab )    \n",
    "    est_rds_1v2=t* (est_D_B*est_C_ba)/(est_D_A*est_C_ab + est_D_B*est_C_ba)\n",
    "\n",
    "    return est_rds_1v2\n",
    "\n",
    "#input_base=[porc_nodos_inf,tipo_muestreo,t,M,suma_1,suma_2,suma_3,suma_4,suma_5,suma_6,suma_7,suma_8]\n",
    "#input_base=[porc_nodos_inf,tipo_muestreo,t,M]+[suma_01,suma_1,suma_02,suma_2,suma_03,suma_3,suma_04,suma_4,suma_05,suma_5,suma_06,suma_6,suma_07,suma_7,suma_08,suma_8,suma_9,suma_10,suma_11,suma_12]\n",
    "#input_base_2=[dict_nei_G,dic_grados_G,set_infectados]\n",
    "est_6_seed_zip=estimador_rds1_v2_seed_zip(input_base,input_base_2,Muestra_general)\n",
    "\n",
    "\n",
    "\n",
    "\n",
    "#print(est_1,est_2,est_3,est_4,N_A,est_rds_1v2,est_rds_1v2_adapt)\n"
   ]
  },
  {
   "cell_type": "code",
   "execution_count": 44,
   "id": "ab6ccfa0",
   "metadata": {},
   "outputs": [],
   "source": [
    "def gnsum_seed_zip(input_base):\n",
    "    tipo_muestreo=input_base[1]\n",
    "    \n",
    "    [porc_nodos_inf,tipo_muestreo,t,M,suma_01,suma_1,suma_02,suma_2,suma_03,suma_3,suma_04,suma_4,suma_05,suma_5,suma_06,suma_6,suma_07,suma_7,suma_08,suma_8,suma_9,suma_10,suma_11,suma_12]=input_base\n",
    "    est_3=1/(M-1)*  est_2aristas*suma_1*suma_10/suma_4\n",
    "        \n",
    "    return est_3\n",
    "\n",
    "\n",
    "def gnsum_adapt_seed_zip(input_base):\n",
    "    [porc_nodos_inf,tipo_muestreo]=input_base[:2]\n",
    "    \n",
    "    [porc_nodos_inf,tipo_muestreo,t,M,suma_01,suma_1,suma_02,suma_2,suma_03,suma_3,suma_04,suma_4,suma_05,suma_5,suma_06,suma_6,suma_07,suma_7,suma_08,suma_8,suma_9,suma_10,suma_11,suma_12]=input_base\n",
    "    if porc_nodos_inf >=0.5:\n",
    "        est_4=gnsum_zip(input_base)\n",
    "    else:\n",
    "        est_2aristas=(M-1) * t/suma_9\n",
    "        est_4=t-1/(M-1)*  est_2aristas*suma_11*suma_12/suma_6\n",
    "    return est_4\n",
    "\n",
    "\n",
    "def estimator_RDS_I_V1_seed_zip(input_base,input_base_2,Muestra_general):\n",
    "    [tipo_muestreo]=input_base[1]\n",
    "\n",
    "    [porc_nodos_inf,tipo_muestreo,t,M,suma_01,suma_1,suma_02,suma_2,suma_03,suma_3,suma_04,suma_4,suma_05,suma_5,suma_06,suma_6,suma_07,suma_7,suma_08,suma_8,suma_9,suma_10,suma_11,suma_12]=input_base\n",
    "    est_2aristas=(M-1) * t/(suma_9)\n",
    "    est_C_ab,est_C_ba=estimacion_Cab(input_base_2,Muestra_general)\n",
    "\n",
    "    est_D_A= suma_4 / suma_10\n",
    "    est_D_B= suma_6 / suma_12\n",
    "    \n",
    "    N_A=cant_nodos* (est_D_B*est_C_ba)/(est_D_A*est_C_ab + est_D_B*est_C_ba)\n",
    "    return N_A\n",
    "\n",
    "def estimador_rds1_v2_seed_zip(input_base,input_base_2,Muestra_general):  # estima D_B\n",
    "    [tipo_muestreo]=input_base[1]\n",
    "\n",
    "    [porc_nodos_inf,tipo_muestreo,t,M,suma_01,suma_1,suma_02,suma_2,suma_03,suma_3,suma_04,suma_4,suma_05,suma_5,suma_06,suma_6,suma_07,suma_7,suma_08,suma_8,suma_9,suma_10,suma_11,suma_12]=input_base\n",
    "    est_C_ab,est_C_ba=estimacion_Cab(input_base_2,Muestra_general)\n",
    "    est_2aristas=(M-1) * t/(suma_9)\n",
    "    est_D_B= suma_6 / suma_12\n",
    "\n",
    "    beta=est_C_ba*est_D_B\n",
    "    est_D_A= (est_2aristas * beta) /( t*(beta +est_D_B *est_C_ab )- est_2aristas*est_C_ab )    \n",
    "    est_rds_1v2=t* (est_D_B*est_C_ba)/(est_D_A*est_C_ab + est_D_B*est_C_ba)\n",
    "\n",
    "    return est_rds_1v2\n",
    "\n",
    "\n",
    "def estimador_rds1_v2_adapt_seed_zip(input_base,input_base_2,Muestra_general):\n",
    "    porc_nodos_inf,tipo_muestreo=input_base[:2]\n",
    "    \n",
    "    [porc_nodos_inf,tipo_muestreo,t,M,suma_01,suma_1,suma_02,suma_2,suma_03,suma_3,suma_04,suma_4,suma_05,suma_5,suma_06,suma_6,suma_07,suma_7,suma_08,suma_8,suma_9,suma_10,suma_11,suma_12]=input_base\n",
    "        \n",
    "    if porc_nodos_inf <= 0.5:\n",
    "        # caso muestreo 6,7,8 y porc bajo infec\n",
    "        est_rds_1v2_adapt=estimador_rds1_v2_zip(input_base,input_base_2,Muestra_general)\n",
    "\n",
    "    else:\n",
    "        # caso muestreo 6,7,8 y porc alto infec\n",
    "        est_C_ab,est_C_ba=estimacion_Cab(input_base_2,Muestra_general)\n",
    "        est_2aristas=(M-1) * t/(suma_9)\n",
    "        est_D_A= suma_4 / suma_10\n",
    "\n",
    "        beta=est_C_ab*est_D_A\n",
    "        est_D_B= (est_2aristas * beta) /( t*(beta +est_D_A *est_C_ba )- est_2aristas*est_C_ba )\n",
    "        est_rds_1v2_adapt=t* (est_D_B*est_C_ba)/(est_D_A*est_C_ab + est_D_B*est_C_ba)            \n",
    "            \n",
    "    return est_rds_1v2_adapt\n",
    "\n",
    "\n",
    "def estimador_rds2_seed_zip(input_base):\n",
    "    tipo_muestreo=input_base[1]\n",
    "\n",
    "    [porc_nodos_inf,tipo_muestreo,t,M,suma_01,suma_1,suma_02,suma_2,suma_03,suma_3,suma_04,suma_4,suma_05,suma_5,suma_06,suma_6,suma_07,suma_7,suma_08,suma_8,suma_9,suma_10,suma_11,suma_12]=input_base\n",
    "    est_2aristas=(M-1) * t/(suma_9)\n",
    "    RDS_2=1/(M-1)*est_2aristas*suma_10\n",
    "    return RDS_2\n",
    "\n",
    "def estimador_rds2_adapt_seed_zip(input_base):\n",
    "    porc_nodos_inf,tipo_muestreo=input_base[:2]\n",
    "    [porc_nodos_inf,tipo_muestreo,t,M,suma_01,suma_1,suma_02,suma_2,suma_03,suma_3,suma_04,suma_4,suma_05,suma_5,suma_06,suma_6,suma_07,suma_7,suma_08,suma_8,suma_9,suma_10,suma_11,suma_12]=input_base\n",
    "    if porc_nodos_inf >= 0.5: # caso muestreo 6,7,8 y porc alto infec\n",
    "        RDS_2_adapt=estimador_rds2_zip(input_base)\n",
    "    else: # caso muestreo 6,7,8 y porc bajo infec\n",
    "        est_2aristas=(M-1) * t/(suma_9)\n",
    "        RDS_2_adapt=t- 1/(M-1)*est_2aristas*suma_12\n",
    "    return RDS_2_adapt\n"
   ]
  },
  {
   "cell_type": "code",
   "execution_count": 45,
   "id": "3f7ffaa5",
   "metadata": {},
   "outputs": [
    {
     "data": {
      "text/plain": [
       "(1798.03055601966,\n",
       " 1797.5812813298976,\n",
       " 1800.252434189371,\n",
       " 1800.0475976364096,\n",
       " 1799.7315998955114,\n",
       " 1802.3397204784226,\n",
       " 1802.3397204784226,\n",
       " 1680.9787887152554,\n",
       " 1680.9787887152534)"
      ]
     },
     "execution_count": 45,
     "metadata": {},
     "output_type": "execute_result"
    }
   ],
   "source": [
    "est_1,est_2,est_3,est_4,N_A,est_rds_1v2,est_rds_1v2_adapt,RDS_2,RDS_2_adapt"
   ]
  },
  {
   "cell_type": "code",
   "execution_count": null,
   "id": "97be60c9",
   "metadata": {},
   "outputs": [],
   "source": []
  },
  {
   "cell_type": "code",
   "execution_count": null,
   "id": "5aa2cb27",
   "metadata": {},
   "outputs": [],
   "source": []
  },
  {
   "cell_type": "code",
   "execution_count": null,
   "id": "e8ef92be",
   "metadata": {},
   "outputs": [],
   "source": []
  },
  {
   "cell_type": "code",
   "execution_count": null,
   "id": "a3f9155b",
   "metadata": {},
   "outputs": [],
   "source": []
  },
  {
   "cell_type": "code",
   "execution_count": 46,
   "id": "1222fe11",
   "metadata": {},
   "outputs": [
    {
     "data": {
      "text/plain": [
       "1798.0305560196607"
      ]
     },
     "execution_count": 46,
     "metadata": {},
     "output_type": "execute_result"
    }
   ],
   "source": [
    "alg_freq.N_u_PIMPLE_prom(Muestra_general, G, set_infectados,list_nei_G,dic_grados_G)"
   ]
  },
  {
   "cell_type": "code",
   "execution_count": 47,
   "id": "ac16f8b8",
   "metadata": {},
   "outputs": [
    {
     "data": {
      "text/plain": [
       "1797.5812813298976"
      ]
     },
     "execution_count": 47,
     "metadata": {},
     "output_type": "execute_result"
    }
   ],
   "source": [
    "alg_freq.N_u_EMV(G, set_infectados, Muestra_general,list_nei_G,dic_grados_G)"
   ]
  },
  {
   "cell_type": "code",
   "execution_count": 48,
   "id": "5ecb953f",
   "metadata": {},
   "outputs": [
    {
     "data": {
      "text/plain": [
       "1801.1049893862553"
      ]
     },
     "execution_count": 48,
     "metadata": {},
     "output_type": "execute_result"
    }
   ],
   "source": [
    "input_base=[cant_nodos, dict_nei_G,dic_grados_G, set_infectados]\n",
    "input_muestra=[Muestra_general,tipo_muestreo,est_2E,cant_aprox_hop_need]\n",
    "input_comb=\"2\"\n",
    "alg_freq.gnsum(input_base,input_muestra,input_comb)"
   ]
  },
  {
   "cell_type": "code",
   "execution_count": null,
   "id": "32a5505d",
   "metadata": {},
   "outputs": [],
   "source": []
  },
  {
   "cell_type": "code",
   "execution_count": null,
   "id": "045225d7",
   "metadata": {},
   "outputs": [],
   "source": []
  },
  {
   "cell_type": "code",
   "execution_count": null,
   "id": "794287c9",
   "metadata": {},
   "outputs": [],
   "source": []
  }
 ],
 "metadata": {
  "kernelspec": {
   "display_name": "Python 3 (ipykernel)",
   "language": "python",
   "name": "python3"
  },
  "language_info": {
   "codemirror_mode": {
    "name": "ipython",
    "version": 3
   },
   "file_extension": ".py",
   "mimetype": "text/x-python",
   "name": "python",
   "nbconvert_exporter": "python",
   "pygments_lexer": "ipython3",
   "version": "3.9.7"
  }
 },
 "nbformat": 4,
 "nbformat_minor": 5
}
