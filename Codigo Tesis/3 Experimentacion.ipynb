{
 "cells": [
  {
   "cell_type": "code",
   "execution_count": null,
   "id": "34b119aa",
   "metadata": {
    "scrolled": true
   },
   "outputs": [],
   "source": [
    "cd"
   ]
  },
  {
   "cell_type": "code",
   "execution_count": null,
   "id": "53fab797",
   "metadata": {
    "scrolled": true
   },
   "outputs": [],
   "source": [
    "cd Desktop\\portafolio"
   ]
  },
  {
   "cell_type": "code",
   "execution_count": null,
   "id": "94c56abb",
   "metadata": {
    "scrolled": true
   },
   "outputs": [],
   "source": [
    "get_ipython().magic('reset -sf')"
   ]
  },
  {
   "cell_type": "code",
   "execution_count": null,
   "id": "3acc7729",
   "metadata": {
    "scrolled": true
   },
   "outputs": [],
   "source": [
    "from librerias  import algoritmos_frecuentista as alg_freq\n",
    "from datetime import datetime"
   ]
  },
  {
   "cell_type": "markdown",
   "id": "f5649fb4",
   "metadata": {
    "scrolled": true
   },
   "source": [
    "# Lista de estimadores"
   ]
  },
  {
   "cell_type": "code",
   "execution_count": null,
   "id": "caf08d01",
   "metadata": {
    "scrolled": true
   },
   "outputs": [],
   "source": [
    "L_name_est=[\"PIMPLE\",\"EMV\",\"GNSUM\",\"RDS_I\",\"RDS_II\"]\n",
    "for i,j in zip(range(0,16),L_name_est):\n",
    "    print(i+1,j)\n",
    "    "
   ]
  },
  {
   "cell_type": "markdown",
   "id": "f3863622",
   "metadata": {},
   "source": [
    "# Todas las configuraciones:"
   ]
  },
  {
   "cell_type": "code",
   "execution_count": null,
   "id": "7c47af4e",
   "metadata": {
    "scrolled": true
   },
   "outputs": [],
   "source": [
    "# input comple\n",
    "# input comple\n",
    "L_metodo_infec=[\"1\",\"2\",\"3\",\"4\",\"DP\",\"IP\"]\n",
    "L_porc_nodos_infec=[0.01,0.1,0.5, 0.9]\n",
    "\n",
    "L_tipo_sample_p_gral=[\"5\",\"6\",\"7\",\"8\"]\n",
    "L_porc_nodos_muestra=[0.01,0.1,0.5,0.9]\n",
    "L_name_est=[\"PIMPLE\",\"EMV\",\"GNSUM\",\"RDS_I\",\"RDS_II\"]"
   ]
  },
  {
   "cell_type": "code",
   "execution_count": null,
   "id": "34cbdca8",
   "metadata": {
    "scrolled": true
   },
   "outputs": [],
   "source": []
  },
  {
   "cell_type": "code",
   "execution_count": null,
   "id": "c216f718",
   "metadata": {
    "scrolled": true
   },
   "outputs": [],
   "source": []
  },
  {
   "cell_type": "markdown",
   "id": "4950f23a",
   "metadata": {},
   "source": [
    "## Densidad: Pesada."
   ]
  },
  {
   "cell_type": "code",
   "execution_count": null,
   "id": "543577d2",
   "metadata": {
    "scrolled": true
   },
   "outputs": [],
   "source": [
    "densidad=\"pesada\" \n",
    "tipo_grafo=\"escala\"\n",
    "n=6*10**3\n",
    "parametro=676\n",
    "inicio,termino=0,100\n",
    "\n",
    "alg_freq.generate_calculos(densidad,tipo_grafo,n,parametro,inicio, termino)\n",
    "# listo"
   ]
  },
  {
   "cell_type": "code",
   "execution_count": null,
   "id": "b9c731fc",
   "metadata": {
    "scrolled": true
   },
   "outputs": [],
   "source": [
    "densidad=\"pesada\" \n",
    "tipo_grafo=\"escala\"\n",
    "n=6*10**3\n",
    "parametro=3000\n",
    "inicio,termino=86,100\n",
    "\n",
    "alg_freq.generate_calculos(densidad,tipo_grafo,n,parametro,inicio, termino)\n",
    "# listo"
   ]
  },
  {
   "cell_type": "code",
   "execution_count": null,
   "id": "350c2fcd",
   "metadata": {
    "scrolled": true
   },
   "outputs": [],
   "source": []
  },
  {
   "cell_type": "code",
   "execution_count": null,
   "id": "462a3e64",
   "metadata": {
    "scrolled": true
   },
   "outputs": [],
   "source": [
    "densidad=\"pesada\"\n",
    "tipo_grafo=\"aleatorio\"\n",
    "n=6*10**3\n",
    "parametro=5*10**(-1)\n",
    "inicio,termino=0,100\n",
    "\n",
    "alg_freq.generate_calculos(densidad,tipo_grafo,n,parametro,inicio, termino)\n",
    "#listo"
   ]
  },
  {
   "cell_type": "code",
   "execution_count": null,
   "id": "f1f5671a",
   "metadata": {
    "scrolled": true
   },
   "outputs": [],
   "source": [
    "densidad=\"pesada\"\n",
    "tipo_grafo=\"aleatorio\"\n",
    "n=6*10**3\n",
    "parametro=2*10**(-1)\n",
    "inicio,termino=0,100\n",
    "\n",
    "alg_freq.generate_calculos(densidad,tipo_grafo,n,parametro,inicio, termino)\n",
    "#listo"
   ]
  },
  {
   "cell_type": "code",
   "execution_count": null,
   "id": "9a6db6e9",
   "metadata": {
    "scrolled": true
   },
   "outputs": [],
   "source": []
  },
  {
   "cell_type": "markdown",
   "id": "6d3354ec",
   "metadata": {},
   "source": [
    "## Densidad: media."
   ]
  },
  {
   "cell_type": "code",
   "execution_count": null,
   "id": "397db536",
   "metadata": {
    "scrolled": true
   },
   "outputs": [],
   "source": [
    "densidad=\"media\" \n",
    "tipo_grafo=\"escala\"\n",
    "n=10**4\n",
    "parametro=10\n",
    "inicio, termino=0,100\n",
    "\n",
    "alg_freq.generate_calculos(densidad,tipo_grafo,n,parametro,inicio, termino)\n",
    "#listo"
   ]
  },
  {
   "cell_type": "code",
   "execution_count": null,
   "id": "89a2380f",
   "metadata": {
    "scrolled": true
   },
   "outputs": [],
   "source": [
    "densidad=\"media\" \n",
    "tipo_grafo=\"escala\"\n",
    "n=10**4\n",
    "parametro=101\n",
    "inicio,termino=0,100\n",
    "alg_freq.generate_calculos(densidad,tipo_grafo,n,parametro,inicio, termino)\n",
    "#listo"
   ]
  },
  {
   "cell_type": "code",
   "execution_count": null,
   "id": "811df6b3",
   "metadata": {
    "scrolled": true
   },
   "outputs": [],
   "source": []
  },
  {
   "cell_type": "code",
   "execution_count": null,
   "id": "e303eed8",
   "metadata": {
    "scrolled": true
   },
   "outputs": [],
   "source": [
    "densidad=\"media\"\n",
    "tipo_grafo=\"aleatorio\"\n",
    "n=10**4\n",
    "parametro=2*10**(-2)\n",
    "inicio, termino=0,100\n",
    "\n",
    "alg_freq.generate_calculos(densidad,tipo_grafo,n,parametro,inicio, termino)\n",
    "#listo"
   ]
  },
  {
   "cell_type": "code",
   "execution_count": null,
   "id": "17e75c60",
   "metadata": {
    "scrolled": true
   },
   "outputs": [],
   "source": [
    "densidad=\"media\"\n",
    "tipo_grafo=\"aleatorio\"\n",
    "n=10**4\n",
    "parametro=2*10**(-3)\n",
    "inicio,termino=0,100\n",
    "\n",
    "alg_freq.generate_calculos(densidad,tipo_grafo,n,parametro,inicio, termino)\n",
    "#listo"
   ]
  },
  {
   "cell_type": "markdown",
   "id": "e17e585f",
   "metadata": {},
   "source": [
    "## Densidad: ligera."
   ]
  },
  {
   "cell_type": "code",
   "execution_count": null,
   "id": "8e270997",
   "metadata": {
    "scrolled": true
   },
   "outputs": [],
   "source": [
    "densidad=\"ligera\"\n",
    "tipo_grafo=\"escala\"\n",
    "n=5*10**4\n",
    "parametro=37\n",
    "inicio, termino=1,100\n",
    "alg_freq.generate_calculos(densidad,tipo_grafo,n,parametro,inicio, termino)\n"
   ]
  },
  {
   "cell_type": "code",
   "execution_count": null,
   "id": "35e94579",
   "metadata": {
    "scrolled": true
   },
   "outputs": [],
   "source": [
    "densidad=\"ligera\"\n",
    "tipo_grafo=\"escala\"\n",
    "n=5*10**4\n",
    "parametro=25\n",
    "inicio, termino=0,100\n",
    "\n",
    "alg_freq.generate_calculos(densidad,tipo_grafo,n,parametro,inicio, termino)\n",
    "#listo"
   ]
  },
  {
   "cell_type": "code",
   "execution_count": null,
   "id": "9eec48fc",
   "metadata": {
    "scrolled": true
   },
   "outputs": [],
   "source": []
  },
  {
   "cell_type": "code",
   "execution_count": null,
   "id": "724529bd",
   "metadata": {
    "scrolled": true
   },
   "outputs": [],
   "source": []
  },
  {
   "cell_type": "code",
   "execution_count": null,
   "id": "e5c7ddd2",
   "metadata": {
    "scrolled": true
   },
   "outputs": [],
   "source": []
  },
  {
   "cell_type": "code",
   "execution_count": null,
   "id": "2daf0882",
   "metadata": {
    "scrolled": true
   },
   "outputs": [],
   "source": [
    "densidad=\"ligera\"\n",
    "tipo_grafo=\"aleatorio\"\n",
    "n=5*10**4\n",
    "parametro=10**(-3)\n",
    "inicio,termino=0,100\n",
    "alg_freq.generate_calculos(densidad,tipo_grafo,n,parametro,inicio, termino)"
   ]
  },
  {
   "cell_type": "code",
   "execution_count": null,
   "id": "8d30c258",
   "metadata": {
    "scrolled": true
   },
   "outputs": [],
   "source": [
    "densidad=\"ligera\"\n",
    "tipo_grafo=\"aleatorio\"\n",
    "n=5*10**4\n",
    "parametro=1.5*10**(-3)\n",
    "alg_freq.generate_calculos(densidad,tipo_grafo,n,parametro,inicio, termino)"
   ]
  },
  {
   "cell_type": "code",
   "execution_count": null,
   "id": "53fd6262",
   "metadata": {
    "scrolled": true
   },
   "outputs": [],
   "source": []
  },
  {
   "cell_type": "code",
   "execution_count": null,
   "id": "9414d937",
   "metadata": {
    "scrolled": true
   },
   "outputs": [],
   "source": []
  },
  {
   "cell_type": "markdown",
   "id": "bd28de77",
   "metadata": {},
   "source": [
    "# Grafos de densidad super ligeros"
   ]
  },
  {
   "cell_type": "code",
   "execution_count": null,
   "id": "5dcd7fde",
   "metadata": {
    "scrolled": true
   },
   "outputs": [],
   "source": [
    "densidad=\"super ligera\" \n",
    "tipo_grafo=\"aleatorio\"\n",
    "n=5*10**4\n",
    "parametro=5*10**(-4)\n",
    "inicio,termino=0,100\n",
    "#alg_grafo.nombre_ubi_save(densidad, tipo_grafo,parametro)\n",
    "alg_freq.generate_calculos(densidad,tipo_grafo,n,parametro,inicio, termino)"
   ]
  },
  {
   "cell_type": "code",
   "execution_count": null,
   "id": "7292d4b5",
   "metadata": {
    "scrolled": true
   },
   "outputs": [],
   "source": [
    "densidad=\"super ligera\" \n",
    "tipo_grafo=\"aleatorio\"\n",
    "n=5*10**4\n",
    "parametro=3*10**(-4)\n",
    "inicio,termino=0,100\n",
    "#alg_grafo.nombre_ubi_save(densidad, tipo_grafo,parametro)\n",
    "alg_freq.generate_calculos(densidad,tipo_grafo,n,parametro,inicio, termino)"
   ]
  },
  {
   "cell_type": "code",
   "execution_count": null,
   "id": "f3f6b060",
   "metadata": {
    "scrolled": true
   },
   "outputs": [],
   "source": []
  },
  {
   "cell_type": "code",
   "execution_count": null,
   "id": "1fcfe2eb",
   "metadata": {
    "scrolled": true
   },
   "outputs": [],
   "source": []
  },
  {
   "cell_type": "code",
   "execution_count": null,
   "id": "c63209df",
   "metadata": {
    "scrolled": true
   },
   "outputs": [],
   "source": []
  },
  {
   "cell_type": "code",
   "execution_count": null,
   "id": "94f73ace",
   "metadata": {
    "scrolled": true
   },
   "outputs": [],
   "source": [
    "densidad=\"super ligera\" \n",
    "tipo_grafo=\"escala\"\n",
    "n=5*10**4\n",
    "parametro=13\n",
    "inicio,termino=0,100\n",
    "#alg_grafo.nombre_ubi_save(densidad, tipo_grafo,parametro)\n",
    "alg_freq.generate_calculos(densidad,tipo_grafo,n,parametro,inicio, termino)\n"
   ]
  },
  {
   "cell_type": "code",
   "execution_count": null,
   "id": "22ffaf2e",
   "metadata": {
    "scrolled": false
   },
   "outputs": [],
   "source": [
    "densidad=\"super ligera\" \n",
    "tipo_grafo=\"escala\"\n",
    "n=5*10**4\n",
    "parametro=8\n",
    "inicio,termino=0,100\n",
    "alg_freq.generate_calculos(densidad,tipo_grafo,n,parametro,inicio, termino)\n"
   ]
  },
  {
   "cell_type": "code",
   "execution_count": null,
   "id": "d3438dae",
   "metadata": {
    "scrolled": true
   },
   "outputs": [],
   "source": []
  },
  {
   "cell_type": "code",
   "execution_count": null,
   "id": "3e8ff552",
   "metadata": {
    "scrolled": true
   },
   "outputs": [],
   "source": []
  }
 ],
 "metadata": {
  "kernelspec": {
   "display_name": "Python 3 (ipykernel)",
   "language": "python",
   "name": "python3"
  },
  "language_info": {
   "codemirror_mode": {
    "name": "ipython",
    "version": 3
   },
   "file_extension": ".py",
   "mimetype": "text/x-python",
   "name": "python",
   "nbconvert_exporter": "python",
   "pygments_lexer": "ipython3",
   "version": "3.11.3"
  }
 },
 "nbformat": 4,
 "nbformat_minor": 5
}
