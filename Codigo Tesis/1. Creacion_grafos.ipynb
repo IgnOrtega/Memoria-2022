{
 "cells": [
  {
   "cell_type": "code",
   "execution_count": 1,
   "id": "34b119aa",
   "metadata": {
    "scrolled": true
   },
   "outputs": [
    {
     "name": "stdout",
     "output_type": "stream",
     "text": [
      "C:\\Users\\56961\n"
     ]
    }
   ],
   "source": [
    "cd"
   ]
  },
  {
   "cell_type": "code",
   "execution_count": 2,
   "id": "53fab797",
   "metadata": {
    "scrolled": true
   },
   "outputs": [
    {
     "name": "stdout",
     "output_type": "stream",
     "text": [
      "C:\\Users\\56961\\Desktop\\portafolio\n"
     ]
    }
   ],
   "source": [
    "cd Desktop\\portafolio"
   ]
  },
  {
   "cell_type": "code",
   "execution_count": 22,
   "id": "81738d9a",
   "metadata": {
    "scrolled": false
   },
   "outputs": [],
   "source": [
    "# cargar librerias\n",
    "\n",
    "# definir librerias\n",
    "import random\n",
    "import numpy as np\n",
    "#import pandas as pd\n",
    "\n",
    "#import numpy as np\n",
    "import seaborn as sns\n",
    "import matplotlib.pyplot as plt\n",
    "import sys\n",
    "import networkx as nx\n",
    "import pickle \n",
    "from collections import Counter\n",
    "from datetime import datetime\n",
    "\n",
    "#import graphviz"
   ]
  },
  {
   "cell_type": "code",
   "execution_count": 4,
   "id": "5c2a6287",
   "metadata": {
    "scrolled": false
   },
   "outputs": [],
   "source": [
    "import warnings\n",
    "warnings.filterwarnings('ignore')"
   ]
  },
  {
   "cell_type": "code",
   "execution_count": 5,
   "id": "39ee2486",
   "metadata": {
    "scrolled": false
   },
   "outputs": [],
   "source": [
    "from librerias  import alg_fabrica_grafo as alg_grafo\n"
   ]
  },
  {
   "cell_type": "code",
   "execution_count": 6,
   "id": "5ad3e2d3",
   "metadata": {
    "scrolled": false
   },
   "outputs": [
    {
     "name": "stdout",
     "output_type": "stream",
     "text": [
      " El volumen de la unidad C es Windows-SSD\n",
      " El n£mero de serie del volumen es: 9C69-C589\n",
      "\n",
      " Directorio de C:\\Users\\56961\\Desktop\\portafolio\n",
      "\n",
      "29/08/2023  16:37    <DIR>          .\n",
      "30/08/2023  21:02    <DIR>          ..\n",
      "22/08/2023  19:06    <DIR>          .ipynb_checkpoints\n",
      "22/08/2023  19:41            26.320 1. Creacion_grafos.ipynb\n",
      "27/08/2023  18:20            19.941 2. Generar_muestras.ipynb\n",
      "22/08/2023  19:01            11.868 3 Experimentacion.ipynb\n",
      "22/08/2023  19:05            44.280 d_4. Etiquetar_nodos_y_generar_muestra_grafo_twitch.ipynb\n",
      "29/08/2023  16:37            16.421 d_5. Experimentacion_grafo_twitch.ipynb\n",
      "22/08/2023  19:08         3.700.342 d_6. An lisis de propiedades del Grupos H en Grafo twitch.ipynb\n",
      "22/08/2023  19:13           554.538 d_7. An lisis de propiedades de los nodos muestreados y de los nei de los muestrreados.ipynb\n",
      "23/07/2023  18:20    <DIR>          data frame\n",
      "20/05/2023  19:57        31.086.456 data_frame_sin_falsos\n",
      "26/06/2023  21:24    <DIR>          datos grafos reales\n",
      "19/07/2023  12:53    <DIR>          Datos_grafos\n",
      "20/07/2023  01:32    <DIR>          datos_muestra\n",
      "26/08/2023  14:44         1.423.364 fila.txt\n",
      "22/08/2023  20:02    <DIR>          graficos\n",
      "20/05/2023  16:58    <DIR>          librerias\n",
      "18/05/2023  16:22            35.840 proceso_infeccion_met_1_3_cython.cp37-win_amd64.pyd\n",
      "              10 archivos     36.919.370 bytes\n",
      "               9 dirs  117.456.064.512 bytes libres\n"
     ]
    }
   ],
   "source": [
    "ls"
   ]
  },
  {
   "cell_type": "markdown",
   "id": "0ec2fa83",
   "metadata": {},
   "source": [
    "# Mostrar como crear grafo.\n",
    " Cantidad de aristas de un grafo aleatorio *esperadas* $\\frac{1}{2}p \\vert V \\vert ( \\vert V \\vert-1) \\approx \n",
    "\\frac{1}{2}\\ p \\vert V \\vert^2 $.  \n",
    " Cantidad de aristas grafo escala $(\\vert V \\vert - m ) \\ m$. \n",
    " \n",
    " $\\frac{(\\vert V \\vert - m ) \\ m}{\\vert V \\vert^2} =\n",
    "   \\frac{2 \\vert E \\vert }{\\vert V \\vert^2} =l = \\text{porc} \\cdot 100$\n",
    ", en donde $m$ debe ser Natural.\n",
    "\n",
    "Tabla resumen de propiedades de los grafos creados:  \n",
    "\n",
    "## Grafos pesados: (25% , 10%) de |V|^2  \n",
    "Si los grafos tienen $6\\cdot 10^3$ nodos, entonces  \n",
    "   - $p= 5 \\cdot 10^{-1}, 2\\cdot 10^{-1}$  \n",
    "   - $m= 3000, 676$  \n",
    "https://www.desmos.com/calculator/hexyuqhciv  (caso $m=3000$)  \n",
    "https://www.desmos.com/calculator/aavefwc8xr  (caso $m=676$)  \n",
    "\n",
    "## Grafos medios: (1% , 0.1%) de |V|^2  \n",
    "Si los grafos tienen 10^4 nodos, entonces  \n",
    "   - $p=2 \\cdot 10^{-2},2\\cdot 10^{-3}$  \n",
    "   - $m= 101, 10$  \n",
    "https://www.desmos.com/calculator/cpzchvvivv  (caso $m=101$)  \n",
    "https://www.desmos.com/calculator/ztcdnzo8a9  (caso $m=10$)  \n",
    "\n",
    "## Grafos ligeros: (0.075% , 0.050%) de |V|^2  \n",
    "Si los grafos tienen 10^5 nodos, entonces:  \n",
    "   - $p= 1.5\\cdot10^{-3},1\\cdot 10^{-3}$  \n",
    "   - $m= 37, 25$  \n",
    "https://www.desmos.com/calculator/ednmvvhedw  (caso $m=37$)  \n",
    "https://www.desmos.com/calculator/qklykabhpy  (caso $m=25$)  \n",
    "\n",
    "\n",
    "## Grafos super ligeros: (0.025% , 0.015%, 0.01%) de |V|^2  \n",
    "Si los grafos tienen 10^5 nodos, entonces:  \n",
    "   - $p= 5\\cdot10^{-4},3\\cdot 10^{-4},2\\cdot 10^{-4}$  \n",
    "   - $m= 13, 8 ,5$  \n"
   ]
  },
  {
   "cell_type": "code",
   "execution_count": 7,
   "id": "4b31d0eb",
   "metadata": {
    "scrolled": false
   },
   "outputs": [
    {
     "data": {
      "text/plain": [
       "(1.5, 666)"
      ]
     },
     "execution_count": 7,
     "metadata": {},
     "output_type": "execute_result"
    }
   ],
   "source": [
    "porc=0.075\n",
    "prop=porc /100\n",
    "p=2* prop\n",
    "p*10**3, int(1/p)"
   ]
  },
  {
   "cell_type": "markdown",
   "id": "f8bbe18b",
   "metadata": {},
   "source": [
    "# Ver tiempo que demora la generación de un grafo para cada parametro utilizado:"
   ]
  },
  {
   "cell_type": "code",
   "execution_count": null,
   "id": "e3573b8c",
   "metadata": {
    "scrolled": false
   },
   "outputs": [],
   "source": [
    "lista_grafos=[\"algoritmo_escala\", \"algoritmo_aleatorio\"]\n",
    "lista_grafos=[ \"algoritmo_aleatorio\"]\n",
    "lista_size=[6000,10000,10**5]\n",
    "lista_size=[10**5]\n",
    "lista_p=[[5*10**(-1),2*10**(-1)],[2*10**(-2),2*10**(-3)],[1.5*10**(-1),1*10**(-3)]]\n",
    "lista_m=[[3000,676],[101,10],[75,50]]\n",
    "LTiempo=[]\n",
    "  \n",
    "\n",
    "for tipo_grafo in lista_grafos:\n",
    "    for tamaño in lista_size:\n",
    "        config=[tamaño]\n",
    "        if tipo_grafo==\"algoritmo_aleatorio\":\n",
    "            if tamaño ==6000:\n",
    "                lista_m_alpha=lista_p[0]\n",
    "            elif tamaño ==10000:    \n",
    "                lista_m_alpha=lista_p[1]\n",
    "            else:\n",
    "                lista_m_alpha=lista_p[2]\n",
    "            \n",
    "        if tipo_grafo==\"algoritmo_escala\":\n",
    "            if tamaño ==6000:\n",
    "                lista_m_alpha=lista_m[0]\n",
    "            elif tamaño ==10000:    \n",
    "                lista_m_alpha=lista_m[1]\n",
    "            else:\n",
    "                lista_m_alpha=lista_m[2]\n",
    "        for alpha in lista_m_alpha:\n",
    "            date_1=datetime.now()   \n",
    "            config.append(alpha)    \n",
    "            G=alg_grafo.made_graph(tipo_grafo, config)\n",
    "\n",
    "            date_2=datetime.now()     \n",
    "            print(tipo_grafo,tamaño,alpha,date_2-date_1)\n",
    "            LTiempo.append(date_2-date_1)\n",
    "            "
   ]
  },
  {
   "cell_type": "code",
   "execution_count": 1,
   "id": "a8ae2cfe",
   "metadata": {},
   "outputs": [
    {
     "ename": "NameError",
     "evalue": "name 'LTiempo' is not defined",
     "output_type": "error",
     "traceback": [
      "\u001b[1;31m---------------------------------------------------------------------------\u001b[0m",
      "\u001b[1;31mNameError\u001b[0m                                 Traceback (most recent call last)",
      "Cell \u001b[1;32mIn[1], line 1\u001b[0m\n\u001b[1;32m----> 1\u001b[0m \u001b[43mLTiempo\u001b[49m\n",
      "\u001b[1;31mNameError\u001b[0m: name 'LTiempo' is not defined"
     ]
    }
   ],
   "source": [
    "LTiempo"
   ]
  },
  {
   "cell_type": "markdown",
   "id": "8cae0f94",
   "metadata": {},
   "source": [
    "algoritmo_escala 6000 3000 0:00:25.828652  \n",
    "algoritmo_escala 6000 676 0:00:25.812620  \n",
    "algoritmo_escala 10000 101 0:00:02.416491  \n",
    "algoritmo_escala 10000 10 0:00:01.967849  \n",
    "algoritmo_escala 100000 75 0:00:16.775223  \n",
    "algoritmo_escala 100000 50 0:00:17.148675  \n",
    "algoritmo_aleatorio 6000 0.5 0:00:11.076587  \n",
    "algoritmo_aleatorio 6000 0.2 0:00:12.349600  \n",
    "algoritmo_aleatorio 10000 0.02 0:00:05.588186  \n",
    "algoritmo_aleatorio 10000 0.002 0:00:05.430101  \n",
    "algoritmo_aleatorio 10000 0.02 0:07:05.588186  \n",
    "algoritmo_aleatorio 10000 0.002 0:11:05.430101  "
   ]
  },
  {
   "cell_type": "code",
   "execution_count": 8,
   "id": "19b4962d",
   "metadata": {
    "scrolled": false
   },
   "outputs": [],
   "source": [
    "lista_grafos=[\"algoritmo_escala\", \"algoritmo_aleatorio\"]\n",
    "tipo_grafo=lista_grafos[0]\n",
    "\n",
    "#date_1=datetime.now()     \n",
    "\n",
    "tamaño=10**4\n",
    "\n",
    "config=[tamaño]\n",
    "if tipo_grafo==\"algoritmo_aleatorio\":\n",
    "    p=10**(-3)\n",
    "    p=0.0015  # 0.075 %\n",
    "    p=1.5*10**(-3)    \n",
    "    p=2*10**(-2)\n",
    "    config.append(p)\n",
    "if tipo_grafo==\"algoritmo_escala\":\n",
    "    m=101\n",
    "    config.append(m)    \n",
    "G=alg_grafo.made_graph(tipo_grafo, config)\n",
    "\n",
    "#date_2=datetime.now()     \n",
    "#print(date_2-date_1)"
   ]
  },
  {
   "cell_type": "code",
   "execution_count": 9,
   "id": "1d73a584",
   "metadata": {
    "scrolled": false
   },
   "outputs": [
    {
     "name": "stdout",
     "output_type": "stream",
     "text": [
      "Cantidad de nodos del grafo: 10000 \n",
      "\n",
      "Cantidad de aristas del grafo: 999799 \n",
      "\n",
      "Propoción de aristas en coomparación con |V|^2: 0.00999799 \n",
      "\n",
      "Porcentaje de aristas en coomparación con |V|^2: 0.999799 % \n",
      "\n",
      "Grado promedio: 99.9799\n",
      "True\n"
     ]
    }
   ],
   "source": [
    "print(\"Cantidad de nodos del grafo:\",len(G.nodes),\"\\n\")\n",
    "print(\"Cantidad de aristas del grafo:\",len(G.edges),\"\\n\")\n",
    "print(\"Propoción de aristas en coomparación con |V|^2:\",len(G.edges)/(len(G.nodes)**2),\"\\n\")\n",
    "print(\"Porcentaje de aristas en coomparación con |V|^2:\",len(G.edges)/(len(G.nodes)**2) *100 ,\"% \\n\")\n",
    "print(\"Grado promedio:\",len(G.edges)/len(list(G.nodes())))\n",
    "print(nx.is_connected(G))"
   ]
  },
  {
   "cell_type": "markdown",
   "id": "0d8d1adb",
   "metadata": {},
   "source": [
    "# Grafica distribución de grados del grafo\n",
    "\n",
    "Grafica distribución de grados del grafo guardado en G:"
   ]
  },
  {
   "cell_type": "code",
   "execution_count": 10,
   "id": "3caf736b",
   "metadata": {
    "scrolled": false
   },
   "outputs": [
    {
     "data": {
      "text/plain": [
       "Text(0, 0.5, 'Porcentaje')"
      ]
     },
     "execution_count": 10,
     "metadata": {},
     "output_type": "execute_result"
    },
    {
     "data": {
      "image/png": "[encoded data removed]",
      "text/plain": [
       "<Figure size 640x480 with 1 Axes>"
      ]
     },
     "metadata": {},
     "output_type": "display_data"
    }
   ],
   "source": [
    "dic_grados_G=dict(G.degree( list(G.nodes()) ))\n",
    "\n",
    "dist_pob=[]\n",
    "for x_i in list(G.nodes()):\n",
    "    di=dic_grados_G[x_i]\n",
    "    dist_pob.append(di)\n",
    "\n",
    "sns.histplot(dist_pob, stat='percent', bins=100, kde=True, label=\"muestra_1\",linewidth=1)\n",
    "\n",
    "#plt.xlim([0,10])\n",
    "#plt.ylim([0,100])\n",
    "plt.xlabel('Grados')\n",
    "plt.ylabel('Porcentaje')"
   ]
  },
  {
   "cell_type": "code",
   "execution_count": null,
   "id": "889d72c1",
   "metadata": {
    "scrolled": false
   },
   "outputs": [],
   "source": []
  },
  {
   "cell_type": "code",
   "execution_count": 24,
   "id": "74e35014",
   "metadata": {},
   "outputs": [
    {
     "data": {
      "image/png": "[encoded data removed]",
      "text/plain": [
       "<Figure size 1000x800 with 2 Axes>"
      ]
     },
     "metadata": {},
     "output_type": "display_data"
    }
   ],
   "source": [
    "size_figure=(10,8) # variable 3\n",
    "fig, axes = plt.subplots(1,2, figsize=size_figure, sharex=False, sharey=False)    \n",
    "\n",
    "num_col=0\n",
    "num_bins=50            \n",
    "n, bins, patches =axes[num_col].hist(dist_pob, bins=num_bins, density=True, edgecolor='black',fill=True, alpha=0.3,color=\"blue\",label=\"dict_name_sample[tipo_sample]\", log=True)\n",
    "# Añadir escalas log-log\n",
    "axes[num_col].set_xscale('log')\n",
    "axes[num_col].set_yscale('log')\n",
    "axes[num_col].grid()\n",
    "\n",
    "# Ajustar una línea recta (regresión lineal) en escala log-log\n",
    "log_bins = np.log10(bins)\n",
    "log_n = np.log10(n)\n",
    "\n",
    "# Ajustar una línea recta utilizando polyfit\n",
    "coeff = np.polyfit(log_bins[:-1], log_n, 1)\n",
    "\n",
    "# Calcular los valores ajustados\n",
    "fit_line = 10**(coeff[1]) * (bins**coeff[0])\n",
    "\n",
    "# Graficar la línea ajustada\n",
    "axes[num_col].plot(bins, fit_line, color='red', linestyle='--', label='Ajuste Lineal')\n",
    "\n",
    "if True:\n",
    "    # Personalizar la gráfica\n",
    "    axes[num_col].set_title('Gráfica de distribución de grados (Esc. log log).')\n",
    "    axes[num_col].set_xlabel('Grado (Esc. Log.).')\n",
    "    axes[num_col].set_ylabel('Densidad de cant. de nodos (Esc. Log.).')\n",
    "\n",
    "num_col=1\n",
    "num_bins=50\n",
    "axes[num_col].hist(dist_pob, bins=num_bins, density=True, edgecolor='none', alpha=0.3, fill=True,color=\"blue\",label=\"dict_name_sample[tipo_sample]\", log=False)\n",
    "axes[num_col].hist(dist_pob, bins=num_bins, density=True, edgecolor='black', alpha=1, fill=False,label=\"Dist grados poblacional.\", log=False)     \n",
    "axes[num_col].grid()\n",
    "\n",
    "if True:\n",
    "    # Personalizar la gráfica\n",
    "    axes[num_col].set_title('Gráfica de distribución de grados.')\n",
    "    axes[num_col].set_xlabel('Grado.')\n",
    "    axes[num_col].set_ylabel('Densidad de cant. de nodos.')\n",
    "plt.tight_layout()    "
   ]
  },
  {
   "cell_type": "code",
   "execution_count": 20,
   "id": "cb129628",
   "metadata": {
    "scrolled": false
   },
   "outputs": [],
   "source": []
  },
  {
   "cell_type": "code",
   "execution_count": null,
   "id": "bf5b233a",
   "metadata": {
    "scrolled": false
   },
   "outputs": [],
   "source": []
  },
  {
   "cell_type": "code",
   "execution_count": null,
   "id": "0d96a166",
   "metadata": {
    "scrolled": false
   },
   "outputs": [],
   "source": []
  },
  {
   "cell_type": "code",
   "execution_count": null,
   "id": "dad7a914",
   "metadata": {
    "scrolled": false
   },
   "outputs": [],
   "source": []
  },
  {
   "cell_type": "code",
   "execution_count": null,
   "id": "93cde8b2",
   "metadata": {
    "scrolled": false
   },
   "outputs": [],
   "source": []
  },
  {
   "cell_type": "code",
   "execution_count": null,
   "id": "df64e5bb",
   "metadata": {
    "scrolled": false
   },
   "outputs": [],
   "source": []
  },
  {
   "cell_type": "markdown",
   "id": "1de052e3",
   "metadata": {},
   "source": [
    "# Crea los grafo para la etapa de experimentación.   \n",
    "# No cambiar de aquí para abajo .\n",
    "\n",
    "# Grafos  pesados"
   ]
  },
  {
   "cell_type": "code",
   "execution_count": null,
   "id": "51dfa3ef",
   "metadata": {
    "scrolled": false
   },
   "outputs": [],
   "source": [
    "densidad=\"pesada\" \n",
    "tipo_grafo=\"aleatorio\"\n",
    "n=6*10**3\n",
    "parametro=5*10**(-1)\n",
    "inicio,termino=0,100\n",
    "\n",
    "alg_grafo.made_lot_graph(densidad,tipo_grafo,n,parametro,inicio,termino)"
   ]
  },
  {
   "cell_type": "code",
   "execution_count": null,
   "id": "48d4cf81",
   "metadata": {
    "scrolled": false
   },
   "outputs": [],
   "source": [
    "densidad=\"pesada\" \n",
    "tipo_grafo=\"aleatorio\"\n",
    "n=6*10**3\n",
    "parametro=2*10**(-1)\n",
    "inicio,termino=0,100\n",
    "\n",
    "alg_grafo.made_lot_graph(densidad,tipo_grafo,n,parametro,inicio,termino)"
   ]
  },
  {
   "cell_type": "code",
   "execution_count": null,
   "id": "4314ec13",
   "metadata": {
    "scrolled": false
   },
   "outputs": [],
   "source": [
    "densidad=\"pesada\" \n",
    "tipo_grafo=\"escala\"\n",
    "n=6*10**3\n",
    "parametro=676\n",
    "inicio,termino=0,100\n",
    "\n",
    "alg_grafo.made_lot_graph(densidad,tipo_grafo,n,parametro,inicio,termino)"
   ]
  },
  {
   "cell_type": "code",
   "execution_count": null,
   "id": "14f5988f",
   "metadata": {
    "scrolled": false
   },
   "outputs": [],
   "source": [
    "densidad=\"pesada\" \n",
    "tipo_grafo=\"escala\"\n",
    "n=6*10**3\n",
    "parametro=3000\n",
    "inicio,termino=0,100\n",
    "\n",
    "alg_grafo.made_lot_graph(densidad,tipo_grafo,n,parametro,inicio,termino)"
   ]
  },
  {
   "cell_type": "code",
   "execution_count": null,
   "id": "4a04d89e",
   "metadata": {
    "scrolled": false
   },
   "outputs": [],
   "source": []
  },
  {
   "cell_type": "code",
   "execution_count": null,
   "id": "404f70e3",
   "metadata": {
    "scrolled": false
   },
   "outputs": [],
   "source": []
  },
  {
   "cell_type": "markdown",
   "id": "cb140dd8",
   "metadata": {},
   "source": [
    "# Grafos de densidad media"
   ]
  },
  {
   "cell_type": "code",
   "execution_count": null,
   "id": "f4d42eb9",
   "metadata": {
    "scrolled": false
   },
   "outputs": [],
   "source": [
    "densidad=\"media\" \n",
    "tipo_grafo=\"aleatorio\"\n",
    "n=10**4\n",
    "parametro=2*10**(-2)\n",
    "inicio,termino=0,100\n",
    "\n",
    "alg_grafo.made_lot_graph(densidad,tipo_grafo,n,parametro,inicio,termino)"
   ]
  },
  {
   "cell_type": "code",
   "execution_count": null,
   "id": "9d456f40",
   "metadata": {
    "scrolled": false
   },
   "outputs": [],
   "source": [
    "densidad=\"media\" \n",
    "tipo_grafo=\"aleatorio\"\n",
    "n=10**4\n",
    "parametro=2*10**(-3)\n",
    "inicio,termino=0,100\n",
    "\n",
    "alg_grafo.made_lot_graph(densidad,tipo_grafo,n,parametro,inicio,termino)"
   ]
  },
  {
   "cell_type": "code",
   "execution_count": null,
   "id": "0df9d173",
   "metadata": {
    "scrolled": false
   },
   "outputs": [],
   "source": [
    "densidad=\"media\" \n",
    "tipo_grafo=\"escala\"\n",
    "n=10**4\n",
    "parametro=101\n",
    "inicio,termino=0,100\n",
    "\n",
    "alg_grafo.made_lot_graph(densidad,tipo_grafo,n,parametro,inicio,termino)"
   ]
  },
  {
   "cell_type": "code",
   "execution_count": null,
   "id": "df99f5c3",
   "metadata": {
    "scrolled": false
   },
   "outputs": [],
   "source": [
    "densidad=\"media\" \n",
    "tipo_grafo=\"escala\"\n",
    "n=10**4\n",
    "parametro=10\n",
    "inicio,termino=0,100\n",
    "\n",
    "alg_grafo.made_lot_graph(densidad,tipo_grafo,n,parametro,inicio,termino)"
   ]
  },
  {
   "cell_type": "code",
   "execution_count": null,
   "id": "4b1ba305",
   "metadata": {
    "scrolled": false
   },
   "outputs": [],
   "source": []
  },
  {
   "cell_type": "code",
   "execution_count": null,
   "id": "1cac39f8",
   "metadata": {
    "scrolled": false
   },
   "outputs": [],
   "source": []
  },
  {
   "cell_type": "markdown",
   "id": "e7a997e7",
   "metadata": {},
   "source": [
    "# Grafos de densidad ligeros"
   ]
  },
  {
   "cell_type": "code",
   "execution_count": null,
   "id": "6a1594ad",
   "metadata": {
    "scrolled": false
   },
   "outputs": [],
   "source": [
    "densidad=\"ligera\" \n",
    "tipo_grafo=\"aleatorio\"\n",
    "n=5*10**4\n",
    "parametro=10**(-3)\n",
    "inicio,termino=0,100\n",
    "\n",
    "alg_grafo.made_lot_graph(densidad,tipo_grafo,n,parametro,inicio,termino)"
   ]
  },
  {
   "cell_type": "code",
   "execution_count": null,
   "id": "875bbf95",
   "metadata": {
    "scrolled": false
   },
   "outputs": [],
   "source": [
    "densidad=\"ligera\" \n",
    "tipo_grafo=\"aleatorio\"\n",
    "n=5*10**4\n",
    "parametro=1.5*10**(-3)\n",
    "inicio,termino=0,100\n",
    "\n",
    "alg_grafo.made_lot_graph(densidad,tipo_grafo,n,parametro,inicio,termino)"
   ]
  },
  {
   "cell_type": "code",
   "execution_count": null,
   "id": "6071c10d",
   "metadata": {
    "scrolled": false
   },
   "outputs": [],
   "source": []
  },
  {
   "cell_type": "code",
   "execution_count": null,
   "id": "e06e4e62",
   "metadata": {
    "scrolled": false
   },
   "outputs": [],
   "source": []
  },
  {
   "cell_type": "code",
   "execution_count": null,
   "id": "e8d258ff",
   "metadata": {
    "scrolled": false
   },
   "outputs": [],
   "source": [
    "densidad=\"ligera\" \n",
    "tipo_grafo=\"escala\"\n",
    "n=5*10**4\n",
    "parametro=37\n",
    "inicio,termino=25,100\n",
    "\n",
    "alg_grafo.made_lot_graph(densidad,tipo_grafo,n,parametro,inicio,termino)"
   ]
  },
  {
   "cell_type": "code",
   "execution_count": null,
   "id": "76aca8cb",
   "metadata": {
    "scrolled": false
   },
   "outputs": [],
   "source": [
    "densidad=\"ligera\" \n",
    "tipo_grafo=\"escala\"\n",
    "n=5*10**4\n",
    "parametro=25\n",
    "inicio,termino=0,100\n",
    "\n",
    "alg_grafo.made_lot_graph(densidad,tipo_grafo,n,parametro,inicio,termino)"
   ]
  },
  {
   "cell_type": "code",
   "execution_count": null,
   "id": "9b8bc109",
   "metadata": {
    "scrolled": false
   },
   "outputs": [],
   "source": []
  },
  {
   "cell_type": "code",
   "execution_count": null,
   "id": "53f68951",
   "metadata": {
    "scrolled": false
   },
   "outputs": [],
   "source": []
  },
  {
   "cell_type": "markdown",
   "id": "bd28de77",
   "metadata": {},
   "source": [
    "# Grafos de densidad super ligeros"
   ]
  },
  {
   "cell_type": "code",
   "execution_count": null,
   "id": "5dcd7fde",
   "metadata": {
    "scrolled": false
   },
   "outputs": [],
   "source": [
    "densidad=\"super ligera\" \n",
    "tipo_grafo=\"aleatorio\"\n",
    "n=5*10**4\n",
    "parametro=5*10**(-4)\n",
    "inicio,termino=82,100\n",
    "#alg_grafo.nombre_ubi_save(densidad, tipo_grafo,parametro)\n",
    "alg_grafo.made_lot_graph(densidad,tipo_grafo,n,parametro,inicio,termino)"
   ]
  },
  {
   "cell_type": "code",
   "execution_count": null,
   "id": "1c08c465",
   "metadata": {
    "scrolled": false
   },
   "outputs": [],
   "source": [
    "densidad=\"super ligera\" \n",
    "tipo_grafo=\"aleatorio\"\n",
    "n=5*10**4\n",
    "parametro=2*10**(-4)\n",
    "inicio,termino=0,100\n",
    "#alg_grafo.nombre_ubi_save(densidad, tipo_grafo,parametro)\n",
    "alg_grafo.made_lot_graph(densidad,tipo_grafo,n,parametro,inicio,termino)"
   ]
  },
  {
   "cell_type": "code",
   "execution_count": null,
   "id": "7292d4b5",
   "metadata": {
    "scrolled": false
   },
   "outputs": [],
   "source": [
    "densidad=\"super ligera\" \n",
    "tipo_grafo=\"aleatorio\"\n",
    "n=5*10**4\n",
    "parametro=3*10**(-4)\n",
    "inicio,termino=0,100\n",
    "#alg_grafo.nombre_ubi_save(densidad, tipo_grafo,parametro)\n",
    "alg_grafo.made_lot_graph(densidad,tipo_grafo,n,parametro,inicio,termino)"
   ]
  },
  {
   "cell_type": "code",
   "execution_count": null,
   "id": "5f992007",
   "metadata": {
    "scrolled": false
   },
   "outputs": [],
   "source": []
  },
  {
   "cell_type": "code",
   "execution_count": null,
   "id": "94f73ace",
   "metadata": {
    "scrolled": false
   },
   "outputs": [],
   "source": [
    "densidad=\"super ligera\" \n",
    "tipo_grafo=\"escala\"\n",
    "n=5*10**4\n",
    "parametro=13\n",
    "inicio,termino=0,100\n",
    "#alg_grafo.nombre_ubi_save(densidad, tipo_grafo,parametro)\n",
    "alg_grafo.made_lot_graph(densidad,tipo_grafo,n,parametro,inicio,termino)\n"
   ]
  },
  {
   "cell_type": "code",
   "execution_count": null,
   "id": "d3438dae",
   "metadata": {
    "scrolled": false
   },
   "outputs": [],
   "source": [
    "densidad=\"super ligera\" \n",
    "tipo_grafo=\"escala\"\n",
    "n=5*10**4\n",
    "parametro=5\n",
    "inicio,termino=0,100\n",
    "alg_grafo.made_lot_graph(densidad,tipo_grafo,n,parametro,inicio,termino)\n",
    "\n",
    "\n"
   ]
  },
  {
   "cell_type": "code",
   "execution_count": null,
   "id": "22ffaf2e",
   "metadata": {
    "scrolled": true
   },
   "outputs": [],
   "source": [
    "densidad=\"super ligera\" \n",
    "tipo_grafo=\"escala\"\n",
    "n=5*10**4\n",
    "parametro=8\n",
    "inicio,termino=0,100\n",
    "alg_grafo.made_lot_graph(densidad,tipo_grafo,n,parametro,inicio,termino)\n",
    "#alg_grafo.nombre_ubi_save(densidad, tipo_grafo,parametro)"
   ]
  },
  {
   "cell_type": "code",
   "execution_count": null,
   "id": "e9daa29e",
   "metadata": {
    "scrolled": false
   },
   "outputs": [],
   "source": []
  },
  {
   "cell_type": "code",
   "execution_count": 1,
   "id": "987a4e99",
   "metadata": {
    "scrolled": false
   },
   "outputs": [
    {
     "ename": "ModuleNotFoundError",
     "evalue": "No module named 'sklearn'",
     "output_type": "error",
     "traceback": [
      "\u001b[1;31m---------------------------------------------------------------------------\u001b[0m",
      "\u001b[1;31mModuleNotFoundError\u001b[0m                       Traceback (most recent call last)",
      "Cell \u001b[1;32mIn[1], line 1\u001b[0m\n\u001b[1;32m----> 1\u001b[0m \u001b[38;5;28;01mfrom\u001b[39;00m \u001b[38;5;21;01msklearn\u001b[39;00m\u001b[38;5;21;01m.\u001b[39;00m\u001b[38;5;21;01mmixture\u001b[39;00m \u001b[38;5;28;01mimport\u001b[39;00m GMM\n\u001b[0;32m      2\u001b[0m gmm \u001b[38;5;241m=\u001b[39m GMM(n_components\u001b[38;5;241m=\u001b[39m\u001b[38;5;241m4\u001b[39m)\u001b[38;5;241m.\u001b[39mfit(X)\n\u001b[0;32m      3\u001b[0m labels \u001b[38;5;241m=\u001b[39m gmm\u001b[38;5;241m.\u001b[39mpredict(X)\n",
      "\u001b[1;31mModuleNotFoundError\u001b[0m: No module named 'sklearn'"
     ]
    }
   ],
   "source": []
  },
  {
   "cell_type": "code",
   "execution_count": null,
   "id": "f14d0dc1",
   "metadata": {
    "scrolled": true
   },
   "outputs": [],
   "source": []
  },
  {
   "cell_type": "code",
   "execution_count": null,
   "id": "cec21b3a",
   "metadata": {
    "scrolled": true
   },
   "outputs": [],
   "source": []
  },
  {
   "cell_type": "code",
   "execution_count": null,
   "id": "509d46f4",
   "metadata": {
    "scrolled": true
   },
   "outputs": [],
   "source": []
  }
 ],
 "metadata": {
  "kernelspec": {
   "display_name": "Python 3 (ipykernel)",
   "language": "python",
   "name": "python3"
  },
  "language_info": {
   "codemirror_mode": {
    "name": "ipython",
    "version": 3
   },
   "file_extension": ".py",
   "mimetype": "text/x-python",
   "name": "python",
   "nbconvert_exporter": "python",
   "pygments_lexer": "ipython3",
   "version": "3.11.3"
  }
 },
 "nbformat": 4,
 "nbformat_minor": 5
}
