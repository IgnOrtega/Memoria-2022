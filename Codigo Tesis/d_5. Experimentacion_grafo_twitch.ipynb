{
 "cells": [
  {
   "cell_type": "code",
   "execution_count": 1,
   "id": "34b119aa",
   "metadata": {},
   "outputs": [
    {
     "name": "stdout",
     "output_type": "stream",
     "text": [
      "C:\\Users\\56961\n"
     ]
    }
   ],
   "source": [
    "cd"
   ]
  },
  {
   "cell_type": "code",
   "execution_count": 2,
   "id": "53fab797",
   "metadata": {},
   "outputs": [
    {
     "name": "stdout",
     "output_type": "stream",
     "text": [
      "C:\\Users\\56961\\Desktop\\portafolio\n"
     ]
    }
   ],
   "source": [
    "cd Desktop\\portafolio"
   ]
  },
  {
   "cell_type": "code",
   "execution_count": 3,
   "id": "94c56abb",
   "metadata": {},
   "outputs": [
    {
     "name": "stderr",
     "output_type": "stream",
     "text": [
      "C:\\Users\\56961\\AppData\\Local\\Temp\\ipykernel_4276\\3674724974.py:1: DeprecationWarning: `magic(...)` is deprecated since IPython 0.13 (warning added in 8.1), use run_line_magic(magic_name, parameter_s).\n",
      "  get_ipython().magic('reset -sf')\n"
     ]
    }
   ],
   "source": [
    "get_ipython().magic('reset -sf')"
   ]
  },
  {
   "cell_type": "code",
   "execution_count": 4,
   "id": "3acc7729",
   "metadata": {},
   "outputs": [],
   "source": [
    "# cargar librerias\n",
    "\n",
    "# definir librerias\n",
    "import random\n",
    "import numpy as np\n",
    "import pandas as pd\n",
    "\n",
    "import numpy as np\n",
    "import seaborn as sns\n",
    "import matplotlib.pyplot as plt\n",
    "import sys\n",
    "import networkx as nx\n",
    "import pickle \n",
    "from collections import Counter\n",
    "from datetime import datetime\n",
    "#import graphviz\n",
    "\n",
    "from librerias.algoritmos_frecuentista  import *\n",
    "from datetime import datetime"
   ]
  },
  {
   "cell_type": "markdown",
   "id": "f5649fb4",
   "metadata": {
    "scrolled": true
   },
   "source": [
    "# Lista de estimadores"
   ]
  },
  {
   "cell_type": "code",
   "execution_count": 5,
   "id": "caf08d01",
   "metadata": {},
   "outputs": [
    {
     "name": "stdout",
     "output_type": "stream",
     "text": [
      "1 PIMPLE\n",
      "2 EMV\n",
      "3 GNSUM\n",
      "4 RDS_I\n",
      "5 RDS_II\n"
     ]
    }
   ],
   "source": [
    "L_name_est=[\"PIMPLE\",\"EMV\",\"GNSUM\",\"RDS_I\",\"RDS_II\"]\n",
    "for i,j in zip(range(0,16),L_name_est):\n",
    "    print(i+1,j)\n",
    "    "
   ]
  },
  {
   "cell_type": "markdown",
   "id": "f3863622",
   "metadata": {},
   "source": [
    "# Todas las configuraciones:"
   ]
  },
  {
   "cell_type": "code",
   "execution_count": 6,
   "id": "7c47af4e",
   "metadata": {},
   "outputs": [],
   "source": [
    "# input comple\n",
    "# input comple\n",
    "L_metodo_infec=[\"1\",\"2\",\"3\",\"4\",\"DP\",\"IP\"]\n",
    "L_porc_nodos_infec=[0.01,0.1,0.5, 0.9]\n",
    "\n",
    "L_tipo_sample_p_gral=[\"5\",\"6\",\"7\",\"8\"]\n",
    "L_porc_nodos_muestra=[0.01,0.1,0.5,0.9]\n",
    "L_name_est=[\"PIMPLE\",\"EMV\",\"GNSUM\",\"RDS_I\",\"RDS_II\"]"
   ]
  },
  {
   "cell_type": "markdown",
   "id": "877b9f1a",
   "metadata": {},
   "source": [
    "# Cargar grafo"
   ]
  },
  {
   "cell_type": "code",
   "execution_count": 7,
   "id": "321758b6",
   "metadata": {},
   "outputs": [],
   "source": [
    "name_grafo=\"datos grafos reales/pickle/grafo_twitch_gamers\"\n",
    "file = open(name_grafo, 'rb')\n",
    "# dump information to that filea\n",
    "G= pickle.load(file)\n",
    "#close the file\n",
    "file.close()"
   ]
  },
  {
   "cell_type": "markdown",
   "id": "f332acd9",
   "metadata": {},
   "source": [
    "# Cargar Diccionario con conjuntos H"
   ]
  },
  {
   "cell_type": "code",
   "execution_count": 8,
   "id": "12381d58",
   "metadata": {},
   "outputs": [
    {
     "data": {
      "text/plain": [
       "['views<=520',\n",
       " 'mature==0',\n",
       " 'life_time<=600',\n",
       " 'dead_account==1',\n",
       " 'language_EN',\n",
       " 'language_FR',\n",
       " 'language_KO',\n",
       " 'language_JA',\n",
       " 'language_RU',\n",
       " 'language_PL',\n",
       " 'language_DE',\n",
       " 'language_ES',\n",
       " 'language_IT',\n",
       " 'language_PT',\n",
       " 'language_OTHER',\n",
       " 'language_TR',\n",
       " 'language_ZH',\n",
       " 'language_SV',\n",
       " 'language_NL',\n",
       " 'language_TH',\n",
       " 'language_CS',\n",
       " 'language_DA',\n",
       " 'language_HU',\n",
       " 'language_FI',\n",
       " 'language_NO',\n",
       " 'affiliate==1']"
      ]
     },
     "execution_count": 8,
     "metadata": {},
     "output_type": "execute_result"
    }
   ],
   "source": [
    "directorio=\"datos grafos reales/conjuntos_H_grafo_twicht/\"\n",
    "name_save_1=\"dic_conjuntos_H\"\n",
    "file = open(directorio+name_save_1, 'rb')\n",
    "dic_conjuntos_H= pickle.load(file)\n",
    "file.close()\n",
    "\n",
    "list_label_set_h=list(dic_conjuntos_H.keys())\n",
    "list_label_set_h\n",
    "#dic_conjuntos_H[list_label_set_h[0]]"
   ]
  },
  {
   "cell_type": "markdown",
   "id": "8dcea62c",
   "metadata": {},
   "source": [
    "Ejemplo de cargar Diccionario i con las muestras de nodos "
   ]
  },
  {
   "cell_type": "code",
   "execution_count": 9,
   "id": "66e979e5",
   "metadata": {},
   "outputs": [
    {
     "data": {
      "text/plain": [
       "['tipo_muestreo5porc_nodos0.01',\n",
       " 'tipo_muestreo5porc_nodos0.1',\n",
       " 'tipo_muestreo5porc_nodos0.5',\n",
       " 'tipo_muestreo5porc_nodos0.9',\n",
       " 'tipo_muestreo6porc_nodos0.01',\n",
       " 'tipo_muestreo6porc_nodos0.1',\n",
       " 'tipo_muestreo6porc_nodos0.5',\n",
       " 'tipo_muestreo6porc_nodos0.9',\n",
       " 'tipo_muestreo7porc_nodos0.01',\n",
       " 'tipo_muestreo7porc_nodos0.1',\n",
       " 'tipo_muestreo7porc_nodos0.5',\n",
       " 'tipo_muestreo7porc_nodos0.9',\n",
       " 'tipo_muestreo8porc_nodos0.01',\n",
       " 'tipo_muestreo8porc_nodos0.1',\n",
       " 'tipo_muestreo8porc_nodos0.5',\n",
       " 'tipo_muestreo8porc_nodos0.9']"
      ]
     },
     "execution_count": 9,
     "metadata": {},
     "output_type": "execute_result"
    }
   ],
   "source": [
    "i=0\n",
    "directorio=\"datos_muestra/muestras_grafo_twitch/\"\n",
    "name_save_1=\"id_\"+str(i)+\"_subset_nodos\"\n",
    "\n",
    "file = open(directorio+name_save_1, 'rb')\n",
    "dic_lista_infec_y_sample= pickle.load(file)\n",
    "file.close()\n",
    "\n",
    "list(dic_lista_infec_y_sample.keys())"
   ]
  },
  {
   "cell_type": "markdown",
   "id": "07386b2c",
   "metadata": {},
   "source": [
    "Ejemplo de cargar Diccionario i con las muestras de aristas"
   ]
  },
  {
   "cell_type": "code",
   "execution_count": 10,
   "id": "6b143885",
   "metadata": {},
   "outputs": [
    {
     "data": {
      "text/plain": [
       "['tipo_muestreo7porc_nodos0.01',\n",
       " 'tipo_muestreo7porc_nodos0.1',\n",
       " 'tipo_muestreo7porc_nodos0.5',\n",
       " 'tipo_muestreo7porc_nodos0.9',\n",
       " 'tipo_muestreo8porc_nodos0.01',\n",
       " 'tipo_muestreo8porc_nodos0.1',\n",
       " 'tipo_muestreo8porc_nodos0.5',\n",
       " 'tipo_muestreo8porc_nodos0.9']"
      ]
     },
     "execution_count": 10,
     "metadata": {},
     "output_type": "execute_result"
    }
   ],
   "source": [
    "i=0\n",
    "directorio=\"datos_muestra/muestras_grafo_twitch/\"\n",
    "name_save_1=\"id_\"+str(i)+\"_subset_aristas\"\n",
    "\n",
    "file = open(directorio+name_save_1, 'rb')\n",
    "dic_l_sample_aristas= pickle.load(file)\n",
    "file.close()    \n",
    "l_key_sample_aristas=list(dic_l_sample_aristas.keys())\n",
    "\n",
    "l_key_sample_aristas"
   ]
  },
  {
   "cell_type": "code",
   "execution_count": null,
   "id": "26759aba",
   "metadata": {},
   "outputs": [],
   "source": []
  },
  {
   "cell_type": "markdown",
   "id": "3d5cf646",
   "metadata": {},
   "source": [
    "# Calculo de estimaciones con cada muestra $i$, $i=0,1,...,99$"
   ]
  },
  {
   "cell_type": "code",
   "execution_count": null,
   "id": "255dcb5f",
   "metadata": {
    "scrolled": true
   },
   "outputs": [],
   "source": [
    "# Opciones de los estimadores\n",
    "L_tipo_sample_p_gral=[\"5\",\"6\",\"7\",\"8\"]\n",
    "L_porc_nodos_muestra=[0.01,0.1,0.5,0.9]\n",
    "L_n_metodo_est=[1,2,3,4,5]\n",
    "\n",
    "# Propiedades del grafo\n",
    "set_nodos=set(G.nodes())\n",
    "N=len(set_nodos)\n",
    "dict_nei_G={x_i:set(G.neighbors(x_i))  for x_i in list(G.nodes())}    \n",
    "dic_grados_G=dict(G.degree( list(G.nodes()) ))\n",
    "\n",
    "# cargar Diccionario con conjuntos H\n",
    "directorio=\"datos grafos reales/conjuntos_H_grafo_twicht/\"\n",
    "name_save_1=\"dic_conjuntos_H\"\n",
    "file = open(directorio+name_save_1, 'rb')\n",
    "dic_conjuntos_H= pickle.load(file)\n",
    "file.close()\n",
    "list_label_set_h=list(dic_conjuntos_H.keys())\n",
    "dict_label_H={u:v for u,v in zip(list(dic_conjuntos_H.keys()),list(range(len(list(dic_conjuntos_H.keys())))))}\n",
    "\n",
    "\n",
    "# Opciones variables\n",
    "#Inicio  for \n",
    "iteracion=0\n",
    "for i in range(0,100):  # i<-id sample\n",
    "    \n",
    "    date_1=datetime.now()  \n",
    "    col_id_sample=[]\n",
    "    col_label_H=[]\n",
    "    col_tipo_sample_p_gral=[]\n",
    "    col_porc_nodos_muestra=[]\n",
    "    col_n_metodo_est=[]\n",
    "\n",
    "    col_Valor_Estimado=[]\n",
    "    col_valor_error=[]\n",
    "    col_valor_error_rel=[]  \n",
    "    \n",
    "    # cargar set de muestras de nodos con id=i\n",
    "    directorio=\"datos_muestra/muestras_grafo_twitch/\"\n",
    "    name_save_1=\"id_\"+str(i)+\"_subset_nodos\"\n",
    "    file = open(directorio+name_save_1, 'rb')\n",
    "    dic_l_sample_nodos= pickle.load(file)\n",
    "    file.close()\n",
    "    l_key_sample_nodos=list(dic_l_sample_nodos.keys())\n",
    "    \n",
    "    # cargar set de muestras de aristas con id=i    \n",
    "    directorio=\"datos_muestra/muestras_grafo_twitch/\"\n",
    "    name_save_1=\"id_\"+str(i)+\"_subset_aristas\"\n",
    "    file = open(directorio+name_save_1, 'rb')\n",
    "    dic_l_sample_aristas= pickle.load(file)\n",
    "    file.close()    \n",
    "    l_key_sample_aristas=list(dic_l_sample_aristas.keys())\n",
    "    \n",
    "    for key_N_H in list_label_set_h: # dic_conjuntos_H\n",
    "        num_N_H=int(dict_label_H[key_N_H])\n",
    "        if num_N_H >= 8:\n",
    "            continue\n",
    "            \n",
    "        # cargar grupo a estimar H \n",
    "        lista_infectados=dic_conjuntos_H[key_N_H]\n",
    "        set_infectados=set(lista_infectados)\n",
    "        set_noinfectados=set(G.nodes())- set_infectados\n",
    "        N_H=len(lista_infectados)\n",
    "        \n",
    "        for tipo_muestreo in L_tipo_sample_p_gral:\n",
    "            for porc_nodos in L_porc_nodos_muestra:\n",
    "                # cargar sample nodos\n",
    "                key_sample=\"tipo_muestreo\"+str(tipo_muestreo)+\"porc_nodos\"+str(porc_nodos)\n",
    "                Muestra_general=dic_l_sample_nodos[key_sample]\n",
    "                M=len(Muestra_general)\n",
    "\n",
    "                # cargar sample aristas\n",
    "                if tipo_muestreo==\"7\" or tipo_muestreo==\"8\":\n",
    "                    sample_aristas=dic_l_sample_aristas[key_sample]\n",
    "\n",
    "                if tipo_muestreo==\"5\" or tipo_muestreo==\"6\":\n",
    "                    input_sumas,est_cab,est_cba=calculos_basicos(tipo_muestreo,Muestra_general,dict_nei_G,dic_grados_G,set_infectados,set_noinfectados) \n",
    "                else:\n",
    "                    input_sumas=calculos_basicos(tipo_muestreo,Muestra_general,dict_nei_G,dic_grados_G,set_infectados,set_noinfectados) \n",
    "                    est_cab,est_cba=compute_c_ab_sample_7_8(sample_aristas,set_infectados)\n",
    "                    #est_cab,est_cba=cython.compute_c_ab_sample_7_8_cython(sample_aristas,set_infectados)\n",
    "\n",
    "                input_base=[tipo_muestreo,N,M]\n",
    "                input_base.extend(input_sumas)\n",
    "\n",
    "                for n_metodo_est in L_n_metodo_est:  \n",
    "                    iteracion=iteracion+1\n",
    "\n",
    "                    Estimacion_alg,metodo_est=alg_estimador_manager_zip(n_metodo_est,input_base,est_cab,est_cba)\n",
    "                    print(iteracion,tipo_muestreo, porc_nodos, n_metodo_est,Estimacion_alg,metodo_est)                                    \n",
    "                    # N_H = int(N*porc_nodos_infec)\n",
    "                    error=N_H-Estimacion_alg\n",
    "\n",
    "                    # guardar informacion de la iteracion en listas correspondientes\n",
    "                    col_id_sample.append(i)\n",
    "                    col_label_H.append(key_N_H)\n",
    "                    col_tipo_sample_p_gral.append(tipo_muestreo)\n",
    "                    col_porc_nodos_muestra.append(porc_nodos)\n",
    "\n",
    "                    col_n_metodo_est.append(metodo_est)\n",
    "                    col_Valor_Estimado.append(Estimacion_alg)\n",
    "                    col_valor_error.append(error)\n",
    "                    col_valor_error_rel.append( error/ N_H)                            \n",
    "\n",
    "    # Termino for # Generar DF\n",
    "    n_col1=\"Id_sample\"\n",
    "    n_col2=\"Etiqueta H\"\n",
    "    n_col3=\"Tipo_sample_p_gral\"\n",
    "    n_col4=\"Porc_nodos_muestra\"\n",
    "    n_col5=\"Num_metodo_est\"  \n",
    "    n_col6=\"Valor_Estimado\"\n",
    "    n_col7=\"Valor_error(Exac - Est)\"\n",
    "    n_col8=\"Valor_error_rel(Exac - Est)\"\n",
    "\n",
    "    col1=col_id_sample\n",
    "    col2=col_label_H\n",
    "    col3=col_tipo_sample_p_gral\n",
    "    col4=col_porc_nodos_muestra\n",
    "    col5=col_n_metodo_est\n",
    "    col6=col_Valor_Estimado\n",
    "    col7=col_valor_error\n",
    "    col8=col_valor_error_rel\n",
    "    \n",
    "    dic_df={n_col1:col1 ,n_col2:col2 ,n_col3:col3 ,n_col4:col4 ,n_col5:col5 ,n_col6:col6,n_col7:col7,n_col8:col8}\n",
    "    Df_est_m1=pd.DataFrame(dic_df)\n",
    "\n",
    "    # creamos fichero binario \n",
    "    name_df=\"data frame/\"+\"sample_id_\"+str(i)\n",
    "    fichero_bin= open( name_df, \"wb\")\n",
    "    pickle.dump(Df_est_m1, fichero_bin)\n",
    "    fichero_bin.close()\n",
    "#    return Df_est_m1         \n",
    "\n",
    "    date_2=datetime.now() \n",
    "    print(date_2- date_1) # imprimir tiempo que demora en estimacion de un conjunto de muestras"
   ]
  },
  {
   "cell_type": "code",
   "execution_count": null,
   "id": "3ae60928",
   "metadata": {},
   "outputs": [],
   "source": []
  },
  {
   "cell_type": "code",
   "execution_count": 13,
   "id": "6d4fbf6f",
   "metadata": {},
   "outputs": [],
   "source": []
  },
  {
   "cell_type": "code",
   "execution_count": null,
   "id": "c95d7989",
   "metadata": {},
   "outputs": [],
   "source": []
  },
  {
   "cell_type": "code",
   "execution_count": 20,
   "id": "cf11dcec",
   "metadata": {},
   "outputs": [],
   "source": []
  },
  {
   "cell_type": "code",
   "execution_count": null,
   "id": "259f8ce0",
   "metadata": {},
   "outputs": [],
   "source": []
  },
  {
   "cell_type": "code",
   "execution_count": null,
   "id": "14a2153a",
   "metadata": {},
   "outputs": [],
   "source": []
  },
  {
   "cell_type": "code",
   "execution_count": null,
   "id": "a8274a64",
   "metadata": {},
   "outputs": [],
   "source": []
  },
  {
   "cell_type": "code",
   "execution_count": null,
   "id": "5c1a8595",
   "metadata": {},
   "outputs": [],
   "source": []
  },
  {
   "cell_type": "code",
   "execution_count": null,
   "id": "9df58cc8",
   "metadata": {},
   "outputs": [],
   "source": []
  },
  {
   "cell_type": "code",
   "execution_count": null,
   "id": "325ccec7",
   "metadata": {},
   "outputs": [],
   "source": []
  }
 ],
 "metadata": {
  "kernelspec": {
   "display_name": "Python 3 (ipykernel)",
   "language": "python",
   "name": "python3"
  },
  "language_info": {
   "codemirror_mode": {
    "name": "ipython",
    "version": 3
   },
   "file_extension": ".py",
   "mimetype": "text/x-python",
   "name": "python",
   "nbconvert_exporter": "python",
   "pygments_lexer": "ipython3",
   "version": "3.11.3"
  }
 },
 "nbformat": 4,
 "nbformat_minor": 5
}
