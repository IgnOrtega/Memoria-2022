{
 "cells": [
  {
   "cell_type": "markdown",
   "id": "9f96e27f",
   "metadata": {},
   "source": [
    "La idea de generar esta variar los grafos, variar los posibles $H$ , variar las muestras. Por que cuando, se realicen estas estimaciones con los métodos no se podrán elegir varias muestras, sólo 1 y por lo tanto se desea estimar \n",
    "que tan mal puede estar la estimacion tomada.\n",
    "\n",
    "# Explicación formal de la etapa de experimentación:\n",
    "En palabras mas claras, dado un contexto desconocido y aleatorio ($G$ y $H$) tenemos un experimento aleatorio que comienza obteniendo una muestra y realizando la estimación, terminando el experimento. Por lo tanto, el error relativo de cada método es una v.a. que tiene una distribución desconocida y se desea encontrar.\n",
    "\n",
    "Notar que cuando los métodos de escalamiento se realicen con fines de estimar algo se obtendra una muestra de tamaño 1 del error relativo y no se sabrá que tan mal está la estimación.\n",
    "\n",
    "Por lo tanto, si realizamos varias veces lo anterior digamos $\\text{veces}=m=100$ (para grafos y $H$ desconocidos y aleatorios ), entonces tendremos una muestra uniforme de tamaño $m=100$. Como esta muestra es uniforme entonces, la distribución de la muestra del error relativo tenderá a la distribución del error relativo, que es el que se quiere estudiar."
   ]
  },
  {
   "cell_type": "code",
   "execution_count": null,
   "id": "34b119aa",
   "metadata": {
    "scrolled": false
   },
   "outputs": [],
   "source": [
    "cd"
   ]
  },
  {
   "cell_type": "code",
   "execution_count": null,
   "id": "53fab797",
   "metadata": {
    "scrolled": false
   },
   "outputs": [],
   "source": [
    "cd Desktop\\portafolio"
   ]
  },
  {
   "cell_type": "code",
   "execution_count": null,
   "id": "94c56abb",
   "metadata": {
    "scrolled": false
   },
   "outputs": [],
   "source": [
    "get_ipython().magic('reset -sf')"
   ]
  },
  {
   "cell_type": "code",
   "execution_count": null,
   "id": "1a9b5837",
   "metadata": {
    "scrolled": false
   },
   "outputs": [],
   "source": []
  },
  {
   "cell_type": "code",
   "execution_count": null,
   "id": "d9607f70",
   "metadata": {
    "scrolled": false
   },
   "outputs": [],
   "source": [
    "from librerias  import alg_sample_v2 as alg_sample\n",
    "from librerias  import alg_fabrica_grafo as alg_grafo\n",
    "import pickle \n",
    "import networkx as nx"
   ]
  },
  {
   "cell_type": "code",
   "execution_count": null,
   "id": "8fa188af",
   "metadata": {
    "scrolled": false
   },
   "outputs": [],
   "source": [
    "\n"
   ]
  },
  {
   "cell_type": "code",
   "execution_count": null,
   "id": "e30dd123",
   "metadata": {},
   "outputs": [],
   "source": [
    "def verificarBipartite(densidad,tipo_grafo, n,parametro,inicio, termino):\n",
    "    direccion=alg_grafo.nombre_ubi_save(densidad, tipo_grafo,parametro)\n",
    "    if tipo_grafo==\"escala\":\n",
    "        alpha_1=\"m\"\n",
    "        alpha=alpha_1+str(int(parametro))        \n",
    "        alfa=str(int(parametro))\n",
    "    else:\n",
    "        alpha_1=\"p\"\n",
    "        alpha=alpha_1+str(int(1/parametro))    \n",
    "        alfa=str(int(1/parametro))\n",
    "\n",
    "    cont=0\n",
    "    for num_graph in range(inicio,termino):   \n",
    "\n",
    "        # cargar grafo\n",
    "        name_graph =\"densidad_\"+densidad+\"graph_n\"+str(n)+alpha+\"n°\"+str(num_graph)\n",
    "        file = open(direccion+name_graph, 'rb')\n",
    "        G= pickle.load(file)\n",
    "        file.close()\n",
    "        \n",
    "        # Verificar si el grafo es bipartito\n",
    "        is_bipartite = nx.is_bipartite(G)\n",
    "\n",
    "        if not is_bipartite:\n",
    "            cont=cont+1\n",
    "        else:    \n",
    "            print(num_graph,\"El grafo es bipartito.\")\n",
    "    print(\"Los grafos no bipartitos son \",cont,\" de un total de \",termino-inicio)"
   ]
  },
  {
   "cell_type": "code",
   "execution_count": null,
   "id": "94665e10",
   "metadata": {},
   "outputs": [],
   "source": []
  },
  {
   "cell_type": "code",
   "execution_count": null,
   "id": "3b8dd521",
   "metadata": {},
   "outputs": [],
   "source": [
    "# aqui voy\n",
    "densidad=\"pesada\"\n",
    "tipo_grafo=\"escala\"\n",
    "n=6*10**3\n",
    "parametro=676\n",
    "inicio, termino=0,10\n",
    "verificarBipartite(densidad,tipo_grafo, n,parametro,inicio, termino)"
   ]
  },
  {
   "cell_type": "code",
   "execution_count": null,
   "id": "18a09569",
   "metadata": {},
   "outputs": [],
   "source": []
  },
  {
   "cell_type": "code",
   "execution_count": null,
   "id": "92dd323c",
   "metadata": {},
   "outputs": [],
   "source": []
  },
  {
   "cell_type": "code",
   "execution_count": null,
   "id": "a80e889b",
   "metadata": {},
   "outputs": [],
   "source": []
  },
  {
   "cell_type": "code",
   "execution_count": null,
   "id": "28df2217",
   "metadata": {},
   "outputs": [],
   "source": []
  },
  {
   "cell_type": "code",
   "execution_count": null,
   "id": "efcf3b87",
   "metadata": {},
   "outputs": [],
   "source": []
  },
  {
   "cell_type": "code",
   "execution_count": null,
   "id": "2e7f44a0",
   "metadata": {},
   "outputs": [],
   "source": []
  },
  {
   "cell_type": "code",
   "execution_count": null,
   "id": "a4ef0591",
   "metadata": {},
   "outputs": [],
   "source": []
  },
  {
   "cell_type": "code",
   "execution_count": null,
   "id": "204ac5a7",
   "metadata": {},
   "outputs": [],
   "source": []
  },
  {
   "cell_type": "markdown",
   "id": "2e2af7c3",
   "metadata": {},
   "source": [
    "# Todas las configuraciones:"
   ]
  },
  {
   "cell_type": "code",
   "execution_count": null,
   "id": "7529fe3a",
   "metadata": {
    "scrolled": false
   },
   "outputs": [],
   "source": [
    "# input comple\n",
    "L_metodo_infec=[\"1\",\"2\",\"3\",\"4\",\"DP\",\"IP\"]\n",
    "L_porc_nodos_infec=[0.01,0.1,0.5, 0.9]\n",
    "\n",
    "L_tipo_sample_p_gral=[\"5\",\"6\",\"7\",\"8\"]\n",
    "L_porc_nodos_muestra=[0.01,0.1,0.5,0.9]\n"
   ]
  },
  {
   "cell_type": "markdown",
   "id": "78ce7d83",
   "metadata": {},
   "source": [
    "\n",
    "### Grafos pesados\n",
    "prob_acept_p_inf = $20 \\% $  \n",
    "cant_acept_p_inf = $600$   \n",
    "prob_acept = $2 \\% $   \n",
    "cant_acept= $60$  \n",
    "\n",
    "### Grafos medios \n",
    "prob_acept_p_inf = $0.6$  \n",
    "cant_acept_p_inf = $0.6 \\cdot min (d_i)$   \n",
    "prob_acept = $0.2$  \n",
    "cant_acept= $ prob\\_acept \\cdot grado\\_min$  \n",
    "\n",
    "\n",
    "\n",
    "### Grafos ligero  \n",
    "prob_acept_p_inf = $1$  \n",
    "cant_acept_p_inf = $100$   \n",
    "prob_acept = $ 0.8$  \n",
    "cant_acept= $100$  \n",
    "\n",
    "Nota: Cada muestra de un grafo ligero se demora $7$ min caso escala y $14$ min caso aleatorio con la configuración de grafo ligero.\n",
    "\n"
   ]
  },
  {
   "cell_type": "markdown",
   "id": "16d197d7",
   "metadata": {},
   "source": [
    "# Grafos pesados:"
   ]
  },
  {
   "cell_type": "code",
   "execution_count": null,
   "id": "55d660e8",
   "metadata": {
    "scrolled": false
   },
   "outputs": [],
   "source": [
    "# aqui voy\n",
    "densidad=\"pesada\"\n",
    "tipo_grafo=\"escala\"\n",
    "n=6*10**3\n",
    "parametro=676\n",
    "inicio, termino=0,1\n",
    "porc=0.01 # mide la prob de aceptacion y la cantidad de aceptados por ola. Tiende a aceptar porc * |V|  por ola\n",
    "\n",
    "\n",
    "#alg_sample.generate_samples(densidad,tipo_grafo,n,parametro,inicio, termino,porc )\n",
    "verificarBipartite(densidad,tipo_grafo, n,parametro,inicio, termino)\n",
    "# 24 2023-05-18 19:35:11.030268 2023-05-18 19:36:13.528147 0:01:02.497879"
   ]
  },
  {
   "cell_type": "code",
   "execution_count": null,
   "id": "d490aadf",
   "metadata": {
    "scrolled": false
   },
   "outputs": [],
   "source": [
    "densidad=\"pesada\"\n",
    "tipo_grafo=\"escala\"\n",
    "n=6*10**3\n",
    "parametro=3000\n",
    "inicio, termino=0,100\n",
    "porc=0.01 # mide la prob de aceptacion y la cantidad de aceptados por ola. Tiende a aceptar porc * |V|  por ola\n",
    "\n",
    "#alg_sample.generate_samples(densidad,tipo_grafo,n,parametro,inicio, termino,porc )\n",
    "verificarBipartite(densidad,tipo_grafo, n,parametro,inicio, termino)"
   ]
  },
  {
   "cell_type": "code",
   "execution_count": null,
   "id": "20a3de87",
   "metadata": {
    "scrolled": false
   },
   "outputs": [],
   "source": []
  },
  {
   "cell_type": "code",
   "execution_count": null,
   "id": "e51d41ca",
   "metadata": {
    "scrolled": false
   },
   "outputs": [],
   "source": [
    "densidad=\"pesada\"\n",
    "tipo_grafo=\"aleatorio\"\n",
    "n=6*10**3\n",
    "parametro=5*10**(-1)\n",
    "inicio, termino=0,100\n",
    "porc=0.01 # mide la prob de aceptacion y la cantidad de aceptados por ola. Tiende a aceptar porc * |V|  por ola\n",
    "#alg_sample.generate_samples(densidad,tipo_grafo,n,parametro,inicio, termino,porc )\n",
    "verificarBipartite(densidad,tipo_grafo, n,parametro,inicio, termino)"
   ]
  },
  {
   "cell_type": "code",
   "execution_count": null,
   "id": "6183f304",
   "metadata": {
    "scrolled": false
   },
   "outputs": [],
   "source": [
    "densidad=\"pesada\"\n",
    "tipo_grafo=\"aleatorio\"\n",
    "n=6*10**3\n",
    "parametro=2*10**(-1)\n",
    "inicio, termino=0,100\n",
    "porc=0.01 # mide la prob de aceptacion y la cantidad de aceptados por ola. Tiende a aceptar porc * |V|  por ola\n",
    "\n",
    "#alg_sample.generate_samples(densidad,tipo_grafo,n,parametro,inicio, termino,porc )\n",
    "verificarBipartite(densidad,tipo_grafo, n,parametro,inicio, termino)"
   ]
  },
  {
   "cell_type": "code",
   "execution_count": null,
   "id": "d04be72e",
   "metadata": {
    "scrolled": false
   },
   "outputs": [],
   "source": []
  },
  {
   "cell_type": "code",
   "execution_count": null,
   "id": "1b05bea4",
   "metadata": {
    "scrolled": false
   },
   "outputs": [],
   "source": [
    "parametro=5*10**(-1)\n",
    "1/parametro"
   ]
  },
  {
   "cell_type": "code",
   "execution_count": null,
   "id": "05e31851",
   "metadata": {
    "scrolled": false
   },
   "outputs": [],
   "source": []
  },
  {
   "cell_type": "markdown",
   "id": "00eda59a",
   "metadata": {},
   "source": [
    "# Grafos media:"
   ]
  },
  {
   "cell_type": "code",
   "execution_count": null,
   "id": "0eee8564",
   "metadata": {
    "scrolled": false
   },
   "outputs": [],
   "source": [
    "densidad=\"media\" \n",
    "tipo_grafo=\"escala\"\n",
    "n=10**4\n",
    "parametro=10\n",
    "inicio, termino=53,100\n",
    "porc=0.01 # mide la prob de aceptacion y la cantidad de aceptados por ola. Tiende a aceptar porc * |V|  por ola\n",
    "\n",
    "#alg_sample.generate_samples(densidad,tipo_grafo,n,parametro,inicio, termino,porc )\n",
    "verificarBipartite(densidad,tipo_grafo, n,parametro,inicio, termino)"
   ]
  },
  {
   "cell_type": "code",
   "execution_count": null,
   "id": "575ced94",
   "metadata": {
    "scrolled": false
   },
   "outputs": [],
   "source": [
    "densidad=\"media\" \n",
    "tipo_grafo=\"escala\"\n",
    "n=10**4\n",
    "parametro=101\n",
    "inicio, termino=0,100\n",
    "porc=0.01 # mide la prob de aceptacion y la cantidad de aceptados por ola. Tiende a aceptar porc * |V|  por ola\n",
    "\n",
    "#alg_sample.generate_samples(densidad,tipo_grafo,n,parametro,inicio, termino,porc )\n",
    "verificarBipartite(densidad,tipo_grafo, n,parametro,inicio, termino)"
   ]
  },
  {
   "cell_type": "code",
   "execution_count": null,
   "id": "f3664458",
   "metadata": {
    "scrolled": false
   },
   "outputs": [],
   "source": []
  },
  {
   "cell_type": "code",
   "execution_count": null,
   "id": "d86bc9a4",
   "metadata": {
    "scrolled": false
   },
   "outputs": [],
   "source": [
    "densidad=\"media\"\n",
    "tipo_grafo=\"aleatorio\"\n",
    "n=10**4\n",
    "parametro=2*10**(-2)\n",
    "inicio, termino=0,100\n",
    "porc=0.01 # mide la prob de aceptacion y la cantidad de aceptados por ola. Tiende a aceptar porc * |V|  por ola\n",
    "\n",
    "#alg_sample.generate_samples(densidad,tipo_grafo,n,parametro,inicio, termino,porc )\n",
    "verificarBipartite(densidad,tipo_grafo, n,parametro,inicio, termino)"
   ]
  },
  {
   "cell_type": "code",
   "execution_count": null,
   "id": "b1f74e00",
   "metadata": {
    "scrolled": false
   },
   "outputs": [],
   "source": [
    "densidad=\"media\"\n",
    "tipo_grafo=\"aleatorio\"\n",
    "n=10**4\n",
    "parametro=2*10**(-3)\n",
    "inicio, termino=0,100\n",
    "porc=0.01 # mide la prob de aceptacion y la cantidad de aceptados por ola. Tiende a aceptar porc * |V|  por ola\n",
    "\n",
    "#alg_sample.generate_samples(densidad,tipo_grafo,n,parametro,inicio, termino,porc )\n",
    "verificarBipartite(densidad,tipo_grafo, n,parametro,inicio, termino)"
   ]
  },
  {
   "cell_type": "code",
   "execution_count": null,
   "id": "adf6b0cc",
   "metadata": {
    "scrolled": false
   },
   "outputs": [],
   "source": []
  },
  {
   "cell_type": "markdown",
   "id": "40848e3c",
   "metadata": {},
   "source": [
    "# Grafos ligeros:"
   ]
  },
  {
   "cell_type": "code",
   "execution_count": null,
   "id": "e4a670af",
   "metadata": {
    "scrolled": false
   },
   "outputs": [],
   "source": [
    "densidad=\"ligera\"\n",
    "tipo_grafo=\"escala\"\n",
    "n=5*10**4\n",
    "parametro=25\n",
    "inicio, termino=0,100\n",
    "porc=0.01 # mide la prob de aceptacion y la cantidad de aceptados por ola. Tiende a aceptar porc * |V|  por ola\n",
    "\n",
    "#alg_sample.generate_samples(densidad,tipo_grafo,n,parametro,inicio, termino,porc )\n",
    "verificarBipartite(densidad,tipo_grafo, n,parametro,inicio, termino)\n",
    "\n",
    "# listo"
   ]
  },
  {
   "cell_type": "code",
   "execution_count": null,
   "id": "605b4f0f",
   "metadata": {
    "scrolled": false
   },
   "outputs": [],
   "source": [
    "densidad=\"ligera\"\n",
    "tipo_grafo=\"escala\"\n",
    "n=5*10**4\n",
    "parametro=37\n",
    "inicio, termino=0,100\n",
    "porc=0.01 # mide la prob de aceptacion y la cantidad de aceptados por ola. Tiende a aceptar porc * |V|  por ola\n",
    "\n",
    "#alg_sample.generate_samples(densidad,tipo_grafo,n,parametro,inicio, termino,porc )\n",
    "verificarBipartite(densidad,tipo_grafo, n,parametro,inicio, termino)"
   ]
  },
  {
   "cell_type": "code",
   "execution_count": null,
   "id": "e955c964",
   "metadata": {
    "scrolled": false
   },
   "outputs": [],
   "source": []
  },
  {
   "cell_type": "code",
   "execution_count": null,
   "id": "4099efc2",
   "metadata": {
    "scrolled": false
   },
   "outputs": [],
   "source": [
    "densidad=\"ligera\"\n",
    "tipo_grafo=\"aleatorio\"\n",
    "n=5*10**4\n",
    "parametro=10**(-3)\n",
    "inicio, termino=0,100\n",
    "porc=0.01 # mide la prob de aceptacion y la cantidad de aceptados por ola. Tiende a aceptar porc * |V|  por ola\n",
    "\n",
    "#alg_sample.generate_samples(densidad,tipo_grafo,n,parametro,inicio, termino,porc )\n",
    "verificarBipartite(densidad,tipo_grafo, n,parametro,inicio, termino)\n",
    "# listo"
   ]
  },
  {
   "cell_type": "code",
   "execution_count": null,
   "id": "9d2dc973",
   "metadata": {
    "scrolled": false
   },
   "outputs": [],
   "source": [
    "densidad=\"ligera\"\n",
    "tipo_grafo=\"aleatorio\"\n",
    "n=5*10**4\n",
    "parametro=1.5*10**(-3)\n",
    "inicio, termino=0,100\n",
    "porc=0.01 # mide la prob de aceptacion y la cantidad de aceptados por ola. Tiende a aceptar porc * |V|  por ola\n",
    "\n",
    "#alg_sample.generate_samples(densidad,tipo_grafo,n,parametro,inicio, termino,porc )\n",
    "verificarBipartite(densidad,tipo_grafo, n,parametro,inicio, termino)\n",
    "# listo"
   ]
  },
  {
   "cell_type": "code",
   "execution_count": null,
   "id": "10494dc7",
   "metadata": {
    "scrolled": false
   },
   "outputs": [],
   "source": []
  },
  {
   "cell_type": "markdown",
   "id": "bd28de77",
   "metadata": {},
   "source": [
    "# Grafos de densidad super ligeros"
   ]
  },
  {
   "cell_type": "code",
   "execution_count": null,
   "id": "5dcd7fde",
   "metadata": {
    "scrolled": false
   },
   "outputs": [],
   "source": [
    "densidad=\"super ligera\" \n",
    "tipo_grafo=\"aleatorio\"\n",
    "n=5*10**4\n",
    "parametro=5*10**(-4)\n",
    "inicio,termino=69,100\n",
    "porc=0.01\n",
    "alg_sample.generate_samples(densidad,tipo_grafo,n,parametro,inicio, termino,porc )"
   ]
  },
  {
   "cell_type": "code",
   "execution_count": null,
   "id": "e3dcfb2e",
   "metadata": {
    "scrolled": true
   },
   "outputs": [],
   "source": [
    "densidad=\"super ligera\" \n",
    "tipo_grafo=\"aleatorio\"\n",
    "n=5*10**4\n",
    "parametro=3*10**(-4)\n",
    "porc=0.01\n",
    "inicio,termino=0,100\n",
    "alg_sample.generate_samples(densidad,tipo_grafo,n,parametro,inicio, termino,porc )"
   ]
  },
  {
   "cell_type": "code",
   "execution_count": null,
   "id": "1c08c465",
   "metadata": {
    "scrolled": true
   },
   "outputs": [],
   "source": [
    "densidad=\"super ligera\" \n",
    "tipo_grafo=\"aleatorio\"\n",
    "n=5*10**4\n",
    "parametro=2*10**(-4)\n",
    "porc=0.01\n",
    "inicio,termino=1,100\n",
    "alg_sample.generate_samples(densidad,tipo_grafo,n,parametro,inicio, termino,porc )"
   ]
  },
  {
   "cell_type": "code",
   "execution_count": null,
   "id": "7292d4b5",
   "metadata": {
    "scrolled": false
   },
   "outputs": [],
   "source": []
  },
  {
   "cell_type": "code",
   "execution_count": null,
   "id": "5f992007",
   "metadata": {
    "scrolled": false
   },
   "outputs": [],
   "source": []
  },
  {
   "cell_type": "code",
   "execution_count": null,
   "id": "94f73ace",
   "metadata": {
    "scrolled": false
   },
   "outputs": [],
   "source": [
    "densidad=\"super ligera\" \n",
    "tipo_grafo=\"escala\"\n",
    "n=5*10**4\n",
    "parametro=13\n",
    "porc=0.01\n",
    "inicio,termino=0,100\n",
    "alg_sample.generate_samples(densidad,tipo_grafo,n,parametro,inicio, termino,porc )"
   ]
  },
  {
   "cell_type": "code",
   "execution_count": null,
   "id": "81991d77",
   "metadata": {
    "scrolled": false
   },
   "outputs": [],
   "source": [
    "densidad=\"super ligera\" \n",
    "tipo_grafo=\"escala\"\n",
    "n=5*10**4\n",
    "parametro=8\n",
    "porc=0.01\n",
    "inicio,termino=0,100\n",
    "alg_sample.generate_samples(densidad,tipo_grafo,n,parametro,inicio, termino,porc )"
   ]
  },
  {
   "cell_type": "code",
   "execution_count": null,
   "id": "d3438dae",
   "metadata": {
    "scrolled": false
   },
   "outputs": [],
   "source": [
    "densidad=\"super ligera\" \n",
    "tipo_grafo=\"escala\"\n",
    "n=5*10**4\n",
    "parametro=5\n",
    "porc=0.01\n",
    "inicio,termino=24,100\n",
    "alg_sample.generate_samples(densidad,tipo_grafo,n,parametro,inicio, termino,porc )"
   ]
  },
  {
   "cell_type": "code",
   "execution_count": null,
   "id": "e9daa29e",
   "metadata": {
    "scrolled": false
   },
   "outputs": [],
   "source": []
  },
  {
   "cell_type": "code",
   "execution_count": null,
   "id": "483b52f3",
   "metadata": {
    "scrolled": false
   },
   "outputs": [],
   "source": []
  },
  {
   "cell_type": "code",
   "execution_count": null,
   "id": "2ad26c0b",
   "metadata": {
    "scrolled": false
   },
   "outputs": [],
   "source": []
  }
 ],
 "metadata": {
  "kernelspec": {
   "display_name": "Python 3 (ipykernel)",
   "language": "python",
   "name": "python3"
  },
  "language_info": {
   "codemirror_mode": {
    "name": "ipython",
    "version": 3
   },
   "file_extension": ".py",
   "mimetype": "text/x-python",
   "name": "python",
   "nbconvert_exporter": "python",
   "pygments_lexer": "ipython3",
   "version": "3.11.3"
  }
 },
 "nbformat": 4,
 "nbformat_minor": 5
}
