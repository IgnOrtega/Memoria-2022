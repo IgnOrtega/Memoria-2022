{
  "nbformat": 4,
  "nbformat_minor": 0,
  "metadata": {
    "colab": {
      "provenance": [],
      "mount_file_id": "14tKQ9SkRI2PLVHL1KRASbd4XcB2vukt4",
      "authorship_tag": "ABX9TyPulBs5hUgFtQhvyICncLGo",
      "include_colab_link": true
    },
    "kernelspec": {
      "name": "python3",
      "display_name": "Python 3"
    },
    "language_info": {
      "name": "python"
    }
  },
  "cells": [
    {
      "cell_type": "markdown",
      "metadata": {
        "id": "view-in-github",
        "colab_type": "text"
      },
      "source": [
        "<a href=\"https://colab.research.google.com/github/IgnOrtega/Memoria-2022/blob/main/Untitled2.ipynb\" target=\"_parent\"><img src=\"https://colab.research.google.com/assets/colab-badge.svg\" alt=\"Open In Colab\"/></a>"
      ]
    },
    {
      "cell_type": "code",
      "source": [
        "%cd .."
      ],
      "metadata": {
        "id": "z_SeBeOuldoP"
      },
      "execution_count": null,
      "outputs": []
    },
    {
      "cell_type": "code",
      "source": [
        "! ls -l"
      ],
      "metadata": {
        "colab": {
          "base_uri": "https://localhost:8080/"
        },
        "id": "-PO2jyBviIRR",
        "outputId": "c3f20125-a119-402e-e68c-ec0219f33e7d"
      },
      "execution_count": 13,
      "outputs": [
        {
          "output_type": "stream",
          "name": "stdout",
          "text": [
            "[Errno 2] No such file or directory: '/drive'\n",
            "/root\n"
          ]
        }
      ]
    },
    {
      "cell_type": "code",
      "execution_count": 10,
      "metadata": {
        "id": "hSfs7-S7hNiO"
      },
      "outputs": [],
      "source": [
        "%cd content/drive/MyDrive/codigo_part3"
      ]
    },
    {
      "cell_type": "code",
      "source": [
        "\n",
        "# cargar librerias\n",
        "\n",
        "# definir librerias\n",
        "import random\n",
        "import numpy as np\n",
        "import pandas as pd\n",
        "\n",
        "import numpy as np\n",
        "import seaborn as sns\n",
        "import matplotlib.pyplot as plt\n",
        "import sys\n",
        "import networkx as nx\n",
        "import pickle \n",
        "from collections import Counter\n",
        "import csv\n",
        "\n",
        "import networkx.algorithms.isomorphism as iso\n",
        "\n",
        "import scipy.io as sio\n",
        "import numpy as np\n",
        "from datetime import datetime\n",
        "\n",
        "import seaborn as sns\n",
        "import pandas as pd\n",
        "import numpy as np\n",
        "import io\n",
        "import requests\n",
        "import warnings\n",
        "warnings.filterwarnings('ignore', '.*do not.*', )\n",
        "warnings.warn('DelftStack')\n",
        "warnings.warn('Do not show this message')\n",
        "import warnings\n",
        "warnings.filterwarnings('ignore')\n",
        "\n",
        "# cd :  usar cd para fijar y ver la direccion en la que se esta.\n",
        "\n",
        "#from librerias  import algoritmos_sample as alg_sample\n",
        "#from librerias  import algoritmos_generales as alg_gral\n",
        "#from librerias  import algoritmos_freq as alg_freq\n",
        "#from librerias  import alg_fabrica_grafo as alg_grafo\n",
        "#from IPython import get_ipython"
      ],
      "metadata": {
        "colab": {
          "base_uri": "https://localhost:8080/"
        },
        "id": "PGBF6ekyiAkR",
        "outputId": "fc841bed-44e9-4957-80c7-1dd6df359b1a"
      },
      "execution_count": 34,
      "outputs": [
        {
          "output_type": "stream",
          "name": "stderr",
          "text": [
            "<ipython-input-34-99ac00cbb0ca>:30: UserWarning: DelftStack\n",
            "  warnings.warn('DelftStack')\n"
          ]
        }
      ]
    },
    {
      "cell_type": "code",
      "source": [
        "from librerias  import algoritmos_infectar as alg_infec\n",
        "from librerias  import alg_sample_v2 as alg_sample\n",
        "from librerias  import algoritmos_frecuentista as alg_freq\n",
        "from librerias  import alg_fabrica_grafo as alg_grafo"
      ],
      "metadata": {
        "id": "7bB07DqPiU88"
      },
      "execution_count": 35,
      "outputs": []
    },
    {
      "cell_type": "code",
      "source": [
        "if False:\n",
        "    # cargar grafo\n",
        "    archivo_nombre=\"Cit-HepPh.txt\"\n",
        "    archivo = open(archivo_nombre,mode='r')\n",
        "    texto = archivo.read()\n",
        "    archivo.close()\n",
        "    # Podemos mostrar en pantalla el archivo que se acaba de cargar\n",
        "    texto[0:40]\n",
        "archivo_nombre=\"graph_datasets/Cit-HepPh.txt\"\n",
        "datos = np.loadtxt(archivo_nombre,delimiter='\t')\n",
        "datos = datos.astype(int)\n",
        "\n",
        "import networkx as nx\n",
        "G = nx.Graph()\n",
        "G.add_edges_from(datos)    \n",
        "\n",
        "G=nx.convert_node_labels_to_integers(G)"
      ],
      "metadata": {
        "id": "bd_8Zyefijd8"
      },
      "execution_count": 40,
      "outputs": []
    },
    {
      "cell_type": "code",
      "source": [],
      "metadata": {
        "id": "5Db9UNJDjTTs"
      },
      "execution_count": 41,
      "outputs": []
    },
    {
      "cell_type": "code",
      "source": [
        "L_tipo_sample_p_gral=[\"5\",\"6\",\"7\",\"8\"]\n",
        "L_porc_nodos_muestra=[0.1,0.5,0.9]\n",
        "\n",
        "L_tipo_sample_p_gral=[\"7\"]\n",
        "L_porc_nodos_muestra=[0.1]\n",
        "cant_nodos"
      ],
      "metadata": {
        "colab": {
          "base_uri": "https://localhost:8080/"
        },
        "id": "53ax4D77jtok",
        "outputId": "040bf387-6d1d-401e-9468-aad7e9221963"
      },
      "execution_count": 42,
      "outputs": [
        {
          "output_type": "execute_result",
          "data": {
            "text/plain": [
              "34546"
            ]
          },
          "metadata": {},
          "execution_count": 42
        }
      ]
    },
    {
      "cell_type": "code",
      "source": [
        "import numba\n",
        "print(numba.__version__)"
      ],
      "metadata": {
        "colab": {
          "base_uri": "https://localhost:8080/"
        },
        "id": "9bWTHgISmhpC",
        "outputId": "380b2395-e0e8-40c9-8ebe-65cf4f9a36e5"
      },
      "execution_count": 43,
      "outputs": [
        {
          "output_type": "stream",
          "name": "stdout",
          "text": [
            "0.56.4\n"
          ]
        }
      ]
    },
    {
      "cell_type": "code",
      "source": [
        "from numba import jit\n",
        "@jit(nopython=True)\n",
        "def met_muestra_tip_2(G,cant_nodos_dist,list_nei_G,dic_grados_G): # RW  # 11 -10 -2022 RW sin repetición\n",
        "    nodos_G=list(G.nodes())\n",
        "    cant_nodos=len(nodos_G)\n",
        "    cant_saltos=cant_nodos_dist-1\n",
        "    \n",
        "    # Agregar un nodo inicial adecuado\n",
        "    # revisar si el nodo es aislado\n",
        "    while True:\n",
        "        \n",
        "        start_nodo=random.sample(nodos_G, 1);\n",
        "        start_nodo=start_nodo[0];\n",
        "        x_i=start_nodo;\n",
        "        \n",
        "        if dic_grados_G[x_i]!=0:\n",
        "            break\n",
        "    nodos_muestra=[]            \n",
        "    # Agregar un nodo x1,x2,...,        \n",
        "    nodos_muestra.append(x_i)\n",
        "    \n",
        "    for i in range(cant_saltos):  # ya se agrego un nodo a la muestra\n",
        "        # elegimos un vecino del nodo x_i que se convertirá en el nodo x_i\n",
        "        neig_x_i=list_nei_G[x_i]        \n",
        "        # si i+1 es menor que el largo de la muestra necesaria, el algoritmo sigue\n",
        "        \n",
        "        x_i=random.sample(neig_x_i, 1)\n",
        "        x_i=x_i[0]\n",
        "        nodos_muestra.append(x_i)\n",
        "\n",
        "        \n",
        "    cant_aprox_hop_need,barra_k=compute_hop_recomendado_v2(G,cant_nodos_dist,nodos_muestra,dic_grados_G)\n",
        "    hop_faltantes=cant_aprox_hop_need-cant_saltos\n",
        "    \n",
        "    for i in range(hop_faltantes):\n",
        "        # elegimos un vecino del nodo x_i que se convertirá en el nodo x_i\n",
        "        neig_x_i=list_nei_G[x_i]\n",
        "        # si i+1 es menor que el largo de la muestra necesaria, el algoritmo sigue\n",
        "        \n",
        "        x_i=random.sample(neig_x_i, 1)\n",
        "        x_i=x_i[0]\n",
        "        nodos_muestra.append(x_i)\n",
        "        \n",
        "    nodos_muestra=list(nodos_muestra)\n",
        "    cant_aprox_hop_need_2,barra_k=compute_hop_recomendado_v2(G,cant_nodos_dist,nodos_muestra,dic_grados_G)\n",
        "    est_2E= barra_k*cant_nodos\n",
        "    muestra_sr=list(set(nodos_muestra))\n",
        "\n",
        "    return nodos_muestra,muestra_sr, est_2E,cant_aprox_hop_need\n",
        "                \n",
        "\n"
      ],
      "metadata": {
        "id": "0apRLAiPmhsP"
      },
      "execution_count": 45,
      "outputs": []
    },
    {
      "cell_type": "code",
      "source": [
        "dic_grados_G=dict(G.degree( list(G.nodes()) ))\n",
        "list_nei_G=[]\n",
        "for x_i in list(G.nodes()):\n",
        "    list_nei_G.append(set(G.neighbors(x_i)))\n",
        "\n",
        "dict_nei_G={x_i:set(G.neighbors(x_i))  for x_i in list(G.nodes())}    \n",
        "cant_nodos=len(list(G.nodes()))    \n",
        "prob_acept_p_inf,cant_acept_p_inf=0.5, 50\n",
        "\n",
        "prob_acept,cant_acept=0.5, 50\n",
        "est_2E, cant_aprox_hop_need =0,0"
      ],
      "metadata": {
        "id": "MH9fPqf_nSJe"
      },
      "execution_count": null,
      "outputs": []
    },
    {
      "cell_type": "code",
      "source": [
        "cant_nodos_G=len(list(G.nodes()))\n",
        "\n",
        "for i in range(10):\n",
        "    for tipo_muestreo in L_tipo_sample_p_gral:\n",
        "        for porc_nodos in L_porc_nodos_muestra:\n",
        "            cant_nodos_dist=int(porc_nodos*cant_nodos_G)\n",
        "            input_sm=[0]*7\n",
        "            input_sm[0]=G\n",
        "            input_sm[1]=tipo_muestreo\n",
        "            input_sm[2]=porc_nodos\n",
        "            input_sm[3]=list_nei_G\n",
        "            input_sm[4]=dic_grados_G\n",
        "            input_sm[5]=prob_acept\n",
        "            input_sm[6]=cant_acept                \n",
        "            met_muestra_tip_2(G,cant_nodos_dist,list_nei_G,dic_grados_G)"
      ],
      "metadata": {
        "colab": {
          "base_uri": "https://localhost:8080/",
          "height": 432
        },
        "id": "BVnATbeYmhvw",
        "outputId": "8a040c8c-4d3d-4e91-96fe-e8e37af24873"
      },
      "execution_count": 47,
      "outputs": [
        {
          "output_type": "error",
          "ename": "TypingError",
          "evalue": "ignored",
          "traceback": [
            "\u001b[0;31m---------------------------------------------------------------------------\u001b[0m",
            "\u001b[0;31mTypingError\u001b[0m                               Traceback (most recent call last)",
            "\u001b[0;32m<ipython-input-47-81281e99f678>\u001b[0m in \u001b[0;36m<module>\u001b[0;34m\u001b[0m\n\u001b[1;32m     13\u001b[0m             \u001b[0minput_sm\u001b[0m\u001b[0;34m[\u001b[0m\u001b[0;36m5\u001b[0m\u001b[0;34m]\u001b[0m\u001b[0;34m=\u001b[0m\u001b[0mprob_acept\u001b[0m\u001b[0;34m\u001b[0m\u001b[0;34m\u001b[0m\u001b[0m\n\u001b[1;32m     14\u001b[0m             \u001b[0minput_sm\u001b[0m\u001b[0;34m[\u001b[0m\u001b[0;36m6\u001b[0m\u001b[0;34m]\u001b[0m\u001b[0;34m=\u001b[0m\u001b[0mcant_acept\u001b[0m\u001b[0;34m\u001b[0m\u001b[0;34m\u001b[0m\u001b[0m\n\u001b[0;32m---> 15\u001b[0;31m             \u001b[0mmet_muestra_tip_2\u001b[0m\u001b[0;34m(\u001b[0m\u001b[0mG\u001b[0m\u001b[0;34m,\u001b[0m\u001b[0mcant_nodos_dist\u001b[0m\u001b[0;34m,\u001b[0m\u001b[0mlist_nei_G\u001b[0m\u001b[0;34m,\u001b[0m\u001b[0mdic_grados_G\u001b[0m\u001b[0;34m)\u001b[0m\u001b[0;34m\u001b[0m\u001b[0;34m\u001b[0m\u001b[0m\n\u001b[0m",
            "\u001b[0;32m/usr/local/lib/python3.8/dist-packages/numba/core/dispatcher.py\u001b[0m in \u001b[0;36m_compile_for_args\u001b[0;34m(self, *args, **kws)\u001b[0m\n\u001b[1;32m    466\u001b[0m                 \u001b[0me\u001b[0m\u001b[0;34m.\u001b[0m\u001b[0mpatch_message\u001b[0m\u001b[0;34m(\u001b[0m\u001b[0mmsg\u001b[0m\u001b[0;34m)\u001b[0m\u001b[0;34m\u001b[0m\u001b[0;34m\u001b[0m\u001b[0m\n\u001b[1;32m    467\u001b[0m \u001b[0;34m\u001b[0m\u001b[0m\n\u001b[0;32m--> 468\u001b[0;31m             \u001b[0merror_rewrite\u001b[0m\u001b[0;34m(\u001b[0m\u001b[0me\u001b[0m\u001b[0;34m,\u001b[0m \u001b[0;34m'typing'\u001b[0m\u001b[0;34m)\u001b[0m\u001b[0;34m\u001b[0m\u001b[0;34m\u001b[0m\u001b[0m\n\u001b[0m\u001b[1;32m    469\u001b[0m         \u001b[0;32mexcept\u001b[0m \u001b[0merrors\u001b[0m\u001b[0;34m.\u001b[0m\u001b[0mUnsupportedError\u001b[0m \u001b[0;32mas\u001b[0m \u001b[0me\u001b[0m\u001b[0;34m:\u001b[0m\u001b[0;34m\u001b[0m\u001b[0;34m\u001b[0m\u001b[0m\n\u001b[1;32m    470\u001b[0m             \u001b[0;31m# Something unsupported is present in the user code, add help info\u001b[0m\u001b[0;34m\u001b[0m\u001b[0;34m\u001b[0m\u001b[0;34m\u001b[0m\u001b[0m\n",
            "\u001b[0;32m/usr/local/lib/python3.8/dist-packages/numba/core/dispatcher.py\u001b[0m in \u001b[0;36merror_rewrite\u001b[0;34m(e, issue_type)\u001b[0m\n\u001b[1;32m    407\u001b[0m                 \u001b[0;32mraise\u001b[0m \u001b[0me\u001b[0m\u001b[0;34m\u001b[0m\u001b[0;34m\u001b[0m\u001b[0m\n\u001b[1;32m    408\u001b[0m             \u001b[0;32melse\u001b[0m\u001b[0;34m:\u001b[0m\u001b[0;34m\u001b[0m\u001b[0;34m\u001b[0m\u001b[0m\n\u001b[0;32m--> 409\u001b[0;31m                 \u001b[0;32mraise\u001b[0m \u001b[0me\u001b[0m\u001b[0;34m.\u001b[0m\u001b[0mwith_traceback\u001b[0m\u001b[0;34m(\u001b[0m\u001b[0;32mNone\u001b[0m\u001b[0;34m)\u001b[0m\u001b[0;34m\u001b[0m\u001b[0;34m\u001b[0m\u001b[0m\n\u001b[0m\u001b[1;32m    410\u001b[0m \u001b[0;34m\u001b[0m\u001b[0m\n\u001b[1;32m    411\u001b[0m         \u001b[0margtypes\u001b[0m \u001b[0;34m=\u001b[0m \u001b[0;34m[\u001b[0m\u001b[0;34m]\u001b[0m\u001b[0;34m\u001b[0m\u001b[0;34m\u001b[0m\u001b[0m\n",
            "\u001b[0;31mTypingError\u001b[0m: Failed in nopython mode pipeline (step: nopython frontend)\nNameError: name 'compute_hop_recomendado_v2' is not defined \n\nThis error may have been caused by the following argument(s):\n- argument 0: Cannot determine Numba type of <class 'networkx.classes.graph.Graph'>\n- argument 3: Cannot determine Numba type of <class 'dict'>\n"
          ]
        }
      ]
    },
    {
      "cell_type": "code",
      "source": [],
      "metadata": {
        "id": "S_8IDAMmmhyI"
      },
      "execution_count": null,
      "outputs": []
    },
    {
      "cell_type": "code",
      "source": [],
      "metadata": {
        "id": "lsY3jALemh05"
      },
      "execution_count": null,
      "outputs": []
    },
    {
      "cell_type": "code",
      "source": [],
      "metadata": {
        "id": "RerIwi5omh4J"
      },
      "execution_count": null,
      "outputs": []
    },
    {
      "cell_type": "code",
      "source": [],
      "metadata": {
        "id": "AcvtBkEPmh6r"
      },
      "execution_count": null,
      "outputs": []
    },
    {
      "cell_type": "code",
      "source": [],
      "metadata": {
        "id": "m5crInfOlR_g"
      },
      "execution_count": null,
      "outputs": []
    }
  ]
}